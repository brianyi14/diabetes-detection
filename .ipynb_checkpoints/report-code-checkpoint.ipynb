{
 "cells": [
  {
   "cell_type": "code",
   "execution_count": 3,
   "metadata": {},
   "outputs": [],
   "source": [
    "# !jupyter nbconvert --to pdf final-project.ipynb"
   ]
  },
  {
   "cell_type": "markdown",
   "metadata": {},
   "source": [
    "# Final Project: A Study in Diabetes Detection\n",
    "### Author: Brian Yi"
   ]
  },
  {
   "cell_type": "code",
   "execution_count": 1,
   "metadata": {},
   "outputs": [],
   "source": [
    "# Import modules\n",
    "import pandas as pd\n",
    "import numpy as np\n",
    "import matplotlib.pyplot as plt\n",
    "%matplotlib inline\n",
    "import seaborn as sns\n",
    "import warnings\n",
    "warnings.filterwarnings('ignore')\n",
    "# warnings.filterwarnings(\"ignore\", message=\"numpy.dtype size changed\")\n",
    "# warnings.filterwarnings(\"ignore\", message=\"numpy.ufunc size changed\")"
   ]
  },
  {
   "cell_type": "markdown",
   "metadata": {},
   "source": [
    "## Extract Labels"
   ]
  },
  {
   "cell_type": "code",
   "execution_count": 2,
   "metadata": {},
   "outputs": [
    {
     "data": {
      "text/html": [
       "<div>\n",
       "<style scoped>\n",
       "    .dataframe tbody tr th:only-of-type {\n",
       "        vertical-align: middle;\n",
       "    }\n",
       "\n",
       "    .dataframe tbody tr th {\n",
       "        vertical-align: top;\n",
       "    }\n",
       "\n",
       "    .dataframe thead th {\n",
       "        text-align: right;\n",
       "    }\n",
       "</style>\n",
       "<table border=\"1\" class=\"dataframe\">\n",
       "  <thead>\n",
       "    <tr style=\"text-align: right;\">\n",
       "      <th></th>\n",
       "      <th>SEQN</th>\n",
       "      <th>DIQ010</th>\n",
       "    </tr>\n",
       "  </thead>\n",
       "  <tbody>\n",
       "    <tr>\n",
       "      <td>0</td>\n",
       "      <td>83732.0</td>\n",
       "      <td>1.0</td>\n",
       "    </tr>\n",
       "    <tr>\n",
       "      <td>1</td>\n",
       "      <td>83733.0</td>\n",
       "      <td>2.0</td>\n",
       "    </tr>\n",
       "    <tr>\n",
       "      <td>2</td>\n",
       "      <td>83734.0</td>\n",
       "      <td>1.0</td>\n",
       "    </tr>\n",
       "    <tr>\n",
       "      <td>3</td>\n",
       "      <td>83735.0</td>\n",
       "      <td>2.0</td>\n",
       "    </tr>\n",
       "    <tr>\n",
       "      <td>4</td>\n",
       "      <td>83736.0</td>\n",
       "      <td>2.0</td>\n",
       "    </tr>\n",
       "  </tbody>\n",
       "</table>\n",
       "</div>"
      ],
      "text/plain": [
       "      SEQN  DIQ010\n",
       "0  83732.0     1.0\n",
       "1  83733.0     2.0\n",
       "2  83734.0     1.0\n",
       "3  83735.0     2.0\n",
       "4  83736.0     2.0"
      ]
     },
     "execution_count": 2,
     "metadata": {},
     "output_type": "execute_result"
    }
   ],
   "source": [
    "demographics_raw = pd.read_sas('Data/Demographics/DEMO_I.XPT')\n",
    "diabetes_raw = pd.read_sas('Data/Questionnaire/DIQ_I.XPT')\n",
    "\n",
    "# Replace pre-diabetics as non-diabetics\n",
    "diabetes = diabetes_raw[diabetes_raw.DIQ010 != 9].replace({'DIQ010': 3.0}, {'DIQ010': 2.0})\n",
    "\n",
    "# Create labels\n",
    "labels = diabetes[['SEQN', 'DIQ010']]\n",
    "labels.head()"
   ]
  },
  {
   "cell_type": "markdown",
   "metadata": {},
   "source": [
    "# Non-invasive Model"
   ]
  },
  {
   "cell_type": "markdown",
   "metadata": {},
   "source": [
    "## Extract and Explore Features"
   ]
  },
  {
   "cell_type": "markdown",
   "metadata": {},
   "source": [
    "**Keep in mind that any results seen while exploring variables is not necessarily statistically significant. This exploratory bar/boxplot graphing is purely to see whether there is a distinction between diabetic and non-diabetic populations such that the feature can be useful in the model.**"
   ]
  },
  {
   "cell_type": "markdown",
   "metadata": {},
   "source": [
    "### Age - RIDAGEYR"
   ]
  },
  {
   "cell_type": "markdown",
   "metadata": {},
   "source": [
    "I remove people under 18 since their bodies are also not fully developed and may have other confounding factors. Furthermore, diabeties is much more prevalent in age groups above 18."
   ]
  },
  {
   "cell_type": "code",
   "execution_count": 3,
   "metadata": {},
   "outputs": [
    {
     "data": {
      "text/html": [
       "<div>\n",
       "<style scoped>\n",
       "    .dataframe tbody tr th:only-of-type {\n",
       "        vertical-align: middle;\n",
       "    }\n",
       "\n",
       "    .dataframe tbody tr th {\n",
       "        vertical-align: top;\n",
       "    }\n",
       "\n",
       "    .dataframe thead th {\n",
       "        text-align: right;\n",
       "    }\n",
       "</style>\n",
       "<table border=\"1\" class=\"dataframe\">\n",
       "  <thead>\n",
       "    <tr style=\"text-align: right;\">\n",
       "      <th></th>\n",
       "      <th>SEQN</th>\n",
       "      <th>RIDAGEYR</th>\n",
       "    </tr>\n",
       "  </thead>\n",
       "  <tbody>\n",
       "    <tr>\n",
       "      <td>0</td>\n",
       "      <td>83732.0</td>\n",
       "      <td>62.0</td>\n",
       "    </tr>\n",
       "    <tr>\n",
       "      <td>1</td>\n",
       "      <td>83733.0</td>\n",
       "      <td>53.0</td>\n",
       "    </tr>\n",
       "    <tr>\n",
       "      <td>2</td>\n",
       "      <td>83734.0</td>\n",
       "      <td>78.0</td>\n",
       "    </tr>\n",
       "    <tr>\n",
       "      <td>3</td>\n",
       "      <td>83735.0</td>\n",
       "      <td>56.0</td>\n",
       "    </tr>\n",
       "    <tr>\n",
       "      <td>4</td>\n",
       "      <td>83736.0</td>\n",
       "      <td>42.0</td>\n",
       "    </tr>\n",
       "  </tbody>\n",
       "</table>\n",
       "</div>"
      ],
      "text/plain": [
       "      SEQN  RIDAGEYR\n",
       "0  83732.0      62.0\n",
       "1  83733.0      53.0\n",
       "2  83734.0      78.0\n",
       "3  83735.0      56.0\n",
       "4  83736.0      42.0"
      ]
     },
     "execution_count": 3,
     "metadata": {},
     "output_type": "execute_result"
    }
   ],
   "source": [
    "age = demographics_raw[['SEQN','RIDAGEYR']]\n",
    "age = age[age.RIDAGEYR >= 18]\n",
    "age.head()"
   ]
  },
  {
   "cell_type": "code",
   "execution_count": 4,
   "metadata": {
    "scrolled": true
   },
   "outputs": [
    {
     "data": {
      "image/png": "[encoded data removed]",
      "text/plain": [
       "<Figure size 432x288 with 1 Axes>"
      ]
     },
     "metadata": {
      "needs_background": "light"
     },
     "output_type": "display_data"
    }
   ],
   "source": [
    "ax = sns.distplot(age.RIDAGEYR.dropna())\n",
    "ax.set(title='Age Feature Distribution',\n",
    "       xlabel='Age');"
   ]
  },
  {
   "cell_type": "markdown",
   "metadata": {},
   "source": [
    "Since age is a numerical variable, I use a boxplot to see if there is a difference in median age between diabetics and non-diabetics."
   ]
  },
  {
   "cell_type": "code",
   "execution_count": 5,
   "metadata": {
    "scrolled": false
   },
   "outputs": [
    {
     "data": {
      "image/png": "[encoded data removed]",
      "text/plain": [
       "<Figure size 432x288 with 1 Axes>"
      ]
     },
     "metadata": {
      "needs_background": "light"
     },
     "output_type": "display_data"
    }
   ],
   "source": [
    "tmp = pd.merge(labels, age, how='left', on='SEQN')\n",
    "tmp = tmp.drop(['SEQN'], axis=1)\n",
    "\n",
    "ax = sns.boxplot(x='DIQ010', y='RIDAGEYR', data=tmp, palette=sns.color_palette('Paired'))\n",
    "\n",
    "medians = tmp.groupby(['DIQ010'])['RIDAGEYR'].median().values\n",
    "median_labels = [str(np.round(s, 2)) for s in medians]\n",
    "pos = range(len(medians))\n",
    "\n",
    "for tick, label in zip(pos, ax.get_xticklabels()):\n",
    "    ax.text(pos[tick], medians[tick]+1, median_labels[tick], \n",
    "            horizontalalignment='center', size='medium', color='w', weight='semibold')\n",
    "\n",
    "ax.set(title='Age and Diabetes',\n",
    "       xlabel=None,\n",
    "       xticklabels=['Diabetic', 'Non-diabetic'],\n",
    "       ylabel='Age');"
   ]
  },
  {
   "cell_type": "markdown",
   "metadata": {},
   "source": [
    "Diabetics have a higher median age as expected."
   ]
  },
  {
   "cell_type": "markdown",
   "metadata": {},
   "source": [
    "### Race - RIDRETH1"
   ]
  },
  {
   "cell_type": "code",
   "execution_count": 6,
   "metadata": {},
   "outputs": [
    {
     "data": {
      "text/html": [
       "<div>\n",
       "<style scoped>\n",
       "    .dataframe tbody tr th:only-of-type {\n",
       "        vertical-align: middle;\n",
       "    }\n",
       "\n",
       "    .dataframe tbody tr th {\n",
       "        vertical-align: top;\n",
       "    }\n",
       "\n",
       "    .dataframe thead th {\n",
       "        text-align: right;\n",
       "    }\n",
       "</style>\n",
       "<table border=\"1\" class=\"dataframe\">\n",
       "  <thead>\n",
       "    <tr style=\"text-align: right;\">\n",
       "      <th></th>\n",
       "      <th>SEQN</th>\n",
       "      <th>RIDRETH3</th>\n",
       "    </tr>\n",
       "  </thead>\n",
       "  <tbody>\n",
       "    <tr>\n",
       "      <td>0</td>\n",
       "      <td>83732.0</td>\n",
       "      <td>3.0</td>\n",
       "    </tr>\n",
       "    <tr>\n",
       "      <td>1</td>\n",
       "      <td>83733.0</td>\n",
       "      <td>3.0</td>\n",
       "    </tr>\n",
       "    <tr>\n",
       "      <td>2</td>\n",
       "      <td>83734.0</td>\n",
       "      <td>3.0</td>\n",
       "    </tr>\n",
       "    <tr>\n",
       "      <td>3</td>\n",
       "      <td>83735.0</td>\n",
       "      <td>3.0</td>\n",
       "    </tr>\n",
       "    <tr>\n",
       "      <td>4</td>\n",
       "      <td>83736.0</td>\n",
       "      <td>4.0</td>\n",
       "    </tr>\n",
       "  </tbody>\n",
       "</table>\n",
       "</div>"
      ],
      "text/plain": [
       "      SEQN  RIDRETH3\n",
       "0  83732.0       3.0\n",
       "1  83733.0       3.0\n",
       "2  83734.0       3.0\n",
       "3  83735.0       3.0\n",
       "4  83736.0       4.0"
      ]
     },
     "execution_count": 6,
     "metadata": {},
     "output_type": "execute_result"
    }
   ],
   "source": [
    "race = demographics_raw[['SEQN','RIDRETH3']]\n",
    "race.head()"
   ]
  },
  {
   "cell_type": "code",
   "execution_count": 7,
   "metadata": {},
   "outputs": [
    {
     "data": {
      "image/png": "[encoded data removed]",
      "text/plain": [
       "<Figure size 432x288 with 1 Axes>"
      ]
     },
     "metadata": {
      "needs_background": "light"
     },
     "output_type": "display_data"
    }
   ],
   "source": [
    "ax = sns.countplot(race.RIDRETH3.dropna(), palette=sns.color_palette('Paired'))\n",
    "ax.set(title='Race Feature Distribution',\n",
    "       xlabel='Race',\n",
    "       xticklabels=['Mexican', 'Other Hispanic', 'White', 'Black', 'Asian', 'Other'],\n",
    "       ylabel='Count');"
   ]
  },
  {
   "cell_type": "markdown",
   "metadata": {},
   "source": [
    "Since race is a categorical variable, I use a barplot to see the percent within each race that is diabetic."
   ]
  },
  {
   "cell_type": "code",
   "execution_count": 8,
   "metadata": {
    "scrolled": true
   },
   "outputs": [
    {
     "data": {
      "image/png": "[encoded data removed]",
      "text/plain": [
       "<Figure size 432x288 with 1 Axes>"
      ]
     },
     "metadata": {
      "needs_background": "light"
     },
     "output_type": "display_data"
    }
   ],
   "source": [
    "tmp = pd.merge(labels, race, how='left', on='SEQN')\n",
    "tmp = (tmp.loc[:, ['DIQ010', 'RIDRETH3']]\n",
    "                .groupby(['RIDRETH3', 'DIQ010'])\n",
    "                .size()\n",
    "                .unstack(fill_value=0.0)\n",
    "                .reset_index()\n",
    "                .assign(Percent = lambda x: x[1.0] / (x[1.0]+x[2.0])))\n",
    "\n",
    "fig, ax = plt.subplots()\n",
    "ax = sns.barplot(x='RIDRETH3', y='Percent', data=tmp, palette=sns.color_palette('Paired'))\n",
    "\n",
    "for index, row in tmp.iterrows():\n",
    "    ax.text(row.name, row.Percent + .001, '{:.1%}'.format(row.Percent),\n",
    "            color='black', ha='center')\n",
    "    \n",
    "ax.set(title='Race and Diabetes',\n",
    "       xlabel='Race',\n",
    "       xticklabels=['Mexican', 'Other Hispanic', 'White', 'Black', 'Asian', 'Other'],\n",
    "       ylabel='Diabetic',\n",
    "       yticklabels=['{:,.0%}'.format(x) for x in ax.get_yticks()]);"
   ]
  },
  {
   "cell_type": "markdown",
   "metadata": {},
   "source": [
    "Different races have different percentages of diabetics. The Asian and White populations are about 7% diabetic while the Mexican, Other Hispanic, and Black populations are at a higher percentage of 10% diabetic."
   ]
  },
  {
   "cell_type": "markdown",
   "metadata": {},
   "source": [
    "### Gender - RIAGENDR"
   ]
  },
  {
   "cell_type": "code",
   "execution_count": 9,
   "metadata": {},
   "outputs": [
    {
     "data": {
      "text/html": [
       "<div>\n",
       "<style scoped>\n",
       "    .dataframe tbody tr th:only-of-type {\n",
       "        vertical-align: middle;\n",
       "    }\n",
       "\n",
       "    .dataframe tbody tr th {\n",
       "        vertical-align: top;\n",
       "    }\n",
       "\n",
       "    .dataframe thead th {\n",
       "        text-align: right;\n",
       "    }\n",
       "</style>\n",
       "<table border=\"1\" class=\"dataframe\">\n",
       "  <thead>\n",
       "    <tr style=\"text-align: right;\">\n",
       "      <th></th>\n",
       "      <th>SEQN</th>\n",
       "      <th>RIAGENDR</th>\n",
       "    </tr>\n",
       "  </thead>\n",
       "  <tbody>\n",
       "    <tr>\n",
       "      <td>0</td>\n",
       "      <td>83732.0</td>\n",
       "      <td>1.0</td>\n",
       "    </tr>\n",
       "    <tr>\n",
       "      <td>1</td>\n",
       "      <td>83733.0</td>\n",
       "      <td>1.0</td>\n",
       "    </tr>\n",
       "    <tr>\n",
       "      <td>2</td>\n",
       "      <td>83734.0</td>\n",
       "      <td>1.0</td>\n",
       "    </tr>\n",
       "    <tr>\n",
       "      <td>3</td>\n",
       "      <td>83735.0</td>\n",
       "      <td>2.0</td>\n",
       "    </tr>\n",
       "    <tr>\n",
       "      <td>4</td>\n",
       "      <td>83736.0</td>\n",
       "      <td>2.0</td>\n",
       "    </tr>\n",
       "  </tbody>\n",
       "</table>\n",
       "</div>"
      ],
      "text/plain": [
       "      SEQN  RIAGENDR\n",
       "0  83732.0       1.0\n",
       "1  83733.0       1.0\n",
       "2  83734.0       1.0\n",
       "3  83735.0       2.0\n",
       "4  83736.0       2.0"
      ]
     },
     "execution_count": 9,
     "metadata": {},
     "output_type": "execute_result"
    }
   ],
   "source": [
    "gender = demographics_raw[['SEQN','RIAGENDR']]\n",
    "gender.head()"
   ]
  },
  {
   "cell_type": "code",
   "execution_count": 10,
   "metadata": {},
   "outputs": [
    {
     "data": {
      "image/png": "[encoded data removed]",
      "text/plain": [
       "<Figure size 432x288 with 1 Axes>"
      ]
     },
     "metadata": {
      "needs_background": "light"
     },
     "output_type": "display_data"
    }
   ],
   "source": [
    "ax = sns.countplot(gender.RIAGENDR.dropna(), palette=sns.color_palette('Paired'))\n",
    "ax.set(title='Gender Feature Distribution',\n",
    "       xlabel='Gender',\n",
    "       xticklabels=['Male', 'Female'],\n",
    "       ylabel='Count');"
   ]
  },
  {
   "cell_type": "markdown",
   "metadata": {},
   "source": [
    "Since gender is a categorical variable, I use a barplot to see the percent within each gender that is diabetic."
   ]
  },
  {
   "cell_type": "code",
   "execution_count": 11,
   "metadata": {
    "scrolled": true
   },
   "outputs": [
    {
     "data": {
      "image/png": "[encoded data removed]",
      "text/plain": [
       "<Figure size 432x288 with 1 Axes>"
      ]
     },
     "metadata": {
      "needs_background": "light"
     },
     "output_type": "display_data"
    }
   ],
   "source": [
    "tmp = pd.merge(labels, gender, how='left', on='SEQN')\n",
    "tmp = (tmp.loc[:, ['DIQ010', 'RIAGENDR']]\n",
    "                .groupby(['RIAGENDR', 'DIQ010'])\n",
    "                .size()\n",
    "                .unstack(fill_value=0.0)\n",
    "                .reset_index()\n",
    "                .assign(Percent = lambda x: x[1.0] / (x[1.0]+x[2.0])))\n",
    "\n",
    "fig, ax = plt.subplots()\n",
    "ax = sns.barplot(x='RIAGENDR', y='Percent', data=tmp, palette=sns.color_palette('Paired'))\n",
    "\n",
    "for index, row in tmp.iterrows():\n",
    "    ax.text(row.name, row.Percent + .001, '{:.1%}'.format(row.Percent),\n",
    "            color='black', ha='center')\n",
    "    \n",
    "ax.set(title='Gender and Diabetes',\n",
    "       xlabel='Gender',\n",
    "       xticklabels=['Male', 'Female'],\n",
    "       ylabel='Diabetic',\n",
    "       yticklabels=['{:,.0%}'.format(x) for x in ax.get_yticks()]);"
   ]
  },
  {
   "cell_type": "markdown",
   "metadata": {},
   "source": [
    "Within the male population, there is a higher percentage of diabetics."
   ]
  },
  {
   "cell_type": "markdown",
   "metadata": {},
   "source": [
    "### Income (Ratio of family income to poverty) - INDFMPIR"
   ]
  },
  {
   "cell_type": "code",
   "execution_count": 12,
   "metadata": {},
   "outputs": [
    {
     "data": {
      "text/html": [
       "<div>\n",
       "<style scoped>\n",
       "    .dataframe tbody tr th:only-of-type {\n",
       "        vertical-align: middle;\n",
       "    }\n",
       "\n",
       "    .dataframe tbody tr th {\n",
       "        vertical-align: top;\n",
       "    }\n",
       "\n",
       "    .dataframe thead th {\n",
       "        text-align: right;\n",
       "    }\n",
       "</style>\n",
       "<table border=\"1\" class=\"dataframe\">\n",
       "  <thead>\n",
       "    <tr style=\"text-align: right;\">\n",
       "      <th></th>\n",
       "      <th>SEQN</th>\n",
       "      <th>INDFMPIR</th>\n",
       "    </tr>\n",
       "  </thead>\n",
       "  <tbody>\n",
       "    <tr>\n",
       "      <td>0</td>\n",
       "      <td>83732.0</td>\n",
       "      <td>4.39</td>\n",
       "    </tr>\n",
       "    <tr>\n",
       "      <td>1</td>\n",
       "      <td>83733.0</td>\n",
       "      <td>1.32</td>\n",
       "    </tr>\n",
       "    <tr>\n",
       "      <td>2</td>\n",
       "      <td>83734.0</td>\n",
       "      <td>1.51</td>\n",
       "    </tr>\n",
       "    <tr>\n",
       "      <td>3</td>\n",
       "      <td>83735.0</td>\n",
       "      <td>5.00</td>\n",
       "    </tr>\n",
       "    <tr>\n",
       "      <td>4</td>\n",
       "      <td>83736.0</td>\n",
       "      <td>1.23</td>\n",
       "    </tr>\n",
       "  </tbody>\n",
       "</table>\n",
       "</div>"
      ],
      "text/plain": [
       "      SEQN  INDFMPIR\n",
       "0  83732.0      4.39\n",
       "1  83733.0      1.32\n",
       "2  83734.0      1.51\n",
       "3  83735.0      5.00\n",
       "4  83736.0      1.23"
      ]
     },
     "execution_count": 12,
     "metadata": {},
     "output_type": "execute_result"
    }
   ],
   "source": [
    "income = demographics_raw[['SEQN', 'INDFMPIR']]\n",
    "income.head()"
   ]
  },
  {
   "cell_type": "code",
   "execution_count": 13,
   "metadata": {},
   "outputs": [
    {
     "data": {
      "image/png": "[encoded data removed]",
      "text/plain": [
       "<Figure size 432x288 with 1 Axes>"
      ]
     },
     "metadata": {
      "needs_background": "light"
     },
     "output_type": "display_data"
    }
   ],
   "source": [
    "ax = sns.distplot(income.INDFMPIR.dropna())\n",
    "ax.set(title='Income Feature Distribution',\n",
    "       xlabel='Income');"
   ]
  },
  {
   "cell_type": "markdown",
   "metadata": {},
   "source": [
    "Since income is a numerical variable, I use a boxplot to see if there is a difference in median income between diabetics and non-diabetics."
   ]
  },
  {
   "cell_type": "code",
   "execution_count": 14,
   "metadata": {},
   "outputs": [
    {
     "data": {
      "image/png": "[encoded data removed]",
      "text/plain": [
       "<Figure size 432x288 with 1 Axes>"
      ]
     },
     "metadata": {
      "needs_background": "light"
     },
     "output_type": "display_data"
    }
   ],
   "source": [
    "tmp = pd.merge(labels, income, how='left', on='SEQN')\n",
    "tmp = tmp.drop(['SEQN'], axis=1)\n",
    "\n",
    "ax = sns.boxplot(x='DIQ010', y='INDFMPIR', data=tmp, palette=sns.color_palette('Paired'))\n",
    "\n",
    "medians = tmp.groupby(['DIQ010'])['INDFMPIR'].median().values\n",
    "median_labels = [str(np.round(s, 2)) for s in medians]\n",
    "pos = range(len(medians))\n",
    "\n",
    "for tick, label in zip(pos, ax.get_xticklabels()):\n",
    "    ax.text(pos[tick], medians[tick]+.1, median_labels[tick], \n",
    "            horizontalalignment='center', size='medium', color='w', weight='semibold')\n",
    "\n",
    "ax.set(title='Income and Diabetes',\n",
    "       xlabel=None,\n",
    "       xticklabels=['Diabetic', 'Non-diabetic'],\n",
    "       ylabel='Income Ratio');"
   ]
  },
  {
   "cell_type": "markdown",
   "metadata": {},
   "source": [
    "The median family income is higher for non-diabetics as compared to diabetics."
   ]
  },
  {
   "cell_type": "markdown",
   "metadata": {},
   "source": [
    "### Education Level (Reference person's education level) - DMDHREDU"
   ]
  },
  {
   "cell_type": "markdown",
   "metadata": {},
   "source": [
    "There was a feature that detailed the education level for the people themselves but there were many more missing values in comparison to this feature. The reference person in this feature is defined as the first household member 18 years of age or older listed on the household member roster, who owns or rents the residence where members of the household reside. Since the reference person's education level variable has less missing values, I chose this as a suitable replacement."
   ]
  },
  {
   "cell_type": "code",
   "execution_count": 15,
   "metadata": {},
   "outputs": [
    {
     "data": {
      "text/html": [
       "<div>\n",
       "<style scoped>\n",
       "    .dataframe tbody tr th:only-of-type {\n",
       "        vertical-align: middle;\n",
       "    }\n",
       "\n",
       "    .dataframe tbody tr th {\n",
       "        vertical-align: top;\n",
       "    }\n",
       "\n",
       "    .dataframe thead th {\n",
       "        text-align: right;\n",
       "    }\n",
       "</style>\n",
       "<table border=\"1\" class=\"dataframe\">\n",
       "  <thead>\n",
       "    <tr style=\"text-align: right;\">\n",
       "      <th></th>\n",
       "      <th>SEQN</th>\n",
       "      <th>DMDHREDU</th>\n",
       "    </tr>\n",
       "  </thead>\n",
       "  <tbody>\n",
       "    <tr>\n",
       "      <td>0</td>\n",
       "      <td>83732.0</td>\n",
       "      <td>5.0</td>\n",
       "    </tr>\n",
       "    <tr>\n",
       "      <td>1</td>\n",
       "      <td>83733.0</td>\n",
       "      <td>3.0</td>\n",
       "    </tr>\n",
       "    <tr>\n",
       "      <td>2</td>\n",
       "      <td>83734.0</td>\n",
       "      <td>3.0</td>\n",
       "    </tr>\n",
       "    <tr>\n",
       "      <td>3</td>\n",
       "      <td>83735.0</td>\n",
       "      <td>5.0</td>\n",
       "    </tr>\n",
       "    <tr>\n",
       "      <td>4</td>\n",
       "      <td>83736.0</td>\n",
       "      <td>4.0</td>\n",
       "    </tr>\n",
       "  </tbody>\n",
       "</table>\n",
       "</div>"
      ],
      "text/plain": [
       "      SEQN  DMDHREDU\n",
       "0  83732.0       5.0\n",
       "1  83733.0       3.0\n",
       "2  83734.0       3.0\n",
       "3  83735.0       5.0\n",
       "4  83736.0       4.0"
      ]
     },
     "execution_count": 15,
     "metadata": {},
     "output_type": "execute_result"
    }
   ],
   "source": [
    "educ = demographics_raw[['SEQN', 'DMDHREDU']]\n",
    "educ.head()"
   ]
  },
  {
   "cell_type": "code",
   "execution_count": 16,
   "metadata": {},
   "outputs": [
    {
     "data": {
      "text/plain": [
       "4.0    2908\n",
       "5.0    2331\n",
       "3.0    2015\n",
       "2.0    1200\n",
       "1.0    1087\n",
       "9.0      34\n",
       "Name: DMDHREDU, dtype: int64"
      ]
     },
     "execution_count": 16,
     "metadata": {},
     "output_type": "execute_result"
    }
   ],
   "source": [
    "educ.DMDHREDU.value_counts()"
   ]
  },
  {
   "cell_type": "markdown",
   "metadata": {},
   "source": [
    "I removed instances where DMDHREDU = 9, because those were people who didn't know their education level and there were only 34 instances."
   ]
  },
  {
   "cell_type": "code",
   "execution_count": 17,
   "metadata": {},
   "outputs": [],
   "source": [
    "educ = educ[educ.DMDHREDU != 9]"
   ]
  },
  {
   "cell_type": "code",
   "execution_count": 18,
   "metadata": {
    "scrolled": true
   },
   "outputs": [
    {
     "data": {
      "image/png": "[encoded data removed]",
      "text/plain": [
       "<Figure size 432x288 with 1 Axes>"
      ]
     },
     "metadata": {
      "needs_background": "light"
     },
     "output_type": "display_data"
    }
   ],
   "source": [
    "ax = sns.countplot(educ.DMDHREDU.dropna(), palette=sns.color_palette('GnBu_d'))\n",
    "ax.set(title='Education Feature Distribution',\n",
    "       xlabel='Education Level',\n",
    "       xticklabels=['< 9th Grade', '9-11th Grade', 'HS Grad', 'AA Degree', 'College Grad'],\n",
    "       ylabel='Count');"
   ]
  },
  {
   "cell_type": "markdown",
   "metadata": {},
   "source": [
    "Since education level is a categorical variable, I use a barplot to see the percent within each education level that is diabetic."
   ]
  },
  {
   "cell_type": "code",
   "execution_count": 19,
   "metadata": {
    "scrolled": false
   },
   "outputs": [
    {
     "data": {
      "image/png": "[encoded data removed]",
      "text/plain": [
       "<Figure size 432x288 with 1 Axes>"
      ]
     },
     "metadata": {
      "needs_background": "light"
     },
     "output_type": "display_data"
    }
   ],
   "source": [
    "tmp = pd.merge(labels, educ, how='left', on='SEQN')\n",
    "tmp = (tmp.loc[:, ['DIQ010', 'DMDHREDU']]\n",
    "                .groupby(['DMDHREDU', 'DIQ010'])\n",
    "                .size()\n",
    "                .unstack(fill_value=0.0)\n",
    "                .reset_index()\n",
    "                .assign(Percent = lambda x: x[1.0] / (x[1.0]+x[2.0])))\n",
    "\n",
    "fig, ax = plt.subplots()\n",
    "ax = sns.barplot(x='DMDHREDU', y='Percent', data=tmp, palette=sns.color_palette('GnBu_d'))\n",
    "\n",
    "for index, row in tmp.iterrows():\n",
    "    ax.text(row.name, row.Percent + .001, '{:.1%}'.format(row.Percent),\n",
    "            color='black', ha='center')\n",
    "    \n",
    "ax.set(title='Education and Diabetes',\n",
    "       xlabel='Education Level',\n",
    "       xticklabels=['< 9th Grade', '9-11th Grade', 'HS Grad', 'AA Degree', 'College Grad'],\n",
    "       ylabel='Diabetic',\n",
    "       yticklabels=['{:,.0%}'.format(x) for x in ax.get_yticks()]);"
   ]
  },
  {
   "cell_type": "markdown",
   "metadata": {},
   "source": [
    "As education level goes up, the percentage of diabetics goes down."
   ]
  },
  {
   "cell_type": "markdown",
   "metadata": {},
   "source": [
    "### Physical Activity"
   ]
  },
  {
   "cell_type": "markdown",
   "metadata": {},
   "source": [
    "Physical activity has a few variables to explore so I decide to look at them all one at a time before grouping the ones I need together into one dataframe."
   ]
  },
  {
   "cell_type": "code",
   "execution_count": 20,
   "metadata": {},
   "outputs": [
    {
     "data": {
      "text/html": [
       "<div>\n",
       "<style scoped>\n",
       "    .dataframe tbody tr th:only-of-type {\n",
       "        vertical-align: middle;\n",
       "    }\n",
       "\n",
       "    .dataframe tbody tr th {\n",
       "        vertical-align: top;\n",
       "    }\n",
       "\n",
       "    .dataframe thead th {\n",
       "        text-align: right;\n",
       "    }\n",
       "</style>\n",
       "<table border=\"1\" class=\"dataframe\">\n",
       "  <thead>\n",
       "    <tr style=\"text-align: right;\">\n",
       "      <th></th>\n",
       "      <th>SEQN</th>\n",
       "      <th>PAQ605</th>\n",
       "      <th>PAQ610</th>\n",
       "      <th>PAD615</th>\n",
       "      <th>PAQ620</th>\n",
       "      <th>PAQ625</th>\n",
       "      <th>PAD630</th>\n",
       "      <th>PAQ635</th>\n",
       "      <th>PAQ640</th>\n",
       "      <th>PAD645</th>\n",
       "      <th>...</th>\n",
       "      <th>PAQ759U</th>\n",
       "      <th>PAQ762</th>\n",
       "      <th>PAQ764</th>\n",
       "      <th>PAQ766</th>\n",
       "      <th>PAQ679</th>\n",
       "      <th>PAQ750</th>\n",
       "      <th>PAQ770</th>\n",
       "      <th>PAQ772A</th>\n",
       "      <th>PAQ772B</th>\n",
       "      <th>PAQ772C</th>\n",
       "    </tr>\n",
       "  </thead>\n",
       "  <tbody>\n",
       "    <tr>\n",
       "      <td>0</td>\n",
       "      <td>83732.0</td>\n",
       "      <td>2.0</td>\n",
       "      <td>NaN</td>\n",
       "      <td>NaN</td>\n",
       "      <td>1.0</td>\n",
       "      <td>5.0</td>\n",
       "      <td>10.0</td>\n",
       "      <td>2.0</td>\n",
       "      <td>NaN</td>\n",
       "      <td>NaN</td>\n",
       "      <td>...</td>\n",
       "      <td>NaN</td>\n",
       "      <td>NaN</td>\n",
       "      <td>NaN</td>\n",
       "      <td>NaN</td>\n",
       "      <td>NaN</td>\n",
       "      <td>NaN</td>\n",
       "      <td>NaN</td>\n",
       "      <td>NaN</td>\n",
       "      <td>NaN</td>\n",
       "      <td>NaN</td>\n",
       "    </tr>\n",
       "    <tr>\n",
       "      <td>1</td>\n",
       "      <td>83733.0</td>\n",
       "      <td>2.0</td>\n",
       "      <td>NaN</td>\n",
       "      <td>NaN</td>\n",
       "      <td>2.0</td>\n",
       "      <td>NaN</td>\n",
       "      <td>NaN</td>\n",
       "      <td>2.0</td>\n",
       "      <td>NaN</td>\n",
       "      <td>NaN</td>\n",
       "      <td>...</td>\n",
       "      <td>NaN</td>\n",
       "      <td>NaN</td>\n",
       "      <td>NaN</td>\n",
       "      <td>NaN</td>\n",
       "      <td>NaN</td>\n",
       "      <td>NaN</td>\n",
       "      <td>NaN</td>\n",
       "      <td>NaN</td>\n",
       "      <td>NaN</td>\n",
       "      <td>NaN</td>\n",
       "    </tr>\n",
       "    <tr>\n",
       "      <td>2</td>\n",
       "      <td>83734.0</td>\n",
       "      <td>2.0</td>\n",
       "      <td>NaN</td>\n",
       "      <td>NaN</td>\n",
       "      <td>1.0</td>\n",
       "      <td>4.0</td>\n",
       "      <td>240.0</td>\n",
       "      <td>2.0</td>\n",
       "      <td>NaN</td>\n",
       "      <td>NaN</td>\n",
       "      <td>...</td>\n",
       "      <td>NaN</td>\n",
       "      <td>NaN</td>\n",
       "      <td>NaN</td>\n",
       "      <td>NaN</td>\n",
       "      <td>NaN</td>\n",
       "      <td>NaN</td>\n",
       "      <td>NaN</td>\n",
       "      <td>NaN</td>\n",
       "      <td>NaN</td>\n",
       "      <td>NaN</td>\n",
       "    </tr>\n",
       "    <tr>\n",
       "      <td>3</td>\n",
       "      <td>83735.0</td>\n",
       "      <td>2.0</td>\n",
       "      <td>NaN</td>\n",
       "      <td>NaN</td>\n",
       "      <td>1.0</td>\n",
       "      <td>5.0</td>\n",
       "      <td>90.0</td>\n",
       "      <td>2.0</td>\n",
       "      <td>NaN</td>\n",
       "      <td>NaN</td>\n",
       "      <td>...</td>\n",
       "      <td>NaN</td>\n",
       "      <td>NaN</td>\n",
       "      <td>NaN</td>\n",
       "      <td>NaN</td>\n",
       "      <td>NaN</td>\n",
       "      <td>NaN</td>\n",
       "      <td>NaN</td>\n",
       "      <td>NaN</td>\n",
       "      <td>NaN</td>\n",
       "      <td>NaN</td>\n",
       "    </tr>\n",
       "    <tr>\n",
       "      <td>4</td>\n",
       "      <td>83736.0</td>\n",
       "      <td>2.0</td>\n",
       "      <td>NaN</td>\n",
       "      <td>NaN</td>\n",
       "      <td>1.0</td>\n",
       "      <td>7.0</td>\n",
       "      <td>480.0</td>\n",
       "      <td>2.0</td>\n",
       "      <td>NaN</td>\n",
       "      <td>NaN</td>\n",
       "      <td>...</td>\n",
       "      <td>NaN</td>\n",
       "      <td>NaN</td>\n",
       "      <td>NaN</td>\n",
       "      <td>NaN</td>\n",
       "      <td>NaN</td>\n",
       "      <td>NaN</td>\n",
       "      <td>NaN</td>\n",
       "      <td>NaN</td>\n",
       "      <td>NaN</td>\n",
       "      <td>NaN</td>\n",
       "    </tr>\n",
       "  </tbody>\n",
       "</table>\n",
       "<p>5 rows × 94 columns</p>\n",
       "</div>"
      ],
      "text/plain": [
       "      SEQN  PAQ605  PAQ610  PAD615  PAQ620  PAQ625  PAD630  PAQ635  PAQ640  \\\n",
       "0  83732.0     2.0     NaN     NaN     1.0     5.0    10.0     2.0     NaN   \n",
       "1  83733.0     2.0     NaN     NaN     2.0     NaN     NaN     2.0     NaN   \n",
       "2  83734.0     2.0     NaN     NaN     1.0     4.0   240.0     2.0     NaN   \n",
       "3  83735.0     2.0     NaN     NaN     1.0     5.0    90.0     2.0     NaN   \n",
       "4  83736.0     2.0     NaN     NaN     1.0     7.0   480.0     2.0     NaN   \n",
       "\n",
       "   PAD645  ...  PAQ759U  PAQ762  PAQ764  PAQ766  PAQ679  PAQ750  PAQ770  \\\n",
       "0     NaN  ...      NaN     NaN     NaN     NaN     NaN     NaN     NaN   \n",
       "1     NaN  ...      NaN     NaN     NaN     NaN     NaN     NaN     NaN   \n",
       "2     NaN  ...      NaN     NaN     NaN     NaN     NaN     NaN     NaN   \n",
       "3     NaN  ...      NaN     NaN     NaN     NaN     NaN     NaN     NaN   \n",
       "4     NaN  ...      NaN     NaN     NaN     NaN     NaN     NaN     NaN   \n",
       "\n",
       "   PAQ772A  PAQ772B  PAQ772C  \n",
       "0      NaN      NaN      NaN  \n",
       "1      NaN      NaN      NaN  \n",
       "2      NaN      NaN      NaN  \n",
       "3      NaN      NaN      NaN  \n",
       "4      NaN      NaN      NaN  \n",
       "\n",
       "[5 rows x 94 columns]"
      ]
     },
     "execution_count": 20,
     "metadata": {},
     "output_type": "execute_result"
    }
   ],
   "source": [
    "physical_activity_raw = pd.read_sas('Data/Questionnaire/PAQ_I.XPT')\n",
    "physical_activity_raw.head()"
   ]
  },
  {
   "cell_type": "markdown",
   "metadata": {},
   "source": [
    "### Physical Activity - Variable 1: Vigorous work activity - PAQ605"
   ]
  },
  {
   "cell_type": "markdown",
   "metadata": {},
   "source": [
    "**Feature description:** Does your work involve vigorous-intensity activity that causes large increases in breathing or heart rate like carrying or lifting heavy loads, digging or construction work for at least 10 minutes continuously?"
   ]
  },
  {
   "cell_type": "code",
   "execution_count": 21,
   "metadata": {},
   "outputs": [
    {
     "data": {
      "text/html": [
       "<div>\n",
       "<style scoped>\n",
       "    .dataframe tbody tr th:only-of-type {\n",
       "        vertical-align: middle;\n",
       "    }\n",
       "\n",
       "    .dataframe tbody tr th {\n",
       "        vertical-align: top;\n",
       "    }\n",
       "\n",
       "    .dataframe thead th {\n",
       "        text-align: right;\n",
       "    }\n",
       "</style>\n",
       "<table border=\"1\" class=\"dataframe\">\n",
       "  <thead>\n",
       "    <tr style=\"text-align: right;\">\n",
       "      <th></th>\n",
       "      <th>SEQN</th>\n",
       "      <th>PAQ605</th>\n",
       "    </tr>\n",
       "  </thead>\n",
       "  <tbody>\n",
       "    <tr>\n",
       "      <td>0</td>\n",
       "      <td>83732.0</td>\n",
       "      <td>2.0</td>\n",
       "    </tr>\n",
       "    <tr>\n",
       "      <td>1</td>\n",
       "      <td>83733.0</td>\n",
       "      <td>2.0</td>\n",
       "    </tr>\n",
       "    <tr>\n",
       "      <td>2</td>\n",
       "      <td>83734.0</td>\n",
       "      <td>2.0</td>\n",
       "    </tr>\n",
       "    <tr>\n",
       "      <td>3</td>\n",
       "      <td>83735.0</td>\n",
       "      <td>2.0</td>\n",
       "    </tr>\n",
       "    <tr>\n",
       "      <td>4</td>\n",
       "      <td>83736.0</td>\n",
       "      <td>2.0</td>\n",
       "    </tr>\n",
       "  </tbody>\n",
       "</table>\n",
       "</div>"
      ],
      "text/plain": [
       "      SEQN  PAQ605\n",
       "0  83732.0     2.0\n",
       "1  83733.0     2.0\n",
       "2  83734.0     2.0\n",
       "3  83735.0     2.0\n",
       "4  83736.0     2.0"
      ]
     },
     "execution_count": 21,
     "metadata": {},
     "output_type": "execute_result"
    }
   ],
   "source": [
    "phys_activity1 = physical_activity_raw[['SEQN', 'PAQ605']]\n",
    "phys_activity1.head()"
   ]
  },
  {
   "cell_type": "code",
   "execution_count": 22,
   "metadata": {},
   "outputs": [
    {
     "data": {
      "image/png": "[encoded data removed]",
      "text/plain": [
       "<Figure size 432x288 with 1 Axes>"
      ]
     },
     "metadata": {
      "needs_background": "light"
     },
     "output_type": "display_data"
    }
   ],
   "source": [
    "ax = sns.countplot(phys_activity1.PAQ605.dropna(), palette=sns.color_palette('Paired'))\n",
    "ax.set(title='Feature Distribution',\n",
    "       xlabel=None,\n",
    "       xticklabels=['Yes', 'No', \"Don't Know\"],\n",
    "       ylabel='Count');"
   ]
  },
  {
   "cell_type": "markdown",
   "metadata": {},
   "source": [
    "I removed the small number of people who answered don't know."
   ]
  },
  {
   "cell_type": "code",
   "execution_count": 23,
   "metadata": {},
   "outputs": [],
   "source": [
    "phys_activity1 = phys_activity1[phys_activity1.PAQ605 != 9]"
   ]
  },
  {
   "cell_type": "markdown",
   "metadata": {},
   "source": [
    "Since physical activity is a categorical variable, I use a barplot to see what percent is diabetic for people who are active and those who aren't."
   ]
  },
  {
   "cell_type": "code",
   "execution_count": 24,
   "metadata": {},
   "outputs": [
    {
     "data": {
      "image/png": "[encoded data removed]",
      "text/plain": [
       "<Figure size 432x288 with 1 Axes>"
      ]
     },
     "metadata": {
      "needs_background": "light"
     },
     "output_type": "display_data"
    }
   ],
   "source": [
    "var = 'PAQ605'\n",
    "\n",
    "tmp = pd.merge(labels, phys_activity1, how='left', on='SEQN')\n",
    "tmp = (tmp.loc[:, ['DIQ010', var]]\n",
    "                .groupby([var, 'DIQ010'])\n",
    "                .size()\n",
    "                .unstack(fill_value=0.0)\n",
    "                .reset_index()\n",
    "                .assign(Percent = lambda x: x[1.0] / (x[1.0]+x[2.0])))\n",
    "\n",
    "fig, ax = plt.subplots()\n",
    "ax = sns.barplot(x=var, y='Percent', data=tmp, palette=sns.color_palette('Paired'))\n",
    "\n",
    "for index, row in tmp.iterrows():\n",
    "    ax.text(row.name, row.Percent + .001, '{:.1%}'.format(row.Percent),\n",
    "            color='black', ha='center')\n",
    "    \n",
    "ax.set(title='Vigorous Work Activity',\n",
    "       xlabel=None,\n",
    "       xticklabels=['Yes', 'No'],\n",
    "       ylabel='Diabetic',\n",
    "       yticklabels=['{:,.0%}'.format(x) for x in ax.get_yticks()]);"
   ]
  },
  {
   "cell_type": "markdown",
   "metadata": {},
   "source": [
    "For people who don't participate in vigorous activity, there is a higher percentage of diabetics."
   ]
  },
  {
   "cell_type": "markdown",
   "metadata": {},
   "source": [
    "### Physical Activity - Variable 2: Moderate work activity - PAQ620"
   ]
  },
  {
   "cell_type": "markdown",
   "metadata": {},
   "source": [
    "**Feature description:** Does your work involve moderate-intensity activity that causes small increases in breathing or heart rate such as brisk walking or carrying light loads for at least 10 minutes continuously?"
   ]
  },
  {
   "cell_type": "code",
   "execution_count": 25,
   "metadata": {},
   "outputs": [
    {
     "data": {
      "text/html": [
       "<div>\n",
       "<style scoped>\n",
       "    .dataframe tbody tr th:only-of-type {\n",
       "        vertical-align: middle;\n",
       "    }\n",
       "\n",
       "    .dataframe tbody tr th {\n",
       "        vertical-align: top;\n",
       "    }\n",
       "\n",
       "    .dataframe thead th {\n",
       "        text-align: right;\n",
       "    }\n",
       "</style>\n",
       "<table border=\"1\" class=\"dataframe\">\n",
       "  <thead>\n",
       "    <tr style=\"text-align: right;\">\n",
       "      <th></th>\n",
       "      <th>SEQN</th>\n",
       "      <th>PAQ620</th>\n",
       "    </tr>\n",
       "  </thead>\n",
       "  <tbody>\n",
       "    <tr>\n",
       "      <td>0</td>\n",
       "      <td>83732.0</td>\n",
       "      <td>1.0</td>\n",
       "    </tr>\n",
       "    <tr>\n",
       "      <td>1</td>\n",
       "      <td>83733.0</td>\n",
       "      <td>2.0</td>\n",
       "    </tr>\n",
       "    <tr>\n",
       "      <td>2</td>\n",
       "      <td>83734.0</td>\n",
       "      <td>1.0</td>\n",
       "    </tr>\n",
       "    <tr>\n",
       "      <td>3</td>\n",
       "      <td>83735.0</td>\n",
       "      <td>1.0</td>\n",
       "    </tr>\n",
       "    <tr>\n",
       "      <td>4</td>\n",
       "      <td>83736.0</td>\n",
       "      <td>1.0</td>\n",
       "    </tr>\n",
       "  </tbody>\n",
       "</table>\n",
       "</div>"
      ],
      "text/plain": [
       "      SEQN  PAQ620\n",
       "0  83732.0     1.0\n",
       "1  83733.0     2.0\n",
       "2  83734.0     1.0\n",
       "3  83735.0     1.0\n",
       "4  83736.0     1.0"
      ]
     },
     "execution_count": 25,
     "metadata": {},
     "output_type": "execute_result"
    }
   ],
   "source": [
    "phys_activity2 = physical_activity_raw[['SEQN', 'PAQ620']]\n",
    "phys_activity2.head()"
   ]
  },
  {
   "cell_type": "code",
   "execution_count": 26,
   "metadata": {},
   "outputs": [
    {
     "data": {
      "image/png": "[encoded data removed]",
      "text/plain": [
       "<Figure size 432x288 with 1 Axes>"
      ]
     },
     "metadata": {
      "needs_background": "light"
     },
     "output_type": "display_data"
    }
   ],
   "source": [
    "ax = sns.countplot(phys_activity2.PAQ620.dropna(), palette=sns.color_palette('Paired'))\n",
    "ax.set(title='Feature Distribution',\n",
    "       xlabel=None,\n",
    "       xticklabels=['Yes', 'No', \"Don't Know\"],\n",
    "       ylabel='Count');"
   ]
  },
  {
   "cell_type": "markdown",
   "metadata": {},
   "source": [
    "I removed the small number of people who answered don't know."
   ]
  },
  {
   "cell_type": "code",
   "execution_count": 27,
   "metadata": {},
   "outputs": [],
   "source": [
    "phys_activity2 = phys_activity2[phys_activity2.PAQ620 != 9]"
   ]
  },
  {
   "cell_type": "markdown",
   "metadata": {},
   "source": [
    "Since physical activity is a categorical variable, I use a barplot to see what percent is diabetic for people who are active and those who aren't."
   ]
  },
  {
   "cell_type": "code",
   "execution_count": 28,
   "metadata": {},
   "outputs": [
    {
     "data": {
      "image/png": "[encoded data removed]",
      "text/plain": [
       "<Figure size 432x288 with 1 Axes>"
      ]
     },
     "metadata": {
      "needs_background": "light"
     },
     "output_type": "display_data"
    }
   ],
   "source": [
    "var = 'PAQ620'\n",
    "\n",
    "tmp = pd.merge(labels, phys_activity2, how='left', on='SEQN')\n",
    "tmp = (tmp.loc[:, ['DIQ010', var]]\n",
    "                .groupby([var, 'DIQ010'])\n",
    "                .size()\n",
    "                .unstack(fill_value=0.0)\n",
    "                .reset_index()\n",
    "                .assign(Percent = lambda x: x[1.0] / (x[1.0]+x[2.0])))\n",
    "\n",
    "fig, ax = plt.subplots()\n",
    "ax = sns.barplot(x=var, y='Percent', data=tmp, palette=sns.color_palette('Paired'))\n",
    "\n",
    "for index, row in tmp.iterrows():\n",
    "    ax.text(row.name, row.Percent + .001, '{:.1%}'.format(row.Percent),\n",
    "            color='black', ha='center')\n",
    "    \n",
    "ax.set(title='Moderate Work Activity',\n",
    "       xlabel=None,\n",
    "       xticklabels=['Yes', 'No'],\n",
    "       ylabel='Diabetic',\n",
    "       yticklabels=['{:,.0%}'.format(x) for x in ax.get_yticks()]);"
   ]
  },
  {
   "cell_type": "markdown",
   "metadata": {},
   "source": [
    "For people who don't participate in moderate activity, there is a higher percentage of diabetics."
   ]
  },
  {
   "cell_type": "markdown",
   "metadata": {},
   "source": [
    "### Physical Activity - Variable 3: Vigorous recreational activity - PAQ650"
   ]
  },
  {
   "cell_type": "markdown",
   "metadata": {},
   "source": [
    "**Feature description:** In a typical week, do any vigorous-intensity sports, fitness, or recreational activities that cause large increases in breathing or heart rate like running or basketball for at least 10 minutes continuously?"
   ]
  },
  {
   "cell_type": "code",
   "execution_count": 29,
   "metadata": {},
   "outputs": [
    {
     "data": {
      "text/html": [
       "<div>\n",
       "<style scoped>\n",
       "    .dataframe tbody tr th:only-of-type {\n",
       "        vertical-align: middle;\n",
       "    }\n",
       "\n",
       "    .dataframe tbody tr th {\n",
       "        vertical-align: top;\n",
       "    }\n",
       "\n",
       "    .dataframe thead th {\n",
       "        text-align: right;\n",
       "    }\n",
       "</style>\n",
       "<table border=\"1\" class=\"dataframe\">\n",
       "  <thead>\n",
       "    <tr style=\"text-align: right;\">\n",
       "      <th></th>\n",
       "      <th>SEQN</th>\n",
       "      <th>PAQ650</th>\n",
       "    </tr>\n",
       "  </thead>\n",
       "  <tbody>\n",
       "    <tr>\n",
       "      <td>0</td>\n",
       "      <td>83732.0</td>\n",
       "      <td>2.0</td>\n",
       "    </tr>\n",
       "    <tr>\n",
       "      <td>1</td>\n",
       "      <td>83733.0</td>\n",
       "      <td>2.0</td>\n",
       "    </tr>\n",
       "    <tr>\n",
       "      <td>2</td>\n",
       "      <td>83734.0</td>\n",
       "      <td>2.0</td>\n",
       "    </tr>\n",
       "    <tr>\n",
       "      <td>3</td>\n",
       "      <td>83735.0</td>\n",
       "      <td>2.0</td>\n",
       "    </tr>\n",
       "    <tr>\n",
       "      <td>4</td>\n",
       "      <td>83736.0</td>\n",
       "      <td>2.0</td>\n",
       "    </tr>\n",
       "  </tbody>\n",
       "</table>\n",
       "</div>"
      ],
      "text/plain": [
       "      SEQN  PAQ650\n",
       "0  83732.0     2.0\n",
       "1  83733.0     2.0\n",
       "2  83734.0     2.0\n",
       "3  83735.0     2.0\n",
       "4  83736.0     2.0"
      ]
     },
     "execution_count": 29,
     "metadata": {},
     "output_type": "execute_result"
    }
   ],
   "source": [
    "phys_activity3 = physical_activity_raw[['SEQN', 'PAQ650']]\n",
    "phys_activity3.head()"
   ]
  },
  {
   "cell_type": "code",
   "execution_count": 30,
   "metadata": {},
   "outputs": [
    {
     "data": {
      "image/png": "[encoded data removed]",
      "text/plain": [
       "<Figure size 432x288 with 1 Axes>"
      ]
     },
     "metadata": {
      "needs_background": "light"
     },
     "output_type": "display_data"
    }
   ],
   "source": [
    "ax = sns.countplot(phys_activity3.PAQ650.dropna(), palette=sns.color_palette('Paired'))\n",
    "ax.set(title='Feature Distribution',\n",
    "       xlabel=None,\n",
    "       xticklabels=['Yes', 'No', \"Don't Know\"],\n",
    "       ylabel='Count');"
   ]
  },
  {
   "cell_type": "markdown",
   "metadata": {},
   "source": [
    "I removed the small number of people who answered don't know."
   ]
  },
  {
   "cell_type": "code",
   "execution_count": 31,
   "metadata": {},
   "outputs": [],
   "source": [
    "phys_activity3 = phys_activity3[phys_activity3.PAQ650 != 9]"
   ]
  },
  {
   "cell_type": "markdown",
   "metadata": {},
   "source": [
    "Since physical activity is a categorical variable, I use a barplot to see what percent is diabetic for people who are active and those who aren't."
   ]
  },
  {
   "cell_type": "code",
   "execution_count": 32,
   "metadata": {},
   "outputs": [
    {
     "data": {
      "image/png": "[encoded data removed]",
      "text/plain": [
       "<Figure size 432x288 with 1 Axes>"
      ]
     },
     "metadata": {
      "needs_background": "light"
     },
     "output_type": "display_data"
    }
   ],
   "source": [
    "var = 'PAQ650'\n",
    "\n",
    "tmp = pd.merge(labels, phys_activity3, how='left', on='SEQN')\n",
    "tmp = (tmp.loc[:, ['DIQ010', var]]\n",
    "                .groupby([var, 'DIQ010'])\n",
    "                .size()\n",
    "                .unstack(fill_value=0.0)\n",
    "                .reset_index()\n",
    "                .assign(Percent = lambda x: x[1.0] / (x[1.0]+x[2.0])))\n",
    "\n",
    "fig, ax = plt.subplots()\n",
    "ax = sns.barplot(x=var, y='Percent', data=tmp, palette=sns.color_palette('Paired'))\n",
    "\n",
    "for index, row in tmp.iterrows():\n",
    "    ax.text(row.name, row.Percent + .001, '{:.1%}'.format(row.Percent),\n",
    "            color='black', ha='center')\n",
    "    \n",
    "ax.set(title='Vigorous Rec Activity',\n",
    "       xlabel=None,\n",
    "       xticklabels=['Yes', 'No'],\n",
    "       ylabel='Diabetic',\n",
    "       yticklabels=['{:,.0%}'.format(x) for x in ax.get_yticks()]);"
   ]
  },
  {
   "cell_type": "markdown",
   "metadata": {},
   "source": [
    "For people who don't participate in vigorous recreational activity, there is a higher percentage of diabetics. There is a much bigger difference in percentage diabetics in comparison to the vigorous work activity feature."
   ]
  },
  {
   "cell_type": "markdown",
   "metadata": {},
   "source": [
    "### Physical Activity - Variable 4: Moderate recreational activity - PAQ665"
   ]
  },
  {
   "cell_type": "markdown",
   "metadata": {},
   "source": [
    "**Feature description:** In a typical week do you do any moderate-intensity sports, fitness, or recreational activities that cause a small increase in breathing or heart rate such as brisk walking, bicycling, swimming, or volleyball for at least 10 minutes continuously?"
   ]
  },
  {
   "cell_type": "code",
   "execution_count": 33,
   "metadata": {},
   "outputs": [
    {
     "data": {
      "text/html": [
       "<div>\n",
       "<style scoped>\n",
       "    .dataframe tbody tr th:only-of-type {\n",
       "        vertical-align: middle;\n",
       "    }\n",
       "\n",
       "    .dataframe tbody tr th {\n",
       "        vertical-align: top;\n",
       "    }\n",
       "\n",
       "    .dataframe thead th {\n",
       "        text-align: right;\n",
       "    }\n",
       "</style>\n",
       "<table border=\"1\" class=\"dataframe\">\n",
       "  <thead>\n",
       "    <tr style=\"text-align: right;\">\n",
       "      <th></th>\n",
       "      <th>SEQN</th>\n",
       "      <th>PAQ665</th>\n",
       "    </tr>\n",
       "  </thead>\n",
       "  <tbody>\n",
       "    <tr>\n",
       "      <td>0</td>\n",
       "      <td>83732.0</td>\n",
       "      <td>1.0</td>\n",
       "    </tr>\n",
       "    <tr>\n",
       "      <td>1</td>\n",
       "      <td>83733.0</td>\n",
       "      <td>2.0</td>\n",
       "    </tr>\n",
       "    <tr>\n",
       "      <td>2</td>\n",
       "      <td>83734.0</td>\n",
       "      <td>2.0</td>\n",
       "    </tr>\n",
       "    <tr>\n",
       "      <td>3</td>\n",
       "      <td>83735.0</td>\n",
       "      <td>2.0</td>\n",
       "    </tr>\n",
       "    <tr>\n",
       "      <td>4</td>\n",
       "      <td>83736.0</td>\n",
       "      <td>2.0</td>\n",
       "    </tr>\n",
       "  </tbody>\n",
       "</table>\n",
       "</div>"
      ],
      "text/plain": [
       "      SEQN  PAQ665\n",
       "0  83732.0     1.0\n",
       "1  83733.0     2.0\n",
       "2  83734.0     2.0\n",
       "3  83735.0     2.0\n",
       "4  83736.0     2.0"
      ]
     },
     "execution_count": 33,
     "metadata": {},
     "output_type": "execute_result"
    }
   ],
   "source": [
    "phys_activity4 = physical_activity_raw[['SEQN', 'PAQ665']]\n",
    "phys_activity4.head()"
   ]
  },
  {
   "cell_type": "code",
   "execution_count": 34,
   "metadata": {},
   "outputs": [
    {
     "data": {
      "image/png": "[encoded data removed]",
      "text/plain": [
       "<Figure size 432x288 with 1 Axes>"
      ]
     },
     "metadata": {
      "needs_background": "light"
     },
     "output_type": "display_data"
    }
   ],
   "source": [
    "ax = sns.countplot(phys_activity4.PAQ665.dropna(), palette=sns.color_palette('Paired'))\n",
    "ax.set(title='Feature Distribution',\n",
    "       xlabel=None,\n",
    "       xticklabels=['Yes', 'No', \"Don't Know\"],\n",
    "       ylabel='Count');"
   ]
  },
  {
   "cell_type": "markdown",
   "metadata": {},
   "source": [
    "I removed the small number of people who answered don't know."
   ]
  },
  {
   "cell_type": "code",
   "execution_count": 35,
   "metadata": {},
   "outputs": [],
   "source": [
    "phys_activity4 = phys_activity4[phys_activity4.PAQ665 != 9]"
   ]
  },
  {
   "cell_type": "markdown",
   "metadata": {},
   "source": [
    "Since physical activity is a categorical variable, I use a barplot to see what percent is diabetic for people who are active and those who aren't."
   ]
  },
  {
   "cell_type": "code",
   "execution_count": 36,
   "metadata": {},
   "outputs": [
    {
     "data": {
      "image/png": "[encoded data removed]",
      "text/plain": [
       "<Figure size 432x288 with 1 Axes>"
      ]
     },
     "metadata": {
      "needs_background": "light"
     },
     "output_type": "display_data"
    }
   ],
   "source": [
    "var = 'PAQ665'\n",
    "\n",
    "tmp = pd.merge(labels, phys_activity4, how='left', on='SEQN')\n",
    "tmp = (tmp.loc[:, ['DIQ010', var]]\n",
    "                .groupby([var, 'DIQ010'])\n",
    "                .size()\n",
    "                .unstack(fill_value=0.0)\n",
    "                .reset_index()\n",
    "                .assign(Percent = lambda x: x[1.0] / (x[1.0]+x[2.0])))\n",
    "\n",
    "fig, ax = plt.subplots()\n",
    "ax = sns.barplot(x=var, y='Percent', data=tmp, palette=sns.color_palette('Paired'))\n",
    "\n",
    "for index, row in tmp.iterrows():\n",
    "    ax.text(row.name, row.Percent + .001, '{:.1%}'.format(row.Percent),\n",
    "            color='black', ha='center')\n",
    "    \n",
    "ax.set(title='Moderate Rec Activity',\n",
    "       xlabel=None,\n",
    "       xticklabels=['Yes', 'No'],\n",
    "       ylabel='Diabetic',\n",
    "       yticklabels=['{:,.0%}'.format(x) for x in ax.get_yticks()]);"
   ]
  },
  {
   "cell_type": "markdown",
   "metadata": {},
   "source": [
    "For people who don't participate in moderate recreational activity, there is a higher percentage of diabetics. There is again a much bigger difference in percentage diabetics in comparison to the moderate work activity feature."
   ]
  },
  {
   "cell_type": "markdown",
   "metadata": {},
   "source": [
    "### Physical Activity - Failed Variable - Minutes sedentary activity"
   ]
  },
  {
   "cell_type": "markdown",
   "metadata": {},
   "source": [
    "**Feature description:** The following question is about sitting at school, at home, getting to and from places, or with friends including time spent sitting at a desk, traveling in a car or bus, reading, playing cards, watching television, or using a computer. Do not include time spent sleeping. How much time do you usually spend sitting on a typical day?"
   ]
  },
  {
   "cell_type": "code",
   "execution_count": 37,
   "metadata": {
    "scrolled": true
   },
   "outputs": [
    {
     "data": {
      "image/png": "[encoded data removed]",
      "text/plain": [
       "<Figure size 432x288 with 1 Axes>"
      ]
     },
     "metadata": {
      "needs_background": "light"
     },
     "output_type": "display_data"
    }
   ],
   "source": [
    "phys_activity5 = physical_activity_raw[['SEQN', 'PAD680']]\n",
    "phys_activity5\n",
    "\n",
    "tmp = pd.merge(labels, phys_activity5, how='left', on='SEQN')\n",
    "tmp = tmp.drop(['SEQN'], axis=1)\n",
    "\n",
    "ax = sns.boxplot(x='DIQ010', y='PAD680', data=tmp, palette=sns.color_palette('Paired'), showfliers=False)\n",
    "\n",
    "medians = tmp.groupby(['DIQ010'])['PAD680'].median().values\n",
    "median_labels = [str(np.round(s, 2)) for s in medians]\n",
    "pos = range(len(medians))\n",
    "\n",
    "for tick, label in zip(pos, ax.get_xticklabels()):\n",
    "    ax.text(pos[tick], medians[tick]+1, median_labels[tick], \n",
    "            horizontalalignment='center', size='medium', color='w', weight='semibold')\n",
    "\n",
    "ax.set(title='Sedentary Activity and Diabetes',\n",
    "       xlabel=None,\n",
    "       xticklabels=['Diabetic', 'Non-diabetic'],\n",
    "       ylabel='Minutes Sitting Still');"
   ]
  },
  {
   "cell_type": "markdown",
   "metadata": {},
   "source": [
    "Since there is no difference in mean sitting times between diabetics and non-diabetics, I felt like this variable would not be very good for distinguishing between the two and won't be included in the model."
   ]
  },
  {
   "cell_type": "markdown",
   "metadata": {},
   "source": [
    "### Merging Physical Activity Features"
   ]
  },
  {
   "cell_type": "code",
   "execution_count": 38,
   "metadata": {},
   "outputs": [
    {
     "data": {
      "text/html": [
       "<div>\n",
       "<style scoped>\n",
       "    .dataframe tbody tr th:only-of-type {\n",
       "        vertical-align: middle;\n",
       "    }\n",
       "\n",
       "    .dataframe tbody tr th {\n",
       "        vertical-align: top;\n",
       "    }\n",
       "\n",
       "    .dataframe thead th {\n",
       "        text-align: right;\n",
       "    }\n",
       "</style>\n",
       "<table border=\"1\" class=\"dataframe\">\n",
       "  <thead>\n",
       "    <tr style=\"text-align: right;\">\n",
       "      <th></th>\n",
       "      <th>SEQN</th>\n",
       "      <th>PAQ605</th>\n",
       "      <th>PAQ620</th>\n",
       "      <th>PAQ650</th>\n",
       "      <th>PAQ665</th>\n",
       "    </tr>\n",
       "  </thead>\n",
       "  <tbody>\n",
       "    <tr>\n",
       "      <td>0</td>\n",
       "      <td>83732.0</td>\n",
       "      <td>2.0</td>\n",
       "      <td>1.0</td>\n",
       "      <td>2.0</td>\n",
       "      <td>1.0</td>\n",
       "    </tr>\n",
       "    <tr>\n",
       "      <td>1</td>\n",
       "      <td>83733.0</td>\n",
       "      <td>2.0</td>\n",
       "      <td>2.0</td>\n",
       "      <td>2.0</td>\n",
       "      <td>2.0</td>\n",
       "    </tr>\n",
       "    <tr>\n",
       "      <td>2</td>\n",
       "      <td>83734.0</td>\n",
       "      <td>2.0</td>\n",
       "      <td>1.0</td>\n",
       "      <td>2.0</td>\n",
       "      <td>2.0</td>\n",
       "    </tr>\n",
       "    <tr>\n",
       "      <td>3</td>\n",
       "      <td>83735.0</td>\n",
       "      <td>2.0</td>\n",
       "      <td>1.0</td>\n",
       "      <td>2.0</td>\n",
       "      <td>2.0</td>\n",
       "    </tr>\n",
       "    <tr>\n",
       "      <td>4</td>\n",
       "      <td>83736.0</td>\n",
       "      <td>2.0</td>\n",
       "      <td>1.0</td>\n",
       "      <td>2.0</td>\n",
       "      <td>2.0</td>\n",
       "    </tr>\n",
       "  </tbody>\n",
       "</table>\n",
       "</div>"
      ],
      "text/plain": [
       "      SEQN  PAQ605  PAQ620  PAQ650  PAQ665\n",
       "0  83732.0     2.0     1.0     2.0     1.0\n",
       "1  83733.0     2.0     2.0     2.0     2.0\n",
       "2  83734.0     2.0     1.0     2.0     2.0\n",
       "3  83735.0     2.0     1.0     2.0     2.0\n",
       "4  83736.0     2.0     1.0     2.0     2.0"
      ]
     },
     "execution_count": 38,
     "metadata": {},
     "output_type": "execute_result"
    }
   ],
   "source": [
    "phys_activity_arr = [phys_activity2, phys_activity3, phys_activity4]\n",
    "phys_activity = phys_activity1\n",
    "\n",
    "for feature in phys_activity_arr:\n",
    "    phys_activity = pd.merge(phys_activity, feature, how='left', on='SEQN')\n",
    "phys_activity.head()"
   ]
  },
  {
   "cell_type": "markdown",
   "metadata": {},
   "source": [
    "### Diet - DBQ700"
   ]
  },
  {
   "cell_type": "markdown",
   "metadata": {},
   "source": [
    "**Feature description:** How healthy is your diet?"
   ]
  },
  {
   "cell_type": "code",
   "execution_count": 39,
   "metadata": {},
   "outputs": [
    {
     "data": {
      "text/html": [
       "<div>\n",
       "<style scoped>\n",
       "    .dataframe tbody tr th:only-of-type {\n",
       "        vertical-align: middle;\n",
       "    }\n",
       "\n",
       "    .dataframe tbody tr th {\n",
       "        vertical-align: top;\n",
       "    }\n",
       "\n",
       "    .dataframe thead th {\n",
       "        text-align: right;\n",
       "    }\n",
       "</style>\n",
       "<table border=\"1\" class=\"dataframe\">\n",
       "  <thead>\n",
       "    <tr style=\"text-align: right;\">\n",
       "      <th></th>\n",
       "      <th>SEQN</th>\n",
       "      <th>DBQ700</th>\n",
       "    </tr>\n",
       "  </thead>\n",
       "  <tbody>\n",
       "    <tr>\n",
       "      <td>0</td>\n",
       "      <td>83732.0</td>\n",
       "      <td>3.0</td>\n",
       "    </tr>\n",
       "    <tr>\n",
       "      <td>1</td>\n",
       "      <td>83733.0</td>\n",
       "      <td>1.0</td>\n",
       "    </tr>\n",
       "    <tr>\n",
       "      <td>2</td>\n",
       "      <td>83734.0</td>\n",
       "      <td>4.0</td>\n",
       "    </tr>\n",
       "    <tr>\n",
       "      <td>3</td>\n",
       "      <td>83735.0</td>\n",
       "      <td>4.0</td>\n",
       "    </tr>\n",
       "    <tr>\n",
       "      <td>4</td>\n",
       "      <td>83736.0</td>\n",
       "      <td>5.0</td>\n",
       "    </tr>\n",
       "  </tbody>\n",
       "</table>\n",
       "</div>"
      ],
      "text/plain": [
       "      SEQN  DBQ700\n",
       "0  83732.0     3.0\n",
       "1  83733.0     1.0\n",
       "2  83734.0     4.0\n",
       "3  83735.0     4.0\n",
       "4  83736.0     5.0"
      ]
     },
     "execution_count": 39,
     "metadata": {},
     "output_type": "execute_result"
    }
   ],
   "source": [
    "diet_raw = pd.read_sas('Data/Questionnaire/DBQ_I.XPT')\n",
    "diet = diet_raw[['SEQN', 'DBQ700']]\n",
    "diet.head()"
   ]
  },
  {
   "cell_type": "code",
   "execution_count": 40,
   "metadata": {},
   "outputs": [
    {
     "data": {
      "image/png": "[encoded data removed]",
      "text/plain": [
       "<Figure size 432x288 with 1 Axes>"
      ]
     },
     "metadata": {
      "needs_background": "light"
     },
     "output_type": "display_data"
    }
   ],
   "source": [
    "ax = sns.countplot(diet.DBQ700.dropna(), palette=sns.color_palette('GnBu_d'))\n",
    "ax.set(title='Diet Variable Distribution',\n",
    "       xlabel='Diet',\n",
    "       xticklabels=['Excellent', 'Very Good', 'Good', 'Fair', 'Poor', \"Don't Know\"],\n",
    "       ylabel='Count');"
   ]
  },
  {
   "cell_type": "markdown",
   "metadata": {},
   "source": [
    "I remove the small number of instances of people who don't know."
   ]
  },
  {
   "cell_type": "code",
   "execution_count": 41,
   "metadata": {},
   "outputs": [],
   "source": [
    "diet = diet[diet.DBQ700 != 9]"
   ]
  },
  {
   "cell_type": "markdown",
   "metadata": {},
   "source": [
    "Since diet is a categorical variable, I use a barplot to see what percent is diabetic for people with various diets."
   ]
  },
  {
   "cell_type": "code",
   "execution_count": 42,
   "metadata": {},
   "outputs": [
    {
     "data": {
      "image/png": "[encoded data removed]",
      "text/plain": [
       "<Figure size 432x288 with 1 Axes>"
      ]
     },
     "metadata": {
      "needs_background": "light"
     },
     "output_type": "display_data"
    }
   ],
   "source": [
    "var = 'DBQ700'\n",
    "\n",
    "tmp = pd.merge(labels, diet, how='left', on='SEQN')\n",
    "tmp = (tmp.loc[:, ['DIQ010', var]]\n",
    "                .groupby([var, 'DIQ010'])\n",
    "                .size()\n",
    "                .unstack(fill_value=0.0)\n",
    "                .reset_index()\n",
    "                .assign(Percent = lambda x: x[1.0] / (x[1.0]+x[2.0])))\n",
    "\n",
    "fig, ax = plt.subplots()\n",
    "ax = sns.barplot(x=var, y='Percent', data=tmp, palette=sns.color_palette('GnBu_d'))\n",
    "\n",
    "for index, row in tmp.iterrows():\n",
    "    ax.text(row.name, row.Percent + .001, '{:.1%}'.format(row.Percent),\n",
    "            color='black', ha='center')\n",
    "    \n",
    "ax.set(title='Diet and Diabetes',\n",
    "       xlabel='Diet',\n",
    "       xticklabels=['Excellent', 'Very Good', 'Good', 'Fair', 'Poor', \"Don't Know\"],\n",
    "       ylabel='Diabetic',\n",
    "       yticklabels=['{:,.0%}'.format(x) for x in ax.get_yticks()]);"
   ]
  },
  {
   "cell_type": "markdown",
   "metadata": {},
   "source": [
    "Aside from people with poor diet, there seems to be an increased percentage of diabetics as one's diet decreases in quality."
   ]
  },
  {
   "cell_type": "markdown",
   "metadata": {},
   "source": [
    "### BMI - BMXBMI"
   ]
  },
  {
   "cell_type": "code",
   "execution_count": 43,
   "metadata": {},
   "outputs": [
    {
     "data": {
      "text/html": [
       "<div>\n",
       "<style scoped>\n",
       "    .dataframe tbody tr th:only-of-type {\n",
       "        vertical-align: middle;\n",
       "    }\n",
       "\n",
       "    .dataframe tbody tr th {\n",
       "        vertical-align: top;\n",
       "    }\n",
       "\n",
       "    .dataframe thead th {\n",
       "        text-align: right;\n",
       "    }\n",
       "</style>\n",
       "<table border=\"1\" class=\"dataframe\">\n",
       "  <thead>\n",
       "    <tr style=\"text-align: right;\">\n",
       "      <th></th>\n",
       "      <th>SEQN</th>\n",
       "      <th>BMXBMI</th>\n",
       "    </tr>\n",
       "  </thead>\n",
       "  <tbody>\n",
       "    <tr>\n",
       "      <td>0</td>\n",
       "      <td>83732.0</td>\n",
       "      <td>27.8</td>\n",
       "    </tr>\n",
       "    <tr>\n",
       "      <td>1</td>\n",
       "      <td>83733.0</td>\n",
       "      <td>30.8</td>\n",
       "    </tr>\n",
       "    <tr>\n",
       "      <td>2</td>\n",
       "      <td>83734.0</td>\n",
       "      <td>28.8</td>\n",
       "    </tr>\n",
       "    <tr>\n",
       "      <td>3</td>\n",
       "      <td>83735.0</td>\n",
       "      <td>42.4</td>\n",
       "    </tr>\n",
       "    <tr>\n",
       "      <td>4</td>\n",
       "      <td>83736.0</td>\n",
       "      <td>20.3</td>\n",
       "    </tr>\n",
       "  </tbody>\n",
       "</table>\n",
       "</div>"
      ],
      "text/plain": [
       "      SEQN  BMXBMI\n",
       "0  83732.0    27.8\n",
       "1  83733.0    30.8\n",
       "2  83734.0    28.8\n",
       "3  83735.0    42.4\n",
       "4  83736.0    20.3"
      ]
     },
     "execution_count": 43,
     "metadata": {},
     "output_type": "execute_result"
    }
   ],
   "source": [
    "body_raw = pd.read_sas('Data/Examination/BMX_I.XPT')\n",
    "bmi = body_raw[['SEQN', 'BMXBMI']]\n",
    "bmi.head()"
   ]
  },
  {
   "cell_type": "code",
   "execution_count": 44,
   "metadata": {},
   "outputs": [
    {
     "data": {
      "image/png": "[encoded data removed]",
      "text/plain": [
       "<Figure size 432x288 with 1 Axes>"
      ]
     },
     "metadata": {
      "needs_background": "light"
     },
     "output_type": "display_data"
    }
   ],
   "source": [
    "ax = sns.distplot(bmi.BMXBMI.dropna())\n",
    "ax.set(title='BMI Feature Distribution',\n",
    "       xlabel='BMI');"
   ]
  },
  {
   "cell_type": "markdown",
   "metadata": {},
   "source": [
    "Since BMI is a numerical variable, I use a boxplot to see whether diabetics and non-diabetics have different median BMI."
   ]
  },
  {
   "cell_type": "code",
   "execution_count": 45,
   "metadata": {},
   "outputs": [
    {
     "data": {
      "image/png": "[encoded data removed]",
      "text/plain": [
       "<Figure size 432x288 with 1 Axes>"
      ]
     },
     "metadata": {
      "needs_background": "light"
     },
     "output_type": "display_data"
    }
   ],
   "source": [
    "var = 'BMXBMI'\n",
    "\n",
    "tmp = pd.merge(labels, bmi, how='left', on='SEQN')\n",
    "tmp = tmp.drop(['SEQN'], axis=1)\n",
    "\n",
    "ax = sns.boxplot(x='DIQ010', y=var, data=tmp, palette=sns.color_palette('Paired'), showfliers=False)\n",
    "\n",
    "medians = tmp.groupby(['DIQ010'])[var].median().values\n",
    "median_labels = [str(np.round(s, 2)) for s in medians]\n",
    "pos = range(len(medians))\n",
    "\n",
    "for tick, label in zip(pos, ax.get_xticklabels()):\n",
    "    ax.text(pos[tick], medians[tick]+1, median_labels[tick], \n",
    "            horizontalalignment='center', size='medium', color='w', weight='semibold')\n",
    "\n",
    "ax.set(title='BMI and Diabetes',\n",
    "       xlabel=None,\n",
    "       xticklabels=['Diabetic', 'Non-diabetic'],\n",
    "       ylabel='BMI');"
   ]
  },
  {
   "cell_type": "markdown",
   "metadata": {},
   "source": [
    "As expected, a diabetic's median BMI is much higher and outside the healthy range of 18.5 - 24.9. Meanwhile a non-diabetic's median BMI is 24.5, which is on the upper end of the healthy range."
   ]
  },
  {
   "cell_type": "markdown",
   "metadata": {},
   "source": [
    "### Waist Circumference - BMXWAIST"
   ]
  },
  {
   "cell_type": "code",
   "execution_count": 46,
   "metadata": {},
   "outputs": [
    {
     "data": {
      "text/html": [
       "<div>\n",
       "<style scoped>\n",
       "    .dataframe tbody tr th:only-of-type {\n",
       "        vertical-align: middle;\n",
       "    }\n",
       "\n",
       "    .dataframe tbody tr th {\n",
       "        vertical-align: top;\n",
       "    }\n",
       "\n",
       "    .dataframe thead th {\n",
       "        text-align: right;\n",
       "    }\n",
       "</style>\n",
       "<table border=\"1\" class=\"dataframe\">\n",
       "  <thead>\n",
       "    <tr style=\"text-align: right;\">\n",
       "      <th></th>\n",
       "      <th>SEQN</th>\n",
       "      <th>BMXWAIST</th>\n",
       "    </tr>\n",
       "  </thead>\n",
       "  <tbody>\n",
       "    <tr>\n",
       "      <td>0</td>\n",
       "      <td>83732.0</td>\n",
       "      <td>101.1</td>\n",
       "    </tr>\n",
       "    <tr>\n",
       "      <td>1</td>\n",
       "      <td>83733.0</td>\n",
       "      <td>107.9</td>\n",
       "    </tr>\n",
       "    <tr>\n",
       "      <td>2</td>\n",
       "      <td>83734.0</td>\n",
       "      <td>116.5</td>\n",
       "    </tr>\n",
       "    <tr>\n",
       "      <td>3</td>\n",
       "      <td>83735.0</td>\n",
       "      <td>110.1</td>\n",
       "    </tr>\n",
       "    <tr>\n",
       "      <td>4</td>\n",
       "      <td>83736.0</td>\n",
       "      <td>80.4</td>\n",
       "    </tr>\n",
       "  </tbody>\n",
       "</table>\n",
       "</div>"
      ],
      "text/plain": [
       "      SEQN  BMXWAIST\n",
       "0  83732.0     101.1\n",
       "1  83733.0     107.9\n",
       "2  83734.0     116.5\n",
       "3  83735.0     110.1\n",
       "4  83736.0      80.4"
      ]
     },
     "execution_count": 46,
     "metadata": {},
     "output_type": "execute_result"
    }
   ],
   "source": [
    "waist = body_raw[['SEQN', 'BMXWAIST']]\n",
    "waist.head()"
   ]
  },
  {
   "cell_type": "code",
   "execution_count": 47,
   "metadata": {},
   "outputs": [
    {
     "data": {
      "image/png": "[encoded data removed]",
      "text/plain": [
       "<Figure size 432x288 with 1 Axes>"
      ]
     },
     "metadata": {
      "needs_background": "light"
     },
     "output_type": "display_data"
    }
   ],
   "source": [
    "ax = sns.distplot(waist.BMXWAIST.dropna())\n",
    "ax.set(title='Waist Feature Distribution',\n",
    "       xlabel='Circumference (cm)');"
   ]
  },
  {
   "cell_type": "markdown",
   "metadata": {},
   "source": [
    "Since waist circumference is a numerical variable, I use a boxplot to see whether diabetics and non-diabetics have different median waist circumferences."
   ]
  },
  {
   "cell_type": "code",
   "execution_count": 48,
   "metadata": {},
   "outputs": [
    {
     "data": {
      "image/png": "[encoded data removed]",
      "text/plain": [
       "<Figure size 432x288 with 1 Axes>"
      ]
     },
     "metadata": {
      "needs_background": "light"
     },
     "output_type": "display_data"
    }
   ],
   "source": [
    "var = 'BMXWAIST'\n",
    "\n",
    "tmp = pd.merge(labels, waist, how='left', on='SEQN')\n",
    "tmp = tmp.drop(['SEQN'], axis=1)\n",
    "\n",
    "ax = sns.boxplot(x='DIQ010', y=var, data=tmp, palette=sns.color_palette('Paired'), showfliers=False)\n",
    "\n",
    "medians = tmp.groupby(['DIQ010'])[var].median().values\n",
    "median_labels = [str(np.round(s, 2)) for s in medians]\n",
    "pos = range(len(medians))\n",
    "\n",
    "for tick, label in zip(pos, ax.get_xticklabels()):\n",
    "    ax.text(pos[tick], medians[tick]+1, median_labels[tick], \n",
    "            horizontalalignment='center', size='medium', color='w', weight='semibold')\n",
    "\n",
    "ax.set(title='Waist Circumference and Diabetes',\n",
    "       xlabel=None,\n",
    "       xticklabels=['Diabetic', 'Non-diabetic'],\n",
    "       ylabel='Circumference (cm)');"
   ]
  },
  {
   "cell_type": "markdown",
   "metadata": {},
   "source": [
    "As expected, a diabetic's median waist circumference is much higher than that of a non-diabetic."
   ]
  },
  {
   "cell_type": "markdown",
   "metadata": {},
   "source": [
    "### Family/Medical History - Failed Variable - DIQ170"
   ]
  },
  {
   "cell_type": "markdown",
   "metadata": {},
   "source": [
    "There isn't any one variable that specified a generic family/medical history. However, I found a feature that asks whether one is at risk for diabetes because of family or medical history."
   ]
  },
  {
   "cell_type": "code",
   "execution_count": 49,
   "metadata": {},
   "outputs": [
    {
     "data": {
      "text/html": [
       "<div>\n",
       "<style scoped>\n",
       "    .dataframe tbody tr th:only-of-type {\n",
       "        vertical-align: middle;\n",
       "    }\n",
       "\n",
       "    .dataframe tbody tr th {\n",
       "        vertical-align: top;\n",
       "    }\n",
       "\n",
       "    .dataframe thead th {\n",
       "        text-align: right;\n",
       "    }\n",
       "</style>\n",
       "<table border=\"1\" class=\"dataframe\">\n",
       "  <thead>\n",
       "    <tr style=\"text-align: right;\">\n",
       "      <th></th>\n",
       "      <th>SEQN</th>\n",
       "      <th>DIQ170</th>\n",
       "    </tr>\n",
       "  </thead>\n",
       "  <tbody>\n",
       "    <tr>\n",
       "      <td>0</td>\n",
       "      <td>83732.0</td>\n",
       "      <td>NaN</td>\n",
       "    </tr>\n",
       "    <tr>\n",
       "      <td>1</td>\n",
       "      <td>83733.0</td>\n",
       "      <td>2.0</td>\n",
       "    </tr>\n",
       "    <tr>\n",
       "      <td>2</td>\n",
       "      <td>83734.0</td>\n",
       "      <td>NaN</td>\n",
       "    </tr>\n",
       "    <tr>\n",
       "      <td>3</td>\n",
       "      <td>83735.0</td>\n",
       "      <td>1.0</td>\n",
       "    </tr>\n",
       "    <tr>\n",
       "      <td>4</td>\n",
       "      <td>83736.0</td>\n",
       "      <td>2.0</td>\n",
       "    </tr>\n",
       "  </tbody>\n",
       "</table>\n",
       "</div>"
      ],
      "text/plain": [
       "      SEQN  DIQ170\n",
       "0  83732.0     NaN\n",
       "1  83733.0     2.0\n",
       "2  83734.0     NaN\n",
       "3  83735.0     1.0\n",
       "4  83736.0     2.0"
      ]
     },
     "execution_count": 49,
     "metadata": {},
     "output_type": "execute_result"
    }
   ],
   "source": [
    "family_hist = diabetes_raw[['SEQN', 'DIQ170']]\n",
    "family_hist.head()"
   ]
  },
  {
   "cell_type": "code",
   "execution_count": 50,
   "metadata": {},
   "outputs": [
    {
     "data": {
      "image/png": "[encoded data removed]",
      "text/plain": [
       "<Figure size 432x288 with 1 Axes>"
      ]
     },
     "metadata": {
      "needs_background": "light"
     },
     "output_type": "display_data"
    }
   ],
   "source": [
    "ax = sns.countplot(family_hist.DIQ170.dropna(), palette=sns.color_palette('Paired'))\n",
    "ax.set(title='Family History Variable Distribution',\n",
    "       xlabel='Risk for Diabetes',\n",
    "       xticklabels=['Yes', 'No', \"Don't Know\"],\n",
    "       ylabel='Count');"
   ]
  },
  {
   "cell_type": "markdown",
   "metadata": {},
   "source": [
    "I remove the small number of instances of people who don't know."
   ]
  },
  {
   "cell_type": "code",
   "execution_count": 51,
   "metadata": {},
   "outputs": [],
   "source": [
    "family_hist = family_hist[family_hist.DIQ170 != 9]"
   ]
  },
  {
   "cell_type": "markdown",
   "metadata": {},
   "source": [
    "Since family history is a categorical variable, I use a barplot to see whether people who have family history that indicates they are at risk for diabetes have a higher percentage that indeed are diabetic."
   ]
  },
  {
   "cell_type": "code",
   "execution_count": 52,
   "metadata": {},
   "outputs": [],
   "source": [
    "var = 'DIQ170'\n",
    "\n",
    "tmp = pd.merge(labels, family_hist, how='left', on='SEQN')"
   ]
  },
  {
   "cell_type": "code",
   "execution_count": 53,
   "metadata": {},
   "outputs": [
    {
     "data": {
      "text/plain": [
       "0.0"
      ]
     },
     "execution_count": 53,
     "metadata": {},
     "output_type": "execute_result"
    }
   ],
   "source": [
    "tmp[tmp.DIQ010 == 1.0].DIQ170.sum()"
   ]
  },
  {
   "cell_type": "markdown",
   "metadata": {},
   "source": [
    "Turns out all diabetics didn't answer this question. I am guessing that they weren't asked this question since they have been told they already had diabetes."
   ]
  },
  {
   "cell_type": "markdown",
   "metadata": {},
   "source": [
    "### Hypertension - BPQ020"
   ]
  },
  {
   "cell_type": "code",
   "execution_count": 54,
   "metadata": {},
   "outputs": [
    {
     "data": {
      "text/html": [
       "<div>\n",
       "<style scoped>\n",
       "    .dataframe tbody tr th:only-of-type {\n",
       "        vertical-align: middle;\n",
       "    }\n",
       "\n",
       "    .dataframe tbody tr th {\n",
       "        vertical-align: top;\n",
       "    }\n",
       "\n",
       "    .dataframe thead th {\n",
       "        text-align: right;\n",
       "    }\n",
       "</style>\n",
       "<table border=\"1\" class=\"dataframe\">\n",
       "  <thead>\n",
       "    <tr style=\"text-align: right;\">\n",
       "      <th></th>\n",
       "      <th>SEQN</th>\n",
       "      <th>BPQ020</th>\n",
       "    </tr>\n",
       "  </thead>\n",
       "  <tbody>\n",
       "    <tr>\n",
       "      <td>0</td>\n",
       "      <td>83732.0</td>\n",
       "      <td>2.0</td>\n",
       "    </tr>\n",
       "    <tr>\n",
       "      <td>1</td>\n",
       "      <td>83733.0</td>\n",
       "      <td>2.0</td>\n",
       "    </tr>\n",
       "    <tr>\n",
       "      <td>2</td>\n",
       "      <td>83734.0</td>\n",
       "      <td>1.0</td>\n",
       "    </tr>\n",
       "    <tr>\n",
       "      <td>3</td>\n",
       "      <td>83735.0</td>\n",
       "      <td>2.0</td>\n",
       "    </tr>\n",
       "    <tr>\n",
       "      <td>4</td>\n",
       "      <td>83736.0</td>\n",
       "      <td>2.0</td>\n",
       "    </tr>\n",
       "  </tbody>\n",
       "</table>\n",
       "</div>"
      ],
      "text/plain": [
       "      SEQN  BPQ020\n",
       "0  83732.0     2.0\n",
       "1  83733.0     2.0\n",
       "2  83734.0     1.0\n",
       "3  83735.0     2.0\n",
       "4  83736.0     2.0"
      ]
     },
     "execution_count": 54,
     "metadata": {},
     "output_type": "execute_result"
    }
   ],
   "source": [
    "blood_pressure_cholesterol_raw = pd.read_sas('Data/Questionnaire/BPQ_I.XPT')\n",
    "hypertension = blood_pressure_cholesterol_raw[['SEQN', 'BPQ020']]\n",
    "hypertension.head()"
   ]
  },
  {
   "cell_type": "code",
   "execution_count": 55,
   "metadata": {
    "scrolled": true
   },
   "outputs": [
    {
     "data": {
      "image/png": "[encoded data removed]",
      "text/plain": [
       "<Figure size 432x288 with 1 Axes>"
      ]
     },
     "metadata": {
      "needs_background": "light"
     },
     "output_type": "display_data"
    }
   ],
   "source": [
    "ax = sns.countplot(hypertension.BPQ020.dropna(), palette=sns.color_palette('Paired'))\n",
    "ax.set(title='Hypertension Variable Distribution',\n",
    "       xlabel='Hypertension',\n",
    "       xticklabels=['Yes', 'No', \"Don't Know\"],\n",
    "       ylabel='Count');"
   ]
  },
  {
   "cell_type": "markdown",
   "metadata": {},
   "source": [
    "I remove the small number of instances of people who don't know."
   ]
  },
  {
   "cell_type": "code",
   "execution_count": 56,
   "metadata": {},
   "outputs": [],
   "source": [
    "hypertension = hypertension[hypertension.BPQ020 != 9]"
   ]
  },
  {
   "cell_type": "markdown",
   "metadata": {},
   "source": [
    "Since hypertension is a categorical variable, I use a barplot to see whether the population with hypertension has a higher percentage of diabetics."
   ]
  },
  {
   "cell_type": "code",
   "execution_count": 57,
   "metadata": {
    "scrolled": true
   },
   "outputs": [
    {
     "data": {
      "image/png": "[encoded data removed]",
      "text/plain": [
       "<Figure size 432x288 with 1 Axes>"
      ]
     },
     "metadata": {
      "needs_background": "light"
     },
     "output_type": "display_data"
    }
   ],
   "source": [
    "var = 'BPQ020'\n",
    "\n",
    "tmp = pd.merge(labels, hypertension, how='left', on='SEQN')\n",
    "tmp = (tmp.loc[:, ['DIQ010', var]]\n",
    "                .groupby([var, 'DIQ010'])\n",
    "                .size()\n",
    "                .unstack(fill_value=0.0)\n",
    "                .reset_index()\n",
    "                .assign(Percent = lambda x: x[1.0] / (x[1.0]+x[2.0])))\n",
    "\n",
    "fig, ax = plt.subplots()\n",
    "ax = sns.barplot(x=var, y='Percent', data=tmp, palette=sns.color_palette('Paired'))\n",
    "\n",
    "for index, row in tmp.iterrows():\n",
    "    ax.text(row.name, row.Percent + .001, '{:.1%}'.format(row.Percent),\n",
    "            color='black', ha='center')\n",
    "    \n",
    "ax.set(title='Hypertension and Diabetes',\n",
    "       xlabel='Hypertension',\n",
    "       xticklabels=['Yes', 'No'],\n",
    "       ylabel='Diabetic',\n",
    "       yticklabels=['{:,.0%}'.format(x) for x in ax.get_yticks()]);"
   ]
  },
  {
   "cell_type": "markdown",
   "metadata": {},
   "source": [
    "It is clear that the population with hypertension have a higher proportion of diabetics."
   ]
  },
  {
   "cell_type": "markdown",
   "metadata": {},
   "source": [
    "### Smoke - SMQ020"
   ]
  },
  {
   "cell_type": "markdown",
   "metadata": {},
   "source": [
    "**Feature description:** Smoked at least 100 cigarettes in life?"
   ]
  },
  {
   "cell_type": "code",
   "execution_count": 58,
   "metadata": {},
   "outputs": [
    {
     "data": {
      "text/html": [
       "<div>\n",
       "<style scoped>\n",
       "    .dataframe tbody tr th:only-of-type {\n",
       "        vertical-align: middle;\n",
       "    }\n",
       "\n",
       "    .dataframe tbody tr th {\n",
       "        vertical-align: top;\n",
       "    }\n",
       "\n",
       "    .dataframe thead th {\n",
       "        text-align: right;\n",
       "    }\n",
       "</style>\n",
       "<table border=\"1\" class=\"dataframe\">\n",
       "  <thead>\n",
       "    <tr style=\"text-align: right;\">\n",
       "      <th></th>\n",
       "      <th>SEQN</th>\n",
       "      <th>SMQ020</th>\n",
       "    </tr>\n",
       "  </thead>\n",
       "  <tbody>\n",
       "    <tr>\n",
       "      <td>0</td>\n",
       "      <td>83732.0</td>\n",
       "      <td>1.0</td>\n",
       "    </tr>\n",
       "    <tr>\n",
       "      <td>1</td>\n",
       "      <td>83733.0</td>\n",
       "      <td>1.0</td>\n",
       "    </tr>\n",
       "    <tr>\n",
       "      <td>2</td>\n",
       "      <td>83734.0</td>\n",
       "      <td>1.0</td>\n",
       "    </tr>\n",
       "    <tr>\n",
       "      <td>3</td>\n",
       "      <td>83735.0</td>\n",
       "      <td>2.0</td>\n",
       "    </tr>\n",
       "    <tr>\n",
       "      <td>4</td>\n",
       "      <td>83736.0</td>\n",
       "      <td>2.0</td>\n",
       "    </tr>\n",
       "  </tbody>\n",
       "</table>\n",
       "</div>"
      ],
      "text/plain": [
       "      SEQN  SMQ020\n",
       "0  83732.0     1.0\n",
       "1  83733.0     1.0\n",
       "2  83734.0     1.0\n",
       "3  83735.0     2.0\n",
       "4  83736.0     2.0"
      ]
     },
     "execution_count": 58,
     "metadata": {},
     "output_type": "execute_result"
    }
   ],
   "source": [
    "smoke_raw = pd.read_sas('Data/Questionnaire/SMQ_I.XPT')\n",
    "smoke = smoke_raw[['SEQN', 'SMQ020']]\n",
    "smoke.head()"
   ]
  },
  {
   "cell_type": "code",
   "execution_count": 59,
   "metadata": {
    "scrolled": true
   },
   "outputs": [
    {
     "data": {
      "image/png": "[encoded data removed]",
      "text/plain": [
       "<Figure size 432x288 with 1 Axes>"
      ]
     },
     "metadata": {
      "needs_background": "light"
     },
     "output_type": "display_data"
    }
   ],
   "source": [
    "ax = sns.countplot(smoke.SMQ020.dropna(), palette=sns.color_palette('Paired'))\n",
    "ax.set(title='Smoke Variable Distribution',\n",
    "       xlabel='Smoked Cigarettes',\n",
    "       xticklabels=['Yes', 'No', 'Refused', \"Don't Know\"],\n",
    "       ylabel='Count');"
   ]
  },
  {
   "cell_type": "markdown",
   "metadata": {},
   "source": [
    "I remove the small number of instances of people who don't know or refused to answer."
   ]
  },
  {
   "cell_type": "code",
   "execution_count": 60,
   "metadata": {},
   "outputs": [],
   "source": [
    "smoke = smoke[(smoke.SMQ020 != 9) & (smoke.SMQ020 != 7)]"
   ]
  },
  {
   "cell_type": "markdown",
   "metadata": {},
   "source": [
    "Since smoke is a categorical variable, I use a barplot to see whether the population who smoke have a higher percentage of diabetics."
   ]
  },
  {
   "cell_type": "code",
   "execution_count": 61,
   "metadata": {
    "scrolled": true
   },
   "outputs": [
    {
     "data": {
      "image/png": "[encoded data removed]",
      "text/plain": [
       "<Figure size 432x288 with 1 Axes>"
      ]
     },
     "metadata": {
      "needs_background": "light"
     },
     "output_type": "display_data"
    }
   ],
   "source": [
    "var = 'SMQ020'\n",
    "\n",
    "tmp = pd.merge(labels, smoke, how='left', on='SEQN')\n",
    "tmp = (tmp.loc[:, ['DIQ010', var]]\n",
    "                .groupby([var, 'DIQ010'])\n",
    "                .size()\n",
    "                .unstack(fill_value=0.0)\n",
    "                .reset_index()\n",
    "                .assign(Percent = lambda x: x[1.0] / (x[1.0]+x[2.0])))\n",
    "\n",
    "fig, ax = plt.subplots()\n",
    "ax = sns.barplot(x=var, y='Percent', data=tmp, palette=sns.color_palette('Paired'))\n",
    "\n",
    "for index, row in tmp.iterrows():\n",
    "    ax.text(row.name, row.Percent + .001, '{:.1%}'.format(row.Percent),\n",
    "            color='black', ha='center')\n",
    "    \n",
    "ax.set(title='Smoke and Diabetes',\n",
    "       xlabel='Smoked Cigarette',\n",
    "       xticklabels=['Yes', 'No'],\n",
    "       ylabel='Diabetic',\n",
    "       yticklabels=['{:,.0%}'.format(x) for x in ax.get_yticks()]);"
   ]
  },
  {
   "cell_type": "markdown",
   "metadata": {},
   "source": [
    "People who have smoked more than 100 cigarettes have a higher percentage of diabetics."
   ]
  },
  {
   "cell_type": "markdown",
   "metadata": {},
   "source": [
    "### Alcohol Use"
   ]
  },
  {
   "cell_type": "markdown",
   "metadata": {},
   "source": [
    "Since alcohol use had multiple variables, I decide to explore them individually before combining any needed variables together."
   ]
  },
  {
   "cell_type": "code",
   "execution_count": 62,
   "metadata": {},
   "outputs": [
    {
     "data": {
      "text/html": [
       "<div>\n",
       "<style scoped>\n",
       "    .dataframe tbody tr th:only-of-type {\n",
       "        vertical-align: middle;\n",
       "    }\n",
       "\n",
       "    .dataframe tbody tr th {\n",
       "        vertical-align: top;\n",
       "    }\n",
       "\n",
       "    .dataframe thead th {\n",
       "        text-align: right;\n",
       "    }\n",
       "</style>\n",
       "<table border=\"1\" class=\"dataframe\">\n",
       "  <thead>\n",
       "    <tr style=\"text-align: right;\">\n",
       "      <th></th>\n",
       "      <th>SEQN</th>\n",
       "      <th>ALQ101</th>\n",
       "      <th>ALQ110</th>\n",
       "      <th>ALQ120Q</th>\n",
       "      <th>ALQ120U</th>\n",
       "      <th>ALQ130</th>\n",
       "      <th>ALQ141Q</th>\n",
       "      <th>ALQ141U</th>\n",
       "      <th>ALQ151</th>\n",
       "      <th>ALQ160</th>\n",
       "    </tr>\n",
       "  </thead>\n",
       "  <tbody>\n",
       "    <tr>\n",
       "      <td>0</td>\n",
       "      <td>83732.0</td>\n",
       "      <td>1.0</td>\n",
       "      <td>NaN</td>\n",
       "      <td>1.000000e+00</td>\n",
       "      <td>2.0</td>\n",
       "      <td>1.0</td>\n",
       "      <td>5.397605e-79</td>\n",
       "      <td>NaN</td>\n",
       "      <td>2.0</td>\n",
       "      <td>NaN</td>\n",
       "    </tr>\n",
       "    <tr>\n",
       "      <td>1</td>\n",
       "      <td>83733.0</td>\n",
       "      <td>1.0</td>\n",
       "      <td>NaN</td>\n",
       "      <td>7.000000e+00</td>\n",
       "      <td>1.0</td>\n",
       "      <td>6.0</td>\n",
       "      <td>7.000000e+00</td>\n",
       "      <td>1.0</td>\n",
       "      <td>1.0</td>\n",
       "      <td>5.397605e-79</td>\n",
       "    </tr>\n",
       "    <tr>\n",
       "      <td>2</td>\n",
       "      <td>83734.0</td>\n",
       "      <td>1.0</td>\n",
       "      <td>NaN</td>\n",
       "      <td>5.397605e-79</td>\n",
       "      <td>NaN</td>\n",
       "      <td>NaN</td>\n",
       "      <td>NaN</td>\n",
       "      <td>NaN</td>\n",
       "      <td>1.0</td>\n",
       "      <td>NaN</td>\n",
       "    </tr>\n",
       "    <tr>\n",
       "      <td>3</td>\n",
       "      <td>83735.0</td>\n",
       "      <td>2.0</td>\n",
       "      <td>1.0</td>\n",
       "      <td>3.000000e+00</td>\n",
       "      <td>3.0</td>\n",
       "      <td>1.0</td>\n",
       "      <td>5.397605e-79</td>\n",
       "      <td>NaN</td>\n",
       "      <td>2.0</td>\n",
       "      <td>NaN</td>\n",
       "    </tr>\n",
       "    <tr>\n",
       "      <td>4</td>\n",
       "      <td>83736.0</td>\n",
       "      <td>2.0</td>\n",
       "      <td>1.0</td>\n",
       "      <td>1.000000e+00</td>\n",
       "      <td>3.0</td>\n",
       "      <td>1.0</td>\n",
       "      <td>5.397605e-79</td>\n",
       "      <td>NaN</td>\n",
       "      <td>2.0</td>\n",
       "      <td>NaN</td>\n",
       "    </tr>\n",
       "  </tbody>\n",
       "</table>\n",
       "</div>"
      ],
      "text/plain": [
       "      SEQN  ALQ101  ALQ110       ALQ120Q  ALQ120U  ALQ130       ALQ141Q  \\\n",
       "0  83732.0     1.0     NaN  1.000000e+00      2.0     1.0  5.397605e-79   \n",
       "1  83733.0     1.0     NaN  7.000000e+00      1.0     6.0  7.000000e+00   \n",
       "2  83734.0     1.0     NaN  5.397605e-79      NaN     NaN           NaN   \n",
       "3  83735.0     2.0     1.0  3.000000e+00      3.0     1.0  5.397605e-79   \n",
       "4  83736.0     2.0     1.0  1.000000e+00      3.0     1.0  5.397605e-79   \n",
       "\n",
       "   ALQ141U  ALQ151        ALQ160  \n",
       "0      NaN     2.0           NaN  \n",
       "1      1.0     1.0  5.397605e-79  \n",
       "2      NaN     1.0           NaN  \n",
       "3      NaN     2.0           NaN  \n",
       "4      NaN     2.0           NaN  "
      ]
     },
     "execution_count": 62,
     "metadata": {},
     "output_type": "execute_result"
    }
   ],
   "source": [
    "alcohol_raw = pd.read_sas('Data/Questionnaire/ALQ_I.XPT')\n",
    "alcohol_raw.head()"
   ]
  },
  {
   "cell_type": "markdown",
   "metadata": {},
   "source": [
    "### Alcohol - Variable 1 - ALQ101"
   ]
  },
  {
   "cell_type": "markdown",
   "metadata": {},
   "source": [
    "**Feature description:** In any one year, have you had at least 12 drinks of any type of alcoholic beverage? By a drink, I mean a 12 oz. beer, a 5 oz. glass of wine, or a one and a half ounces of liquor?"
   ]
  },
  {
   "cell_type": "code",
   "execution_count": 63,
   "metadata": {},
   "outputs": [
    {
     "data": {
      "text/html": [
       "<div>\n",
       "<style scoped>\n",
       "    .dataframe tbody tr th:only-of-type {\n",
       "        vertical-align: middle;\n",
       "    }\n",
       "\n",
       "    .dataframe tbody tr th {\n",
       "        vertical-align: top;\n",
       "    }\n",
       "\n",
       "    .dataframe thead th {\n",
       "        text-align: right;\n",
       "    }\n",
       "</style>\n",
       "<table border=\"1\" class=\"dataframe\">\n",
       "  <thead>\n",
       "    <tr style=\"text-align: right;\">\n",
       "      <th></th>\n",
       "      <th>SEQN</th>\n",
       "      <th>ALQ101</th>\n",
       "    </tr>\n",
       "  </thead>\n",
       "  <tbody>\n",
       "    <tr>\n",
       "      <td>0</td>\n",
       "      <td>83732.0</td>\n",
       "      <td>1.0</td>\n",
       "    </tr>\n",
       "    <tr>\n",
       "      <td>1</td>\n",
       "      <td>83733.0</td>\n",
       "      <td>1.0</td>\n",
       "    </tr>\n",
       "    <tr>\n",
       "      <td>2</td>\n",
       "      <td>83734.0</td>\n",
       "      <td>1.0</td>\n",
       "    </tr>\n",
       "    <tr>\n",
       "      <td>3</td>\n",
       "      <td>83735.0</td>\n",
       "      <td>2.0</td>\n",
       "    </tr>\n",
       "    <tr>\n",
       "      <td>4</td>\n",
       "      <td>83736.0</td>\n",
       "      <td>2.0</td>\n",
       "    </tr>\n",
       "  </tbody>\n",
       "</table>\n",
       "</div>"
      ],
      "text/plain": [
       "      SEQN  ALQ101\n",
       "0  83732.0     1.0\n",
       "1  83733.0     1.0\n",
       "2  83734.0     1.0\n",
       "3  83735.0     2.0\n",
       "4  83736.0     2.0"
      ]
     },
     "execution_count": 63,
     "metadata": {},
     "output_type": "execute_result"
    }
   ],
   "source": [
    "alc1 = alcohol_raw[['SEQN', 'ALQ101']]\n",
    "alc1.head()"
   ]
  },
  {
   "cell_type": "code",
   "execution_count": 64,
   "metadata": {},
   "outputs": [
    {
     "data": {
      "image/png": "[encoded data removed]",
      "text/plain": [
       "<Figure size 432x288 with 1 Axes>"
      ]
     },
     "metadata": {
      "needs_background": "light"
     },
     "output_type": "display_data"
    }
   ],
   "source": [
    "ax = sns.countplot(alc1.ALQ101.dropna(), palette=sns.color_palette('Paired'))\n",
    "ax.set(title='Alcohol Variable Distribution',\n",
    "       xlabel='Drank 12 Drinks in One Year',\n",
    "       xticklabels=['Yes', 'No', \"Don't Know\"],\n",
    "       ylabel='Count');"
   ]
  },
  {
   "cell_type": "markdown",
   "metadata": {},
   "source": [
    "I removed the small number of instances where people didn't know the answer to the question."
   ]
  },
  {
   "cell_type": "code",
   "execution_count": 65,
   "metadata": {},
   "outputs": [],
   "source": [
    "alc1 = alc1[alc1.ALQ101 != 9]"
   ]
  },
  {
   "cell_type": "markdown",
   "metadata": {},
   "source": [
    "Since this variable is categorical, I use a barplot to see the difference in percentage of people who are diabetic between people who drink more and less."
   ]
  },
  {
   "cell_type": "code",
   "execution_count": 66,
   "metadata": {
    "scrolled": true
   },
   "outputs": [
    {
     "data": {
      "image/png": "[encoded data removed]",
      "text/plain": [
       "<Figure size 432x288 with 1 Axes>"
      ]
     },
     "metadata": {
      "needs_background": "light"
     },
     "output_type": "display_data"
    }
   ],
   "source": [
    "var = 'ALQ101'\n",
    "\n",
    "tmp = pd.merge(labels, alc1, how='left', on='SEQN')\n",
    "tmp = (tmp.loc[:, ['DIQ010', var]]\n",
    "                .groupby([var, 'DIQ010'])\n",
    "                .size()\n",
    "                .unstack(fill_value=0.0)\n",
    "                .reset_index()\n",
    "                .assign(Percent = lambda x: x[1.0] / (x[1.0]+x[2.0])))\n",
    "\n",
    "fig, ax = plt.subplots()\n",
    "ax = sns.barplot(x=var, y='Percent', data=tmp, palette=sns.color_palette('Paired'))\n",
    "\n",
    "for index, row in tmp.iterrows():\n",
    "    ax.text(row.name, row.Percent + .001, '{:.1%}'.format(row.Percent),\n",
    "            color='black', ha='center')\n",
    "    \n",
    "ax.set(title='Alcohol and Diabetes',\n",
    "       xlabel='Drank 12 Drinks in One Year',\n",
    "       xticklabels=['Yes', 'No'],\n",
    "       ylabel='Diabetic',\n",
    "       yticklabels=['{:,.0%}'.format(x) for x in ax.get_yticks()]);"
   ]
  },
  {
   "cell_type": "markdown",
   "metadata": {},
   "source": [
    "This data shows that people who drank at least 12 drinks in one year actually have a slight less percentage of diabetics. Let's look at another alcohol variable to see if this trend holds."
   ]
  },
  {
   "cell_type": "markdown",
   "metadata": {},
   "source": [
    "### Alcohol - Variable 2 - ALQ120Q"
   ]
  },
  {
   "cell_type": "markdown",
   "metadata": {},
   "source": [
    "**Feature description:** In the past 12 months, how often did you drink any type of alcoholic beverage? PROBE: How many days per week, per month, or per year did you drink?"
   ]
  },
  {
   "cell_type": "code",
   "execution_count": 67,
   "metadata": {},
   "outputs": [
    {
     "data": {
      "text/html": [
       "<div>\n",
       "<style scoped>\n",
       "    .dataframe tbody tr th:only-of-type {\n",
       "        vertical-align: middle;\n",
       "    }\n",
       "\n",
       "    .dataframe tbody tr th {\n",
       "        vertical-align: top;\n",
       "    }\n",
       "\n",
       "    .dataframe thead th {\n",
       "        text-align: right;\n",
       "    }\n",
       "</style>\n",
       "<table border=\"1\" class=\"dataframe\">\n",
       "  <thead>\n",
       "    <tr style=\"text-align: right;\">\n",
       "      <th></th>\n",
       "      <th>SEQN</th>\n",
       "      <th>ALQ120Q</th>\n",
       "    </tr>\n",
       "  </thead>\n",
       "  <tbody>\n",
       "    <tr>\n",
       "      <td>0</td>\n",
       "      <td>83732.0</td>\n",
       "      <td>1.000000e+00</td>\n",
       "    </tr>\n",
       "    <tr>\n",
       "      <td>1</td>\n",
       "      <td>83733.0</td>\n",
       "      <td>7.000000e+00</td>\n",
       "    </tr>\n",
       "    <tr>\n",
       "      <td>2</td>\n",
       "      <td>83734.0</td>\n",
       "      <td>5.397605e-79</td>\n",
       "    </tr>\n",
       "    <tr>\n",
       "      <td>3</td>\n",
       "      <td>83735.0</td>\n",
       "      <td>3.000000e+00</td>\n",
       "    </tr>\n",
       "    <tr>\n",
       "      <td>4</td>\n",
       "      <td>83736.0</td>\n",
       "      <td>1.000000e+00</td>\n",
       "    </tr>\n",
       "  </tbody>\n",
       "</table>\n",
       "</div>"
      ],
      "text/plain": [
       "      SEQN       ALQ120Q\n",
       "0  83732.0  1.000000e+00\n",
       "1  83733.0  7.000000e+00\n",
       "2  83734.0  5.397605e-79\n",
       "3  83735.0  3.000000e+00\n",
       "4  83736.0  1.000000e+00"
      ]
     },
     "execution_count": 67,
     "metadata": {},
     "output_type": "execute_result"
    }
   ],
   "source": [
    "alc2 = alcohol_raw[['SEQN', 'ALQ120Q']]\n",
    "alc2.head()"
   ]
  },
  {
   "cell_type": "code",
   "execution_count": 68,
   "metadata": {},
   "outputs": [
    {
     "data": {
      "image/png": "[encoded data removed]",
      "text/plain": [
       "<Figure size 432x288 with 1 Axes>"
      ]
     },
     "metadata": {
      "needs_background": "light"
     },
     "output_type": "display_data"
    }
   ],
   "source": [
    "ax = sns.distplot(alc2.ALQ120Q.dropna())\n",
    "ax.set(title='Alcohol Feature Distribution',\n",
    "       xlabel='Number of Drinks');"
   ]
  },
  {
   "cell_type": "markdown",
   "metadata": {},
   "source": [
    "Initially, I scope in on the graph to see where the majority of the values are."
   ]
  },
  {
   "cell_type": "code",
   "execution_count": 69,
   "metadata": {},
   "outputs": [
    {
     "data": {
      "image/png": "[encoded data removed]",
      "text/plain": [
       "<Figure size 432x288 with 1 Axes>"
      ]
     },
     "metadata": {
      "needs_background": "light"
     },
     "output_type": "display_data"
    }
   ],
   "source": [
    "alc2 = alc2[alc2.ALQ120Q < 20]\n",
    "\n",
    "ax = sns.distplot(alc2.ALQ120Q.dropna())\n",
    "ax.set(title='Alcohol Feature Distribution',\n",
    "       xlabel='Number of Drinks');"
   ]
  },
  {
   "cell_type": "markdown",
   "metadata": {},
   "source": [
    "I decide to group any values greater than 10 as 10."
   ]
  },
  {
   "cell_type": "code",
   "execution_count": 70,
   "metadata": {},
   "outputs": [
    {
     "data": {
      "image/png": "[encoded data removed]",
      "text/plain": [
       "<Figure size 432x288 with 1 Axes>"
      ]
     },
     "metadata": {
      "needs_background": "light"
     },
     "output_type": "display_data"
    }
   ],
   "source": [
    "alc2.ALQ120Q = alc2.ALQ120Q.apply(lambda x: 10 if x > 10 else x)\n",
    "\n",
    "ax = sns.distplot(alc2.ALQ120Q.dropna())\n",
    "ax.set(title='Alcohol Feature Distribution',\n",
    "       xlabel='Number of Drinks');"
   ]
  },
  {
   "cell_type": "markdown",
   "metadata": {},
   "source": [
    "Although numeric, this variable should be treated as categorical based on the graph above. I round every value to one decimal point for this purpose."
   ]
  },
  {
   "cell_type": "code",
   "execution_count": 71,
   "metadata": {},
   "outputs": [],
   "source": [
    "alc2.ALQ120Q = alc2.ALQ120Q.apply(lambda x: round(x, 2))"
   ]
  },
  {
   "cell_type": "code",
   "execution_count": 72,
   "metadata": {},
   "outputs": [
    {
     "data": {
      "image/png": "[encoded data removed]",
      "text/plain": [
       "<Figure size 432x288 with 1 Axes>"
      ]
     },
     "metadata": {
      "needs_background": "light"
     },
     "output_type": "display_data"
    }
   ],
   "source": [
    "var = 'ALQ120Q'\n",
    "\n",
    "tmp = pd.merge(labels, alc2, how='left', on='SEQN')\n",
    "tmp = (tmp.loc[:, ['DIQ010', var]]\n",
    "                .groupby([var, 'DIQ010'])\n",
    "                .size()\n",
    "                .unstack(fill_value=0.0)\n",
    "                .reset_index()\n",
    "                .assign(Percent = lambda x: x[1.0] / (x[1.0]+x[2.0])))\n",
    "\n",
    "fig, ax = plt.subplots()\n",
    "ax = sns.barplot(x=var, y='Percent', data=tmp, palette=sns.color_palette('Paired'))\n",
    "\n",
    "for index, row in tmp.iterrows():\n",
    "    ax.text(row.name, row.Percent + .001, '{:.1%}'.format(row.Percent),\n",
    "            color='black', ha='center')\n",
    "    \n",
    "ax.set(title='Alcohol and Diabetes',\n",
    "       xlabel='Number of Drinks',\n",
    "       ylabel='Diabetic',\n",
    "       yticklabels=['{:,.0%}'.format(x) for x in ax.get_yticks()]);"
   ]
  },
  {
   "cell_type": "markdown",
   "metadata": {},
   "source": [
    "Since there is a big difference between people who don't drink and people who drink even one drink, I decide to group all the people who have at least one drink together before looking at the diabetic distributions between people who consume alcohol and people who don't."
   ]
  },
  {
   "cell_type": "code",
   "execution_count": 73,
   "metadata": {},
   "outputs": [],
   "source": [
    "alc2.ALQ120Q = alc2.ALQ120Q.apply(lambda x: 1 if x > 0 else 0)"
   ]
  },
  {
   "cell_type": "code",
   "execution_count": 74,
   "metadata": {},
   "outputs": [
    {
     "data": {
      "image/png": "[encoded data removed]",
      "text/plain": [
       "<Figure size 432x288 with 1 Axes>"
      ]
     },
     "metadata": {
      "needs_background": "light"
     },
     "output_type": "display_data"
    }
   ],
   "source": [
    "var = 'ALQ120Q'\n",
    "\n",
    "tmp = pd.merge(labels, alc2, how='left', on='SEQN')\n",
    "tmp = (tmp.loc[:, ['DIQ010', var]]\n",
    "                .groupby([var, 'DIQ010'])\n",
    "                .size()\n",
    "                .unstack(fill_value=0.0)\n",
    "                .reset_index()\n",
    "                .assign(Percent = lambda x: x[1.0] / (x[1.0]+x[2.0])))\n",
    "\n",
    "fig, ax = plt.subplots()\n",
    "ax = sns.barplot(x=var, y='Percent', data=tmp, palette=sns.color_palette('Paired'))\n",
    "\n",
    "for index, row in tmp.iterrows():\n",
    "    ax.text(row.name, row.Percent + .001, '{:.1%}'.format(row.Percent),\n",
    "            color='black', ha='center')\n",
    "    \n",
    "ax.set(title='Alcohol and Diabetes',\n",
    "       xlabel='Number of Drinks',\n",
    "       ylabel='Diabetic',\n",
    "       yticklabels=['{:,.0%}'.format(x) for x in ax.get_yticks()]);"
   ]
  },
  {
   "cell_type": "markdown",
   "metadata": {},
   "source": [
    "These results match the other alcohol feature from before. Some brief research suggests there are studies that indicate drinking a moderate amount of alcohol can reduce risk for diabetes. I decide to keep both variables for now."
   ]
  },
  {
   "cell_type": "markdown",
   "metadata": {},
   "source": [
    "### Now it's time to add the novel features relating to mental health! "
   ]
  },
  {
   "cell_type": "markdown",
   "metadata": {},
   "source": [
    "### Depression"
   ]
  },
  {
   "cell_type": "code",
   "execution_count": 75,
   "metadata": {},
   "outputs": [
    {
     "data": {
      "text/html": [
       "<div>\n",
       "<style scoped>\n",
       "    .dataframe tbody tr th:only-of-type {\n",
       "        vertical-align: middle;\n",
       "    }\n",
       "\n",
       "    .dataframe tbody tr th {\n",
       "        vertical-align: top;\n",
       "    }\n",
       "\n",
       "    .dataframe thead th {\n",
       "        text-align: right;\n",
       "    }\n",
       "</style>\n",
       "<table border=\"1\" class=\"dataframe\">\n",
       "  <thead>\n",
       "    <tr style=\"text-align: right;\">\n",
       "      <th></th>\n",
       "      <th>SEQN</th>\n",
       "      <th>DPQ010</th>\n",
       "      <th>DPQ020</th>\n",
       "      <th>DPQ030</th>\n",
       "      <th>DPQ040</th>\n",
       "      <th>DPQ050</th>\n",
       "      <th>DPQ060</th>\n",
       "      <th>DPQ070</th>\n",
       "      <th>DPQ080</th>\n",
       "      <th>DPQ090</th>\n",
       "      <th>DPQ100</th>\n",
       "    </tr>\n",
       "  </thead>\n",
       "  <tbody>\n",
       "    <tr>\n",
       "      <td>0</td>\n",
       "      <td>83732.0</td>\n",
       "      <td>5.397605e-79</td>\n",
       "      <td>5.397605e-79</td>\n",
       "      <td>5.397605e-79</td>\n",
       "      <td>1.000000e+00</td>\n",
       "      <td>5.397605e-79</td>\n",
       "      <td>5.397605e-79</td>\n",
       "      <td>5.397605e-79</td>\n",
       "      <td>5.397605e-79</td>\n",
       "      <td>5.397605e-79</td>\n",
       "      <td>5.397605e-79</td>\n",
       "    </tr>\n",
       "    <tr>\n",
       "      <td>1</td>\n",
       "      <td>83733.0</td>\n",
       "      <td>1.000000e+00</td>\n",
       "      <td>5.397605e-79</td>\n",
       "      <td>5.397605e-79</td>\n",
       "      <td>5.397605e-79</td>\n",
       "      <td>1.000000e+00</td>\n",
       "      <td>5.397605e-79</td>\n",
       "      <td>5.397605e-79</td>\n",
       "      <td>5.397605e-79</td>\n",
       "      <td>5.397605e-79</td>\n",
       "      <td>5.397605e-79</td>\n",
       "    </tr>\n",
       "    <tr>\n",
       "      <td>2</td>\n",
       "      <td>83734.0</td>\n",
       "      <td>5.397605e-79</td>\n",
       "      <td>5.397605e-79</td>\n",
       "      <td>5.397605e-79</td>\n",
       "      <td>1.000000e+00</td>\n",
       "      <td>5.397605e-79</td>\n",
       "      <td>5.397605e-79</td>\n",
       "      <td>5.397605e-79</td>\n",
       "      <td>5.397605e-79</td>\n",
       "      <td>5.397605e-79</td>\n",
       "      <td>1.000000e+00</td>\n",
       "    </tr>\n",
       "    <tr>\n",
       "      <td>3</td>\n",
       "      <td>83735.0</td>\n",
       "      <td>1.000000e+00</td>\n",
       "      <td>1.000000e+00</td>\n",
       "      <td>2.000000e+00</td>\n",
       "      <td>2.000000e+00</td>\n",
       "      <td>1.000000e+00</td>\n",
       "      <td>3.000000e+00</td>\n",
       "      <td>2.000000e+00</td>\n",
       "      <td>5.397605e-79</td>\n",
       "      <td>1.000000e+00</td>\n",
       "      <td>5.397605e-79</td>\n",
       "    </tr>\n",
       "    <tr>\n",
       "      <td>4</td>\n",
       "      <td>83736.0</td>\n",
       "      <td>1.000000e+00</td>\n",
       "      <td>1.000000e+00</td>\n",
       "      <td>1.000000e+00</td>\n",
       "      <td>1.000000e+00</td>\n",
       "      <td>3.000000e+00</td>\n",
       "      <td>5.397605e-79</td>\n",
       "      <td>1.000000e+00</td>\n",
       "      <td>5.397605e-79</td>\n",
       "      <td>5.397605e-79</td>\n",
       "      <td>5.397605e-79</td>\n",
       "    </tr>\n",
       "  </tbody>\n",
       "</table>\n",
       "</div>"
      ],
      "text/plain": [
       "      SEQN        DPQ010        DPQ020        DPQ030        DPQ040  \\\n",
       "0  83732.0  5.397605e-79  5.397605e-79  5.397605e-79  1.000000e+00   \n",
       "1  83733.0  1.000000e+00  5.397605e-79  5.397605e-79  5.397605e-79   \n",
       "2  83734.0  5.397605e-79  5.397605e-79  5.397605e-79  1.000000e+00   \n",
       "3  83735.0  1.000000e+00  1.000000e+00  2.000000e+00  2.000000e+00   \n",
       "4  83736.0  1.000000e+00  1.000000e+00  1.000000e+00  1.000000e+00   \n",
       "\n",
       "         DPQ050        DPQ060        DPQ070        DPQ080        DPQ090  \\\n",
       "0  5.397605e-79  5.397605e-79  5.397605e-79  5.397605e-79  5.397605e-79   \n",
       "1  1.000000e+00  5.397605e-79  5.397605e-79  5.397605e-79  5.397605e-79   \n",
       "2  5.397605e-79  5.397605e-79  5.397605e-79  5.397605e-79  5.397605e-79   \n",
       "3  1.000000e+00  3.000000e+00  2.000000e+00  5.397605e-79  1.000000e+00   \n",
       "4  3.000000e+00  5.397605e-79  1.000000e+00  5.397605e-79  5.397605e-79   \n",
       "\n",
       "         DPQ100  \n",
       "0  5.397605e-79  \n",
       "1  5.397605e-79  \n",
       "2  1.000000e+00  \n",
       "3  5.397605e-79  \n",
       "4  5.397605e-79  "
      ]
     },
     "execution_count": 75,
     "metadata": {},
     "output_type": "execute_result"
    }
   ],
   "source": [
    "depression_raw = pd.read_sas('Data/Questionnaire/DPQ_I.XPT')\n",
    "depression_raw.head()"
   ]
  },
  {
   "cell_type": "code",
   "execution_count": 76,
   "metadata": {
    "scrolled": true
   },
   "outputs": [
    {
     "data": {
      "text/plain": [
       "SEQN         0\n",
       "DPQ010     571\n",
       "DPQ020     571\n",
       "DPQ030     571\n",
       "DPQ040     573\n",
       "DPQ050     573\n",
       "DPQ060     573\n",
       "DPQ070     574\n",
       "DPQ080     574\n",
       "DPQ090     574\n",
       "DPQ100    2156\n",
       "dtype: int64"
      ]
     },
     "execution_count": 76,
     "metadata": {},
     "output_type": "execute_result"
    }
   ],
   "source": [
    "depression_raw.isnull().sum()"
   ]
  },
  {
   "cell_type": "markdown",
   "metadata": {},
   "source": [
    "I eliminate the last variable for having way more missing values in comparison to the other 9 variables. Based on the survey data on NHANES website, the remaining variables all are in questionnaire format with the same possible choices offered answers. I remove any responses that are 'Refused' or \"Don't Know\" since they only make up a fraction of the total responses and also don't offer much insight."
   ]
  },
  {
   "cell_type": "code",
   "execution_count": 77,
   "metadata": {},
   "outputs": [],
   "source": [
    "depression = depression_raw.drop(['DPQ100'], axis=1)\n",
    "depression = depression.apply(lambda x: round(x, 2))\n",
    "\n",
    "for feature in depression.columns[1:]:\n",
    "    depression = depression[depression[feature] <= 3]"
   ]
  },
  {
   "cell_type": "markdown",
   "metadata": {},
   "source": [
    "Since all the variables are categorical, let me view each variable one at a time."
   ]
  },
  {
   "cell_type": "markdown",
   "metadata": {},
   "source": [
    "### Depression Feature 1: Have little interest in doing things - DPQ010"
   ]
  },
  {
   "cell_type": "markdown",
   "metadata": {},
   "source": [
    "**Feature description:** Over the last 2 weeks, how often have you been bothered by the following problems: little interest or pleasure in doing things? Would you say..."
   ]
  },
  {
   "cell_type": "code",
   "execution_count": 78,
   "metadata": {},
   "outputs": [
    {
     "data": {
      "image/png": "[encoded data removed]",
      "text/plain": [
       "<Figure size 432x288 with 1 Axes>"
      ]
     },
     "metadata": {
      "needs_background": "light"
     },
     "output_type": "display_data"
    }
   ],
   "source": [
    "var = 'DPQ010'\n",
    "\n",
    "depression_tmp = depression[['SEQN', var]]\n",
    "tmp = pd.merge(labels, depression_tmp, how='left', on='SEQN')\n",
    "tmp = (tmp.loc[:, ['DIQ010', var]]\n",
    "                .groupby([var, 'DIQ010'])\n",
    "                .size()\n",
    "                .unstack(fill_value=0.0)\n",
    "                .reset_index()\n",
    "                .assign(Percent = lambda x: x[1.0] / (x[1.0]+x[2.0])))\n",
    "\n",
    "fig, ax = plt.subplots()\n",
    "ax = sns.barplot(x=var, y='Percent', data=tmp, palette=sns.color_palette('GnBu_d', 4))\n",
    "\n",
    "for index, row in tmp.iterrows():\n",
    "    ax.text(row.name, row.Percent + .001, '{:.1%}'.format(row.Percent),\n",
    "            color='black', ha='center')\n",
    "    \n",
    "ax.set(title='Depression and Diabetes',\n",
    "       xlabel='Have Little Interest in Doing Things',\n",
    "       xticklabels=['Not at all', 'Several days', 'More than half', 'Nearly every day'],\n",
    "       ylabel='Diabetic',\n",
    "       yticklabels=['{:,.0%}'.format(x) for x in ax.get_yticks()]);"
   ]
  },
  {
   "cell_type": "markdown",
   "metadata": {},
   "source": [
    "Since there is a big difference between nearly every day and the rest of the responses, I decide to group the other responses together as one response."
   ]
  },
  {
   "cell_type": "code",
   "execution_count": 79,
   "metadata": {},
   "outputs": [],
   "source": [
    "depression.DPQ010 = depression.DPQ010.apply(lambda x: 0 if x != 3 else 3)"
   ]
  },
  {
   "cell_type": "code",
   "execution_count": 80,
   "metadata": {},
   "outputs": [
    {
     "data": {
      "image/png": "[encoded data removed]",
      "text/plain": [
       "<Figure size 432x288 with 1 Axes>"
      ]
     },
     "metadata": {
      "needs_background": "light"
     },
     "output_type": "display_data"
    }
   ],
   "source": [
    "var = 'DPQ010'\n",
    "\n",
    "depression_tmp = depression[['SEQN', var]]\n",
    "tmp = pd.merge(labels, depression_tmp, how='left', on='SEQN')\n",
    "tmp = (tmp.loc[:, ['DIQ010', var]]\n",
    "                .groupby([var, 'DIQ010'])\n",
    "                .size()\n",
    "                .unstack(fill_value=0.0)\n",
    "                .reset_index()\n",
    "                .assign(Percent = lambda x: x[1.0] / (x[1.0]+x[2.0])))\n",
    "\n",
    "fig, ax = plt.subplots()\n",
    "ax = sns.barplot(x=var, y='Percent', data=tmp, palette=sns.color_palette('GnBu_d', 2))\n",
    "\n",
    "for index, row in tmp.iterrows():\n",
    "    ax.text(row.name, row.Percent + .001, '{:.1%}'.format(row.Percent),\n",
    "            color='black', ha='center')\n",
    "    \n",
    "ax.set(title='Depression and Diabetes',\n",
    "       xlabel='Have Little Interest in Doing Things',\n",
    "       xticklabels=['Other', 'Nearly every day'],\n",
    "       ylabel='Diabetic',\n",
    "       yticklabels=['{:,.0%}'.format(x) for x in ax.get_yticks()]);"
   ]
  },
  {
   "cell_type": "markdown",
   "metadata": {},
   "source": [
    "### Depression Feature 2: Feeling down, depressed, or hopeless - DPQ020"
   ]
  },
  {
   "cell_type": "markdown",
   "metadata": {},
   "source": [
    "**Feature description:** Over the last 2 weeks, how often have you been bothered by the following problems: feeling down, depressed, or hopeless?"
   ]
  },
  {
   "cell_type": "code",
   "execution_count": 81,
   "metadata": {
    "scrolled": true
   },
   "outputs": [
    {
     "data": {
      "image/png": "[encoded data removed]",
      "text/plain": [
       "<Figure size 432x288 with 1 Axes>"
      ]
     },
     "metadata": {
      "needs_background": "light"
     },
     "output_type": "display_data"
    }
   ],
   "source": [
    "var = 'DPQ020'\n",
    "\n",
    "depression_tmp = depression[['SEQN', var]]\n",
    "tmp = pd.merge(labels, depression_tmp, how='left', on='SEQN')\n",
    "tmp = (tmp.loc[:, ['DIQ010', var]]\n",
    "                .groupby([var, 'DIQ010'])\n",
    "                .size()\n",
    "                .unstack(fill_value=0.0)\n",
    "                .reset_index()\n",
    "                .assign(Percent = lambda x: x[1.0] / (x[1.0]+x[2.0])))\n",
    "\n",
    "fig, ax = plt.subplots()\n",
    "ax = sns.barplot(x=var, y='Percent', data=tmp, palette=sns.color_palette('GnBu_d', 4))\n",
    "\n",
    "for index, row in tmp.iterrows():\n",
    "    ax.text(row.name, row.Percent + .001, '{:.1%}'.format(row.Percent),\n",
    "            color='black', ha='center')\n",
    "    \n",
    "ax.set(title='Depression and Diabetes',\n",
    "       xlabel='Feeling down, depressed, or hopeless',\n",
    "       xticklabels=['Not at all', 'Several days', 'More than half', 'Nearly every day'],\n",
    "       ylabel='Diabetic',\n",
    "       yticklabels=['{:,.0%}'.format(x) for x in ax.get_yticks()]);"
   ]
  },
  {
   "cell_type": "markdown",
   "metadata": {},
   "source": [
    "Again, since there is a big difference between nearly every day and the rest of the responses, I decide to group the other responses together as one response."
   ]
  },
  {
   "cell_type": "code",
   "execution_count": 82,
   "metadata": {},
   "outputs": [],
   "source": [
    "depression.DPQ020 = depression.DPQ020.apply(lambda x: 0 if x != 3 else 3)"
   ]
  },
  {
   "cell_type": "code",
   "execution_count": 83,
   "metadata": {},
   "outputs": [
    {
     "data": {
      "image/png": "[encoded data removed]",
      "text/plain": [
       "<Figure size 432x288 with 1 Axes>"
      ]
     },
     "metadata": {
      "needs_background": "light"
     },
     "output_type": "display_data"
    }
   ],
   "source": [
    "var = 'DPQ020'\n",
    "\n",
    "depression_tmp = depression[['SEQN', var]]\n",
    "tmp = pd.merge(labels, depression_tmp, how='left', on='SEQN')\n",
    "tmp = (tmp.loc[:, ['DIQ010', var]]\n",
    "                .groupby([var, 'DIQ010'])\n",
    "                .size()\n",
    "                .unstack(fill_value=0.0)\n",
    "                .reset_index()\n",
    "                .assign(Percent = lambda x: x[1.0] / (x[1.0]+x[2.0])))\n",
    "\n",
    "fig, ax = plt.subplots()\n",
    "ax = sns.barplot(x=var, y='Percent', data=tmp, palette=sns.color_palette('GnBu_d', 2))\n",
    "\n",
    "for index, row in tmp.iterrows():\n",
    "    ax.text(row.name, row.Percent + .001, '{:.1%}'.format(row.Percent),\n",
    "            color='black', ha='center')\n",
    "    \n",
    "ax.set(title='Depression and Diabetes',\n",
    "       xlabel='Feeling down, depressed, or hopeless',\n",
    "       xticklabels=['Other', 'Nearly every day'],\n",
    "       ylabel='Diabetic',\n",
    "       yticklabels=['{:,.0%}'.format(x) for x in ax.get_yticks()]);"
   ]
  },
  {
   "cell_type": "markdown",
   "metadata": {},
   "source": [
    "### Depression Feature 3: Trouble sleeping or sleeping too much - DPQ030"
   ]
  },
  {
   "cell_type": "markdown",
   "metadata": {},
   "source": [
    "**Feature description:** Over the last 2 weeks, how often have you been bothered by the following problems: trouble falling or staying asleep, or sleeping too much?"
   ]
  },
  {
   "cell_type": "code",
   "execution_count": 84,
   "metadata": {},
   "outputs": [
    {
     "data": {
      "image/png": "[encoded data removed]",
      "text/plain": [
       "<Figure size 432x288 with 1 Axes>"
      ]
     },
     "metadata": {
      "needs_background": "light"
     },
     "output_type": "display_data"
    }
   ],
   "source": [
    "var = 'DPQ030'\n",
    "\n",
    "depression_tmp = depression[['SEQN', var]]\n",
    "tmp = pd.merge(labels, depression_tmp, how='left', on='SEQN')\n",
    "tmp = (tmp.loc[:, ['DIQ010', var]]\n",
    "                .groupby([var, 'DIQ010'])\n",
    "                .size()\n",
    "                .unstack(fill_value=0.0)\n",
    "                .reset_index()\n",
    "                .assign(Percent = lambda x: x[1.0] / (x[1.0]+x[2.0])))\n",
    "\n",
    "fig, ax = plt.subplots()\n",
    "ax = sns.barplot(x=var, y='Percent', data=tmp, palette=sns.color_palette('GnBu_d', 4))\n",
    "\n",
    "for index, row in tmp.iterrows():\n",
    "    ax.text(row.name, row.Percent + .001, '{:.1%}'.format(row.Percent),\n",
    "            color='black', ha='center')\n",
    "    \n",
    "ax.set(title='Depression and Diabetes',\n",
    "       xlabel='Trouble sleeping',\n",
    "       xticklabels=['Not at all', 'Several days', 'More than half', 'Nearly every day'],\n",
    "       ylabel='Diabetic',\n",
    "       yticklabels=['{:,.0%}'.format(x) for x in ax.get_yticks()]);"
   ]
  },
  {
   "cell_type": "markdown",
   "metadata": {},
   "source": [
    "This time I see a gradual increase in percentage of diabetics so I leave the variable as it is."
   ]
  },
  {
   "cell_type": "markdown",
   "metadata": {},
   "source": [
    "### Depression Feature 4: Feeling tired or having little energy - DPQ040"
   ]
  },
  {
   "cell_type": "markdown",
   "metadata": {},
   "source": [
    "**Feature description:** Over the last 2 weeks, how often have you been bothered by the following problems: feeling tired or having little energy?"
   ]
  },
  {
   "cell_type": "code",
   "execution_count": 85,
   "metadata": {},
   "outputs": [
    {
     "data": {
      "image/png": "[encoded data removed]",
      "text/plain": [
       "<Figure size 432x288 with 1 Axes>"
      ]
     },
     "metadata": {
      "needs_background": "light"
     },
     "output_type": "display_data"
    }
   ],
   "source": [
    "var = 'DPQ040'\n",
    "\n",
    "depression_tmp = depression[['SEQN', var]]\n",
    "tmp = pd.merge(labels, depression_tmp, how='left', on='SEQN')\n",
    "tmp = (tmp.loc[:, ['DIQ010', var]]\n",
    "                .groupby([var, 'DIQ010'])\n",
    "                .size()\n",
    "                .unstack(fill_value=0.0)\n",
    "                .reset_index()\n",
    "                .assign(Percent = lambda x: x[1.0] / (x[1.0]+x[2.0])))\n",
    "\n",
    "fig, ax = plt.subplots()\n",
    "ax = sns.barplot(x=var, y='Percent', data=tmp, palette=sns.color_palette('GnBu_d', 4))\n",
    "\n",
    "for index, row in tmp.iterrows():\n",
    "    ax.text(row.name, row.Percent + .001, '{:.1%}'.format(row.Percent),\n",
    "            color='black', ha='center')\n",
    "    \n",
    "ax.set(title='Depression and Diabetes',\n",
    "       xlabel='Feeling tired',\n",
    "       xticklabels=['Not at all', 'Several days', 'More than half', 'Nearly every day'],\n",
    "       ylabel='Diabetic',\n",
    "       yticklabels=['{:,.0%}'.format(x) for x in ax.get_yticks()]);"
   ]
  },
  {
   "cell_type": "markdown",
   "metadata": {},
   "source": [
    "Again, since there is a big difference between nearly every day and the rest of the responses, I decide to group the other responses together as one response."
   ]
  },
  {
   "cell_type": "code",
   "execution_count": 86,
   "metadata": {},
   "outputs": [],
   "source": [
    "depression.DPQ040 = depression.DPQ040.apply(lambda x: 0 if x != 3 else 3)"
   ]
  },
  {
   "cell_type": "code",
   "execution_count": 87,
   "metadata": {
    "scrolled": true
   },
   "outputs": [
    {
     "data": {
      "image/png": "[encoded data removed]",
      "text/plain": [
       "<Figure size 432x288 with 1 Axes>"
      ]
     },
     "metadata": {
      "needs_background": "light"
     },
     "output_type": "display_data"
    }
   ],
   "source": [
    "var = 'DPQ040'\n",
    "\n",
    "depression_tmp = depression[['SEQN', var]]\n",
    "tmp = pd.merge(labels, depression_tmp, how='left', on='SEQN')\n",
    "tmp = (tmp.loc[:, ['DIQ010', var]]\n",
    "                .groupby([var, 'DIQ010'])\n",
    "                .size()\n",
    "                .unstack(fill_value=0.0)\n",
    "                .reset_index()\n",
    "                .assign(Percent = lambda x: x[1.0] / (x[1.0]+x[2.0])))\n",
    "\n",
    "fig, ax = plt.subplots()\n",
    "ax = sns.barplot(x=var, y='Percent', data=tmp, palette=sns.color_palette('GnBu_d', 2))\n",
    "\n",
    "for index, row in tmp.iterrows():\n",
    "    ax.text(row.name, row.Percent + .001, '{:.1%}'.format(row.Percent),\n",
    "            color='black', ha='center')\n",
    "    \n",
    "ax.set(title='Depression and Diabetes',\n",
    "       xlabel='Feeling tired',\n",
    "       xticklabels=['Other', 'Nearly every day'],\n",
    "       ylabel='Diabetic',\n",
    "       yticklabels=['{:,.0%}'.format(x) for x in ax.get_yticks()]);"
   ]
  },
  {
   "cell_type": "markdown",
   "metadata": {},
   "source": [
    "### Depression Feature 5: Poor appetite or overeating - DPQ050"
   ]
  },
  {
   "cell_type": "markdown",
   "metadata": {},
   "source": [
    "**Feature description:** Over the last 2 weeks, how often have you been bothered by the following problems: poor appetite or overeating?"
   ]
  },
  {
   "cell_type": "code",
   "execution_count": 88,
   "metadata": {},
   "outputs": [
    {
     "data": {
      "image/png": "[encoded data removed]",
      "text/plain": [
       "<Figure size 432x288 with 1 Axes>"
      ]
     },
     "metadata": {
      "needs_background": "light"
     },
     "output_type": "display_data"
    }
   ],
   "source": [
    "var = 'DPQ050'\n",
    "\n",
    "depression_tmp = depression[['SEQN', var]]\n",
    "tmp = pd.merge(labels, depression_tmp, how='left', on='SEQN')\n",
    "tmp = (tmp.loc[:, ['DIQ010', var]]\n",
    "                .groupby([var, 'DIQ010'])\n",
    "                .size()\n",
    "                .unstack(fill_value=0.0)\n",
    "                .reset_index()\n",
    "                .assign(Percent = lambda x: x[1.0] / (x[1.0]+x[2.0])))\n",
    "\n",
    "fig, ax = plt.subplots()\n",
    "ax = sns.barplot(x=var, y='Percent', data=tmp, palette=sns.color_palette('GnBu_d', 4))\n",
    "\n",
    "for index, row in tmp.iterrows():\n",
    "    ax.text(row.name, row.Percent + .001, '{:.1%}'.format(row.Percent),\n",
    "            color='black', ha='center')\n",
    "    \n",
    "ax.set(title='Depression and Diabetes',\n",
    "       xlabel='Poor appetite',\n",
    "       xticklabels=['Not at all', 'Several days', 'More than half', 'Nearly every day'],\n",
    "       ylabel='Diabetic',\n",
    "       yticklabels=['{:,.0%}'.format(x) for x in ax.get_yticks()]);"
   ]
  },
  {
   "cell_type": "markdown",
   "metadata": {},
   "source": [
    "This time I see a gradual increase in percentage of diabetics so I leave the variable as it is."
   ]
  },
  {
   "cell_type": "markdown",
   "metadata": {},
   "source": [
    "### Depression Feature 6: Feeling bad about yourself - DPQ060"
   ]
  },
  {
   "cell_type": "markdown",
   "metadata": {},
   "source": [
    "**Feature description:** Over the last 2 weeks, how often have you been bothered by the following problems: feeling bad about yourself - or that you are a failure or have let yourself or your family down?"
   ]
  },
  {
   "cell_type": "code",
   "execution_count": 89,
   "metadata": {},
   "outputs": [
    {
     "data": {
      "image/png": "[encoded data removed]",
      "text/plain": [
       "<Figure size 432x288 with 1 Axes>"
      ]
     },
     "metadata": {
      "needs_background": "light"
     },
     "output_type": "display_data"
    }
   ],
   "source": [
    "var = 'DPQ060'\n",
    "\n",
    "depression_tmp = depression[['SEQN', var]]\n",
    "tmp = pd.merge(labels, depression_tmp, how='left', on='SEQN')\n",
    "tmp = (tmp.loc[:, ['DIQ010', var]]\n",
    "                .groupby([var, 'DIQ010'])\n",
    "                .size()\n",
    "                .unstack(fill_value=0.0)\n",
    "                .reset_index()\n",
    "                .assign(Percent = lambda x: x[1.0] / (x[1.0]+x[2.0])))\n",
    "\n",
    "fig, ax = plt.subplots()\n",
    "ax = sns.barplot(x=var, y='Percent', data=tmp, palette=sns.color_palette('GnBu_d', 4))\n",
    "\n",
    "for index, row in tmp.iterrows():\n",
    "    ax.text(row.name, row.Percent + .001, '{:.1%}'.format(row.Percent),\n",
    "            color='black', ha='center')\n",
    "    \n",
    "ax.set(title='Depression and Diabetes',\n",
    "       xlabel='Feeling bad about yourself',\n",
    "       xticklabels=['Not at all', 'Several days', 'More than half', 'Nearly every day'],\n",
    "       ylabel='Diabetic',\n",
    "       yticklabels=['{:,.0%}'.format(x) for x in ax.get_yticks()]);"
   ]
  },
  {
   "cell_type": "markdown",
   "metadata": {},
   "source": [
    "Again, since there is a big difference between nearly every day and the rest of the responses, I decide to group the other responses together as one response."
   ]
  },
  {
   "cell_type": "code",
   "execution_count": 90,
   "metadata": {},
   "outputs": [],
   "source": [
    "depression.DPQ060 = depression.DPQ060.apply(lambda x: 0 if x != 3 else 3)"
   ]
  },
  {
   "cell_type": "code",
   "execution_count": 91,
   "metadata": {
    "scrolled": true
   },
   "outputs": [
    {
     "data": {
      "image/png": "[encoded data removed]",
      "text/plain": [
       "<Figure size 432x288 with 1 Axes>"
      ]
     },
     "metadata": {
      "needs_background": "light"
     },
     "output_type": "display_data"
    }
   ],
   "source": [
    "var = 'DPQ060'\n",
    "\n",
    "depression_tmp = depression[['SEQN', var]]\n",
    "tmp = pd.merge(labels, depression_tmp, how='left', on='SEQN')\n",
    "tmp = (tmp.loc[:, ['DIQ010', var]]\n",
    "                .groupby([var, 'DIQ010'])\n",
    "                .size()\n",
    "                .unstack(fill_value=0.0)\n",
    "                .reset_index()\n",
    "                .assign(Percent = lambda x: x[1.0] / (x[1.0]+x[2.0])))\n",
    "\n",
    "fig, ax = plt.subplots()\n",
    "ax = sns.barplot(x=var, y='Percent', data=tmp, palette=sns.color_palette('GnBu_d', 2))\n",
    "\n",
    "for index, row in tmp.iterrows():\n",
    "    ax.text(row.name, row.Percent + .001, '{:.1%}'.format(row.Percent),\n",
    "            color='black', ha='center')\n",
    "    \n",
    "ax.set(title='Depression and Diabetes',\n",
    "       xlabel='Feeling bad about yourself',\n",
    "       xticklabels=['Other', 'Nearly every day'],\n",
    "       ylabel='Diabetic',\n",
    "       yticklabels=['{:,.0%}'.format(x) for x in ax.get_yticks()]);"
   ]
  },
  {
   "cell_type": "markdown",
   "metadata": {},
   "source": [
    "### Depression Feature 7: Trouble concentrating on things - DPQ070"
   ]
  },
  {
   "cell_type": "markdown",
   "metadata": {},
   "source": [
    "**Feature description:** Over the last 2 weeks, how often have you been bothered by the following problems: trouble concentrating on things, such as reading the newspaper or watching TV?"
   ]
  },
  {
   "cell_type": "code",
   "execution_count": 92,
   "metadata": {},
   "outputs": [
    {
     "data": {
      "image/png": "[encoded data removed]",
      "text/plain": [
       "<Figure size 432x288 with 1 Axes>"
      ]
     },
     "metadata": {
      "needs_background": "light"
     },
     "output_type": "display_data"
    }
   ],
   "source": [
    "var = 'DPQ070'\n",
    "\n",
    "depression_tmp = depression[['SEQN', var]]\n",
    "tmp = pd.merge(labels, depression_tmp, how='left', on='SEQN')\n",
    "tmp = (tmp.loc[:, ['DIQ010', var]]\n",
    "                .groupby([var, 'DIQ010'])\n",
    "                .size()\n",
    "                .unstack(fill_value=0.0)\n",
    "                .reset_index()\n",
    "                .assign(Percent = lambda x: x[1.0] / (x[1.0]+x[2.0])))\n",
    "\n",
    "fig, ax = plt.subplots()\n",
    "ax = sns.barplot(x=var, y='Percent', data=tmp, palette=sns.color_palette('GnBu_d', 4))\n",
    "\n",
    "for index, row in tmp.iterrows():\n",
    "    ax.text(row.name, row.Percent + .001, '{:.1%}'.format(row.Percent),\n",
    "            color='black', ha='center')\n",
    "    \n",
    "ax.set(title='Depression and Diabetes',\n",
    "       xlabel='Trouble concentrating',\n",
    "       xticklabels=['Not at all', 'Several days', 'More than half', 'Nearly every day'],\n",
    "       ylabel='Diabetic',\n",
    "       yticklabels=['{:,.0%}'.format(x) for x in ax.get_yticks()]);"
   ]
  },
  {
   "cell_type": "markdown",
   "metadata": {},
   "source": [
    "Again, since there is a big difference between nearly every day and the rest of the responses, I decide to group the other responses together as one response."
   ]
  },
  {
   "cell_type": "code",
   "execution_count": 93,
   "metadata": {},
   "outputs": [],
   "source": [
    "depression.DPQ070 = depression.DPQ070.apply(lambda x: 0 if x != 3 else 3)"
   ]
  },
  {
   "cell_type": "code",
   "execution_count": 94,
   "metadata": {
    "scrolled": true
   },
   "outputs": [
    {
     "data": {
      "image/png": "[encoded data removed]",
      "text/plain": [
       "<Figure size 432x288 with 1 Axes>"
      ]
     },
     "metadata": {
      "needs_background": "light"
     },
     "output_type": "display_data"
    }
   ],
   "source": [
    "var = 'DPQ070'\n",
    "\n",
    "depression_tmp = depression[['SEQN', var]]\n",
    "tmp = pd.merge(labels, depression_tmp, how='left', on='SEQN')\n",
    "tmp = (tmp.loc[:, ['DIQ010', var]]\n",
    "                .groupby([var, 'DIQ010'])\n",
    "                .size()\n",
    "                .unstack(fill_value=0.0)\n",
    "                .reset_index()\n",
    "                .assign(Percent = lambda x: x[1.0] / (x[1.0]+x[2.0])))\n",
    "\n",
    "fig, ax = plt.subplots()\n",
    "ax = sns.barplot(x=var, y='Percent', data=tmp, palette=sns.color_palette('GnBu_d', 2))\n",
    "\n",
    "for index, row in tmp.iterrows():\n",
    "    ax.text(row.name, row.Percent + .001, '{:.1%}'.format(row.Percent),\n",
    "            color='black', ha='center')\n",
    "    \n",
    "ax.set(title='Depression and Diabetes',\n",
    "       xlabel='Trouble concentrating',\n",
    "       xticklabels=['Other', 'Nearly every day'],\n",
    "       ylabel='Diabetic',\n",
    "       yticklabels=['{:,.0%}'.format(x) for x in ax.get_yticks()]);"
   ]
  },
  {
   "cell_type": "markdown",
   "metadata": {},
   "source": [
    "### Depression Feature 8: Moving or speaking slowly or too fast - DPQ080"
   ]
  },
  {
   "cell_type": "markdown",
   "metadata": {},
   "source": [
    "**Feature description:** Over the last 2 weeks, how often have you been bothered by the following problems: moving or speaking so slowly that other people could have noticed? Or the opposite - being so fidgety or restless that you have been moving around a lot more than usual?"
   ]
  },
  {
   "cell_type": "code",
   "execution_count": 95,
   "metadata": {},
   "outputs": [
    {
     "data": {
      "image/png": "[encoded data removed]",
      "text/plain": [
       "<Figure size 432x288 with 1 Axes>"
      ]
     },
     "metadata": {
      "needs_background": "light"
     },
     "output_type": "display_data"
    }
   ],
   "source": [
    "var = 'DPQ080'\n",
    "\n",
    "depression_tmp = depression[['SEQN', var]]\n",
    "tmp = pd.merge(labels, depression_tmp, how='left', on='SEQN')\n",
    "tmp = (tmp.loc[:, ['DIQ010', var]]\n",
    "                .groupby([var, 'DIQ010'])\n",
    "                .size()\n",
    "                .unstack(fill_value=0.0)\n",
    "                .reset_index()\n",
    "                .assign(Percent = lambda x: x[1.0] / (x[1.0]+x[2.0])))\n",
    "\n",
    "fig, ax = plt.subplots()\n",
    "ax = sns.barplot(x=var, y='Percent', data=tmp, palette=sns.color_palette('GnBu_d', 4))\n",
    "\n",
    "for index, row in tmp.iterrows():\n",
    "    ax.text(row.name, row.Percent + .001, '{:.1%}'.format(row.Percent),\n",
    "            color='black', ha='center')\n",
    "    \n",
    "ax.set(title='Depression and Diabetes',\n",
    "       xlabel='Moving or speaking slowly/too fast',\n",
    "       xticklabels=['Not at all', 'Several days', 'More than half', 'Nearly every day'],\n",
    "       ylabel='Diabetic',\n",
    "       yticklabels=['{:,.0%}'.format(x) for x in ax.get_yticks()]);"
   ]
  },
  {
   "cell_type": "markdown",
   "metadata": {},
   "source": [
    "This time I see a gradual increase in percentage of diabetics so I leave the variable as it is."
   ]
  },
  {
   "cell_type": "markdown",
   "metadata": {},
   "source": [
    "### Depression Feature 9: Thought you would be better off dead - DPQ090"
   ]
  },
  {
   "cell_type": "markdown",
   "metadata": {},
   "source": [
    "**Feature description:** Over the last 2 weeks, how often have you been bothered by the following problems: moving or speaking so slowly that other people could have noticed? Or the opposite - being so fidgety or restless that you have been moving around a lot more than usual?"
   ]
  },
  {
   "cell_type": "code",
   "execution_count": 96,
   "metadata": {},
   "outputs": [
    {
     "data": {
      "image/png": "[encoded data removed]",
      "text/plain": [
       "<Figure size 432x288 with 1 Axes>"
      ]
     },
     "metadata": {
      "needs_background": "light"
     },
     "output_type": "display_data"
    }
   ],
   "source": [
    "var = 'DPQ090'\n",
    "\n",
    "depression_tmp = depression[['SEQN', var]]\n",
    "tmp = pd.merge(labels, depression_tmp, how='left', on='SEQN')\n",
    "tmp = (tmp.loc[:, ['DIQ010', var]]\n",
    "                .groupby([var, 'DIQ010'])\n",
    "                .size()\n",
    "                .unstack(fill_value=0.0)\n",
    "                .reset_index()\n",
    "                .assign(Percent = lambda x: x[1.0] / (x[1.0]+x[2.0])))\n",
    "\n",
    "fig, ax = plt.subplots()\n",
    "ax = sns.barplot(x=var, y='Percent', data=tmp, palette=sns.color_palette('GnBu_d', 4))\n",
    "\n",
    "for index, row in tmp.iterrows():\n",
    "    ax.text(row.name, row.Percent + .001, '{:.1%}'.format(row.Percent),\n",
    "            color='black', ha='center')\n",
    "    \n",
    "ax.set(title='Depression and Diabetes',\n",
    "       xlabel='Thought better off dead',\n",
    "       xticklabels=['Not at all', 'Several days', 'More than half', 'Nearly every day'],\n",
    "       ylabel='Diabetic',\n",
    "       yticklabels=['{:,.0%}'.format(x) for x in ax.get_yticks()]);"
   ]
  },
  {
   "cell_type": "markdown",
   "metadata": {},
   "source": [
    "This time I see a gradual increase in percentage of diabetics so I leave the variable as it is."
   ]
  },
  {
   "cell_type": "markdown",
   "metadata": {},
   "source": [
    "After all the cleaning and tranforming, this is the final depression feature dataframe:"
   ]
  },
  {
   "cell_type": "code",
   "execution_count": 97,
   "metadata": {},
   "outputs": [
    {
     "data": {
      "text/html": [
       "<div>\n",
       "<style scoped>\n",
       "    .dataframe tbody tr th:only-of-type {\n",
       "        vertical-align: middle;\n",
       "    }\n",
       "\n",
       "    .dataframe tbody tr th {\n",
       "        vertical-align: top;\n",
       "    }\n",
       "\n",
       "    .dataframe thead th {\n",
       "        text-align: right;\n",
       "    }\n",
       "</style>\n",
       "<table border=\"1\" class=\"dataframe\">\n",
       "  <thead>\n",
       "    <tr style=\"text-align: right;\">\n",
       "      <th></th>\n",
       "      <th>SEQN</th>\n",
       "      <th>DPQ010</th>\n",
       "      <th>DPQ020</th>\n",
       "      <th>DPQ030</th>\n",
       "      <th>DPQ040</th>\n",
       "      <th>DPQ050</th>\n",
       "      <th>DPQ060</th>\n",
       "      <th>DPQ070</th>\n",
       "      <th>DPQ080</th>\n",
       "      <th>DPQ090</th>\n",
       "    </tr>\n",
       "  </thead>\n",
       "  <tbody>\n",
       "    <tr>\n",
       "      <td>0</td>\n",
       "      <td>83732.0</td>\n",
       "      <td>0</td>\n",
       "      <td>0</td>\n",
       "      <td>0.0</td>\n",
       "      <td>0</td>\n",
       "      <td>0.0</td>\n",
       "      <td>0</td>\n",
       "      <td>0</td>\n",
       "      <td>0.0</td>\n",
       "      <td>0.0</td>\n",
       "    </tr>\n",
       "    <tr>\n",
       "      <td>1</td>\n",
       "      <td>83733.0</td>\n",
       "      <td>0</td>\n",
       "      <td>0</td>\n",
       "      <td>0.0</td>\n",
       "      <td>0</td>\n",
       "      <td>1.0</td>\n",
       "      <td>0</td>\n",
       "      <td>0</td>\n",
       "      <td>0.0</td>\n",
       "      <td>0.0</td>\n",
       "    </tr>\n",
       "    <tr>\n",
       "      <td>2</td>\n",
       "      <td>83734.0</td>\n",
       "      <td>0</td>\n",
       "      <td>0</td>\n",
       "      <td>0.0</td>\n",
       "      <td>0</td>\n",
       "      <td>0.0</td>\n",
       "      <td>0</td>\n",
       "      <td>0</td>\n",
       "      <td>0.0</td>\n",
       "      <td>0.0</td>\n",
       "    </tr>\n",
       "    <tr>\n",
       "      <td>3</td>\n",
       "      <td>83735.0</td>\n",
       "      <td>0</td>\n",
       "      <td>0</td>\n",
       "      <td>2.0</td>\n",
       "      <td>0</td>\n",
       "      <td>1.0</td>\n",
       "      <td>3</td>\n",
       "      <td>0</td>\n",
       "      <td>0.0</td>\n",
       "      <td>1.0</td>\n",
       "    </tr>\n",
       "    <tr>\n",
       "      <td>4</td>\n",
       "      <td>83736.0</td>\n",
       "      <td>0</td>\n",
       "      <td>0</td>\n",
       "      <td>1.0</td>\n",
       "      <td>0</td>\n",
       "      <td>3.0</td>\n",
       "      <td>0</td>\n",
       "      <td>0</td>\n",
       "      <td>0.0</td>\n",
       "      <td>0.0</td>\n",
       "    </tr>\n",
       "    <tr>\n",
       "      <td>...</td>\n",
       "      <td>...</td>\n",
       "      <td>...</td>\n",
       "      <td>...</td>\n",
       "      <td>...</td>\n",
       "      <td>...</td>\n",
       "      <td>...</td>\n",
       "      <td>...</td>\n",
       "      <td>...</td>\n",
       "      <td>...</td>\n",
       "      <td>...</td>\n",
       "    </tr>\n",
       "    <tr>\n",
       "      <td>5729</td>\n",
       "      <td>93691.0</td>\n",
       "      <td>0</td>\n",
       "      <td>0</td>\n",
       "      <td>0.0</td>\n",
       "      <td>0</td>\n",
       "      <td>0.0</td>\n",
       "      <td>0</td>\n",
       "      <td>0</td>\n",
       "      <td>0.0</td>\n",
       "      <td>0.0</td>\n",
       "    </tr>\n",
       "    <tr>\n",
       "      <td>5730</td>\n",
       "      <td>93695.0</td>\n",
       "      <td>0</td>\n",
       "      <td>0</td>\n",
       "      <td>0.0</td>\n",
       "      <td>0</td>\n",
       "      <td>0.0</td>\n",
       "      <td>0</td>\n",
       "      <td>0</td>\n",
       "      <td>0.0</td>\n",
       "      <td>0.0</td>\n",
       "    </tr>\n",
       "    <tr>\n",
       "      <td>5731</td>\n",
       "      <td>93696.0</td>\n",
       "      <td>0</td>\n",
       "      <td>0</td>\n",
       "      <td>0.0</td>\n",
       "      <td>0</td>\n",
       "      <td>0.0</td>\n",
       "      <td>0</td>\n",
       "      <td>0</td>\n",
       "      <td>0.0</td>\n",
       "      <td>0.0</td>\n",
       "    </tr>\n",
       "    <tr>\n",
       "      <td>5732</td>\n",
       "      <td>93697.0</td>\n",
       "      <td>0</td>\n",
       "      <td>0</td>\n",
       "      <td>0.0</td>\n",
       "      <td>0</td>\n",
       "      <td>0.0</td>\n",
       "      <td>0</td>\n",
       "      <td>0</td>\n",
       "      <td>0.0</td>\n",
       "      <td>0.0</td>\n",
       "    </tr>\n",
       "    <tr>\n",
       "      <td>5734</td>\n",
       "      <td>93702.0</td>\n",
       "      <td>0</td>\n",
       "      <td>0</td>\n",
       "      <td>1.0</td>\n",
       "      <td>0</td>\n",
       "      <td>0.0</td>\n",
       "      <td>0</td>\n",
       "      <td>0</td>\n",
       "      <td>0.0</td>\n",
       "      <td>0.0</td>\n",
       "    </tr>\n",
       "  </tbody>\n",
       "</table>\n",
       "<p>5134 rows × 10 columns</p>\n",
       "</div>"
      ],
      "text/plain": [
       "         SEQN  DPQ010  DPQ020  DPQ030  DPQ040  DPQ050  DPQ060  DPQ070  DPQ080  \\\n",
       "0     83732.0       0       0     0.0       0     0.0       0       0     0.0   \n",
       "1     83733.0       0       0     0.0       0     1.0       0       0     0.0   \n",
       "2     83734.0       0       0     0.0       0     0.0       0       0     0.0   \n",
       "3     83735.0       0       0     2.0       0     1.0       3       0     0.0   \n",
       "4     83736.0       0       0     1.0       0     3.0       0       0     0.0   \n",
       "...       ...     ...     ...     ...     ...     ...     ...     ...     ...   \n",
       "5729  93691.0       0       0     0.0       0     0.0       0       0     0.0   \n",
       "5730  93695.0       0       0     0.0       0     0.0       0       0     0.0   \n",
       "5731  93696.0       0       0     0.0       0     0.0       0       0     0.0   \n",
       "5732  93697.0       0       0     0.0       0     0.0       0       0     0.0   \n",
       "5734  93702.0       0       0     1.0       0     0.0       0       0     0.0   \n",
       "\n",
       "      DPQ090  \n",
       "0        0.0  \n",
       "1        0.0  \n",
       "2        0.0  \n",
       "3        1.0  \n",
       "4        0.0  \n",
       "...      ...  \n",
       "5729     0.0  \n",
       "5730     0.0  \n",
       "5731     0.0  \n",
       "5732     0.0  \n",
       "5734     0.0  \n",
       "\n",
       "[5134 rows x 10 columns]"
      ]
     },
     "execution_count": 97,
     "metadata": {},
     "output_type": "execute_result"
    }
   ],
   "source": [
    "depression"
   ]
  },
  {
   "cell_type": "markdown",
   "metadata": {},
   "source": [
    "### Merging Features for Non-Invasive Model"
   ]
  },
  {
   "cell_type": "code",
   "execution_count": 98,
   "metadata": {},
   "outputs": [
    {
     "data": {
      "text/html": [
       "<div>\n",
       "<style scoped>\n",
       "    .dataframe tbody tr th:only-of-type {\n",
       "        vertical-align: middle;\n",
       "    }\n",
       "\n",
       "    .dataframe tbody tr th {\n",
       "        vertical-align: top;\n",
       "    }\n",
       "\n",
       "    .dataframe thead th {\n",
       "        text-align: right;\n",
       "    }\n",
       "</style>\n",
       "<table border=\"1\" class=\"dataframe\">\n",
       "  <thead>\n",
       "    <tr style=\"text-align: right;\">\n",
       "      <th></th>\n",
       "      <th>DIQ010</th>\n",
       "      <th>RIDAGEYR</th>\n",
       "      <th>RIDRETH3</th>\n",
       "      <th>RIAGENDR</th>\n",
       "      <th>INDFMPIR</th>\n",
       "      <th>DMDHREDU</th>\n",
       "      <th>PAQ605</th>\n",
       "      <th>PAQ620</th>\n",
       "      <th>PAQ650</th>\n",
       "      <th>PAQ665</th>\n",
       "      <th>...</th>\n",
       "      <th>ALQ120Q</th>\n",
       "      <th>DPQ010</th>\n",
       "      <th>DPQ020</th>\n",
       "      <th>DPQ030</th>\n",
       "      <th>DPQ040</th>\n",
       "      <th>DPQ050</th>\n",
       "      <th>DPQ060</th>\n",
       "      <th>DPQ070</th>\n",
       "      <th>DPQ080</th>\n",
       "      <th>DPQ090</th>\n",
       "    </tr>\n",
       "  </thead>\n",
       "  <tbody>\n",
       "    <tr>\n",
       "      <td>0</td>\n",
       "      <td>1.0</td>\n",
       "      <td>62.0</td>\n",
       "      <td>3.0</td>\n",
       "      <td>1.0</td>\n",
       "      <td>4.39</td>\n",
       "      <td>5.0</td>\n",
       "      <td>2.0</td>\n",
       "      <td>1.0</td>\n",
       "      <td>2.0</td>\n",
       "      <td>1.0</td>\n",
       "      <td>...</td>\n",
       "      <td>1.0</td>\n",
       "      <td>0.0</td>\n",
       "      <td>0.0</td>\n",
       "      <td>0.0</td>\n",
       "      <td>0.0</td>\n",
       "      <td>0.0</td>\n",
       "      <td>0.0</td>\n",
       "      <td>0.0</td>\n",
       "      <td>0.0</td>\n",
       "      <td>0.0</td>\n",
       "    </tr>\n",
       "    <tr>\n",
       "      <td>1</td>\n",
       "      <td>2.0</td>\n",
       "      <td>53.0</td>\n",
       "      <td>3.0</td>\n",
       "      <td>1.0</td>\n",
       "      <td>1.32</td>\n",
       "      <td>3.0</td>\n",
       "      <td>2.0</td>\n",
       "      <td>2.0</td>\n",
       "      <td>2.0</td>\n",
       "      <td>2.0</td>\n",
       "      <td>...</td>\n",
       "      <td>1.0</td>\n",
       "      <td>0.0</td>\n",
       "      <td>0.0</td>\n",
       "      <td>0.0</td>\n",
       "      <td>0.0</td>\n",
       "      <td>1.0</td>\n",
       "      <td>0.0</td>\n",
       "      <td>0.0</td>\n",
       "      <td>0.0</td>\n",
       "      <td>0.0</td>\n",
       "    </tr>\n",
       "    <tr>\n",
       "      <td>2</td>\n",
       "      <td>1.0</td>\n",
       "      <td>78.0</td>\n",
       "      <td>3.0</td>\n",
       "      <td>1.0</td>\n",
       "      <td>1.51</td>\n",
       "      <td>3.0</td>\n",
       "      <td>2.0</td>\n",
       "      <td>1.0</td>\n",
       "      <td>2.0</td>\n",
       "      <td>2.0</td>\n",
       "      <td>...</td>\n",
       "      <td>0.0</td>\n",
       "      <td>0.0</td>\n",
       "      <td>0.0</td>\n",
       "      <td>0.0</td>\n",
       "      <td>0.0</td>\n",
       "      <td>0.0</td>\n",
       "      <td>0.0</td>\n",
       "      <td>0.0</td>\n",
       "      <td>0.0</td>\n",
       "      <td>0.0</td>\n",
       "    </tr>\n",
       "    <tr>\n",
       "      <td>3</td>\n",
       "      <td>2.0</td>\n",
       "      <td>56.0</td>\n",
       "      <td>3.0</td>\n",
       "      <td>2.0</td>\n",
       "      <td>5.00</td>\n",
       "      <td>5.0</td>\n",
       "      <td>2.0</td>\n",
       "      <td>1.0</td>\n",
       "      <td>2.0</td>\n",
       "      <td>2.0</td>\n",
       "      <td>...</td>\n",
       "      <td>1.0</td>\n",
       "      <td>0.0</td>\n",
       "      <td>0.0</td>\n",
       "      <td>2.0</td>\n",
       "      <td>0.0</td>\n",
       "      <td>1.0</td>\n",
       "      <td>3.0</td>\n",
       "      <td>0.0</td>\n",
       "      <td>0.0</td>\n",
       "      <td>1.0</td>\n",
       "    </tr>\n",
       "    <tr>\n",
       "      <td>4</td>\n",
       "      <td>2.0</td>\n",
       "      <td>42.0</td>\n",
       "      <td>4.0</td>\n",
       "      <td>2.0</td>\n",
       "      <td>1.23</td>\n",
       "      <td>4.0</td>\n",
       "      <td>2.0</td>\n",
       "      <td>1.0</td>\n",
       "      <td>2.0</td>\n",
       "      <td>2.0</td>\n",
       "      <td>...</td>\n",
       "      <td>1.0</td>\n",
       "      <td>0.0</td>\n",
       "      <td>0.0</td>\n",
       "      <td>1.0</td>\n",
       "      <td>0.0</td>\n",
       "      <td>3.0</td>\n",
       "      <td>0.0</td>\n",
       "      <td>0.0</td>\n",
       "      <td>0.0</td>\n",
       "      <td>0.0</td>\n",
       "    </tr>\n",
       "  </tbody>\n",
       "</table>\n",
       "<p>5 rows × 26 columns</p>\n",
       "</div>"
      ],
      "text/plain": [
       "   DIQ010  RIDAGEYR  RIDRETH3  RIAGENDR  INDFMPIR  DMDHREDU  PAQ605  PAQ620  \\\n",
       "0     1.0      62.0       3.0       1.0      4.39       5.0     2.0     1.0   \n",
       "1     2.0      53.0       3.0       1.0      1.32       3.0     2.0     2.0   \n",
       "2     1.0      78.0       3.0       1.0      1.51       3.0     2.0     1.0   \n",
       "3     2.0      56.0       3.0       2.0      5.00       5.0     2.0     1.0   \n",
       "4     2.0      42.0       4.0       2.0      1.23       4.0     2.0     1.0   \n",
       "\n",
       "   PAQ650  PAQ665  ...  ALQ120Q  DPQ010  DPQ020  DPQ030  DPQ040  DPQ050  \\\n",
       "0     2.0     1.0  ...      1.0     0.0     0.0     0.0     0.0     0.0   \n",
       "1     2.0     2.0  ...      1.0     0.0     0.0     0.0     0.0     1.0   \n",
       "2     2.0     2.0  ...      0.0     0.0     0.0     0.0     0.0     0.0   \n",
       "3     2.0     2.0  ...      1.0     0.0     0.0     2.0     0.0     1.0   \n",
       "4     2.0     2.0  ...      1.0     0.0     0.0     1.0     0.0     3.0   \n",
       "\n",
       "   DPQ060  DPQ070  DPQ080  DPQ090  \n",
       "0     0.0     0.0     0.0     0.0  \n",
       "1     0.0     0.0     0.0     0.0  \n",
       "2     0.0     0.0     0.0     0.0  \n",
       "3     3.0     0.0     0.0     1.0  \n",
       "4     0.0     0.0     0.0     0.0  \n",
       "\n",
       "[5 rows x 26 columns]"
      ]
     },
     "execution_count": 98,
     "metadata": {},
     "output_type": "execute_result"
    }
   ],
   "source": [
    "features_arr = [age, race, gender, income, educ, phys_activity, diet, bmi, waist, hypertension, smoke, alc1, alc2, depression]\n",
    "# Need to include labels in order to merge every new variable on the people who are labeled\n",
    "features = labels\n",
    "\n",
    "for feature in features_arr:\n",
    "    features = pd.merge(features, feature, how='left', on='SEQN')\n",
    "features = features.drop(['SEQN'], axis=1)\n",
    "features.head()"
   ]
  },
  {
   "cell_type": "code",
   "execution_count": 99,
   "metadata": {},
   "outputs": [
    {
     "data": {
      "text/plain": [
       "DIQ010         0\n",
       "RIDAGEYR    3583\n",
       "RIDRETH3       0\n",
       "RIAGENDR       0\n",
       "INDFMPIR    1022\n",
       "DMDHREDU     412\n",
       "PAQ605      2612\n",
       "PAQ620      2618\n",
       "PAQ650      2617\n",
       "PAQ665      2619\n",
       "DBQ700      3249\n",
       "BMXBMI       819\n",
       "BMXWAIST    1262\n",
       "BPQ020      3254\n",
       "SMQ020      3594\n",
       "ALQ101      4370\n",
       "ALQ120Q     5395\n",
       "DPQ010      4441\n",
       "DPQ020      4441\n",
       "DPQ030      4441\n",
       "DPQ040      4441\n",
       "DPQ050      4441\n",
       "DPQ060      4441\n",
       "DPQ070      4441\n",
       "DPQ080      4441\n",
       "DPQ090      4441\n",
       "dtype: int64"
      ]
     },
     "execution_count": 99,
     "metadata": {},
     "output_type": "execute_result"
    }
   ],
   "source": [
    "# Check for number of null values\n",
    "features.isnull().sum()"
   ]
  },
  {
   "cell_type": "code",
   "execution_count": 100,
   "metadata": {},
   "outputs": [],
   "source": [
    "# Drop null values\n",
    "features = features.dropna(axis=0)"
   ]
  },
  {
   "cell_type": "code",
   "execution_count": 101,
   "metadata": {},
   "outputs": [
    {
     "data": {
      "text/plain": [
       "2.0    3030\n",
       "1.0     490\n",
       "Name: DIQ010, dtype: int64"
      ]
     },
     "execution_count": 101,
     "metadata": {},
     "output_type": "execute_result"
    }
   ],
   "source": [
    "# How many non-diabetics vs diabetics\n",
    "features.DIQ010.value_counts()"
   ]
  },
  {
   "cell_type": "markdown",
   "metadata": {},
   "source": [
    "I split the labels and features in preparation for model building."
   ]
  },
  {
   "cell_type": "code",
   "execution_count": 102,
   "metadata": {},
   "outputs": [
    {
     "data": {
      "text/html": [
       "<div>\n",
       "<style scoped>\n",
       "    .dataframe tbody tr th:only-of-type {\n",
       "        vertical-align: middle;\n",
       "    }\n",
       "\n",
       "    .dataframe tbody tr th {\n",
       "        vertical-align: top;\n",
       "    }\n",
       "\n",
       "    .dataframe thead th {\n",
       "        text-align: right;\n",
       "    }\n",
       "</style>\n",
       "<table border=\"1\" class=\"dataframe\">\n",
       "  <thead>\n",
       "    <tr style=\"text-align: right;\">\n",
       "      <th></th>\n",
       "      <th>DIQ010</th>\n",
       "    </tr>\n",
       "  </thead>\n",
       "  <tbody>\n",
       "    <tr>\n",
       "      <td>0</td>\n",
       "      <td>1.0</td>\n",
       "    </tr>\n",
       "    <tr>\n",
       "      <td>1</td>\n",
       "      <td>2.0</td>\n",
       "    </tr>\n",
       "    <tr>\n",
       "      <td>2</td>\n",
       "      <td>1.0</td>\n",
       "    </tr>\n",
       "    <tr>\n",
       "      <td>3</td>\n",
       "      <td>2.0</td>\n",
       "    </tr>\n",
       "    <tr>\n",
       "      <td>4</td>\n",
       "      <td>2.0</td>\n",
       "    </tr>\n",
       "  </tbody>\n",
       "</table>\n",
       "</div>"
      ],
      "text/plain": [
       "   DIQ010\n",
       "0     1.0\n",
       "1     2.0\n",
       "2     1.0\n",
       "3     2.0\n",
       "4     2.0"
      ]
     },
     "execution_count": 102,
     "metadata": {},
     "output_type": "execute_result"
    }
   ],
   "source": [
    "labels1 = features[['DIQ010']]\n",
    "labels1.head()"
   ]
  },
  {
   "cell_type": "code",
   "execution_count": 103,
   "metadata": {},
   "outputs": [
    {
     "data": {
      "text/html": [
       "<div>\n",
       "<style scoped>\n",
       "    .dataframe tbody tr th:only-of-type {\n",
       "        vertical-align: middle;\n",
       "    }\n",
       "\n",
       "    .dataframe tbody tr th {\n",
       "        vertical-align: top;\n",
       "    }\n",
       "\n",
       "    .dataframe thead th {\n",
       "        text-align: right;\n",
       "    }\n",
       "</style>\n",
       "<table border=\"1\" class=\"dataframe\">\n",
       "  <thead>\n",
       "    <tr style=\"text-align: right;\">\n",
       "      <th></th>\n",
       "      <th>RIDAGEYR</th>\n",
       "      <th>RIDRETH3</th>\n",
       "      <th>RIAGENDR</th>\n",
       "      <th>INDFMPIR</th>\n",
       "      <th>DMDHREDU</th>\n",
       "      <th>PAQ605</th>\n",
       "      <th>PAQ620</th>\n",
       "      <th>PAQ650</th>\n",
       "      <th>PAQ665</th>\n",
       "      <th>DBQ700</th>\n",
       "      <th>...</th>\n",
       "      <th>ALQ120Q</th>\n",
       "      <th>DPQ010</th>\n",
       "      <th>DPQ020</th>\n",
       "      <th>DPQ030</th>\n",
       "      <th>DPQ040</th>\n",
       "      <th>DPQ050</th>\n",
       "      <th>DPQ060</th>\n",
       "      <th>DPQ070</th>\n",
       "      <th>DPQ080</th>\n",
       "      <th>DPQ090</th>\n",
       "    </tr>\n",
       "  </thead>\n",
       "  <tbody>\n",
       "    <tr>\n",
       "      <td>0</td>\n",
       "      <td>62.0</td>\n",
       "      <td>3.0</td>\n",
       "      <td>1.0</td>\n",
       "      <td>4.39</td>\n",
       "      <td>5.0</td>\n",
       "      <td>2.0</td>\n",
       "      <td>1.0</td>\n",
       "      <td>2.0</td>\n",
       "      <td>1.0</td>\n",
       "      <td>3.0</td>\n",
       "      <td>...</td>\n",
       "      <td>1.0</td>\n",
       "      <td>0.0</td>\n",
       "      <td>0.0</td>\n",
       "      <td>0.0</td>\n",
       "      <td>0.0</td>\n",
       "      <td>0.0</td>\n",
       "      <td>0.0</td>\n",
       "      <td>0.0</td>\n",
       "      <td>0.0</td>\n",
       "      <td>0.0</td>\n",
       "    </tr>\n",
       "    <tr>\n",
       "      <td>1</td>\n",
       "      <td>53.0</td>\n",
       "      <td>3.0</td>\n",
       "      <td>1.0</td>\n",
       "      <td>1.32</td>\n",
       "      <td>3.0</td>\n",
       "      <td>2.0</td>\n",
       "      <td>2.0</td>\n",
       "      <td>2.0</td>\n",
       "      <td>2.0</td>\n",
       "      <td>1.0</td>\n",
       "      <td>...</td>\n",
       "      <td>1.0</td>\n",
       "      <td>0.0</td>\n",
       "      <td>0.0</td>\n",
       "      <td>0.0</td>\n",
       "      <td>0.0</td>\n",
       "      <td>1.0</td>\n",
       "      <td>0.0</td>\n",
       "      <td>0.0</td>\n",
       "      <td>0.0</td>\n",
       "      <td>0.0</td>\n",
       "    </tr>\n",
       "    <tr>\n",
       "      <td>2</td>\n",
       "      <td>78.0</td>\n",
       "      <td>3.0</td>\n",
       "      <td>1.0</td>\n",
       "      <td>1.51</td>\n",
       "      <td>3.0</td>\n",
       "      <td>2.0</td>\n",
       "      <td>1.0</td>\n",
       "      <td>2.0</td>\n",
       "      <td>2.0</td>\n",
       "      <td>4.0</td>\n",
       "      <td>...</td>\n",
       "      <td>0.0</td>\n",
       "      <td>0.0</td>\n",
       "      <td>0.0</td>\n",
       "      <td>0.0</td>\n",
       "      <td>0.0</td>\n",
       "      <td>0.0</td>\n",
       "      <td>0.0</td>\n",
       "      <td>0.0</td>\n",
       "      <td>0.0</td>\n",
       "      <td>0.0</td>\n",
       "    </tr>\n",
       "    <tr>\n",
       "      <td>3</td>\n",
       "      <td>56.0</td>\n",
       "      <td>3.0</td>\n",
       "      <td>2.0</td>\n",
       "      <td>5.00</td>\n",
       "      <td>5.0</td>\n",
       "      <td>2.0</td>\n",
       "      <td>1.0</td>\n",
       "      <td>2.0</td>\n",
       "      <td>2.0</td>\n",
       "      <td>4.0</td>\n",
       "      <td>...</td>\n",
       "      <td>1.0</td>\n",
       "      <td>0.0</td>\n",
       "      <td>0.0</td>\n",
       "      <td>2.0</td>\n",
       "      <td>0.0</td>\n",
       "      <td>1.0</td>\n",
       "      <td>3.0</td>\n",
       "      <td>0.0</td>\n",
       "      <td>0.0</td>\n",
       "      <td>1.0</td>\n",
       "    </tr>\n",
       "    <tr>\n",
       "      <td>4</td>\n",
       "      <td>42.0</td>\n",
       "      <td>4.0</td>\n",
       "      <td>2.0</td>\n",
       "      <td>1.23</td>\n",
       "      <td>4.0</td>\n",
       "      <td>2.0</td>\n",
       "      <td>1.0</td>\n",
       "      <td>2.0</td>\n",
       "      <td>2.0</td>\n",
       "      <td>5.0</td>\n",
       "      <td>...</td>\n",
       "      <td>1.0</td>\n",
       "      <td>0.0</td>\n",
       "      <td>0.0</td>\n",
       "      <td>1.0</td>\n",
       "      <td>0.0</td>\n",
       "      <td>3.0</td>\n",
       "      <td>0.0</td>\n",
       "      <td>0.0</td>\n",
       "      <td>0.0</td>\n",
       "      <td>0.0</td>\n",
       "    </tr>\n",
       "  </tbody>\n",
       "</table>\n",
       "<p>5 rows × 25 columns</p>\n",
       "</div>"
      ],
      "text/plain": [
       "   RIDAGEYR  RIDRETH3  RIAGENDR  INDFMPIR  DMDHREDU  PAQ605  PAQ620  PAQ650  \\\n",
       "0      62.0       3.0       1.0      4.39       5.0     2.0     1.0     2.0   \n",
       "1      53.0       3.0       1.0      1.32       3.0     2.0     2.0     2.0   \n",
       "2      78.0       3.0       1.0      1.51       3.0     2.0     1.0     2.0   \n",
       "3      56.0       3.0       2.0      5.00       5.0     2.0     1.0     2.0   \n",
       "4      42.0       4.0       2.0      1.23       4.0     2.0     1.0     2.0   \n",
       "\n",
       "   PAQ665  DBQ700  ...  ALQ120Q  DPQ010  DPQ020  DPQ030  DPQ040  DPQ050  \\\n",
       "0     1.0     3.0  ...      1.0     0.0     0.0     0.0     0.0     0.0   \n",
       "1     2.0     1.0  ...      1.0     0.0     0.0     0.0     0.0     1.0   \n",
       "2     2.0     4.0  ...      0.0     0.0     0.0     0.0     0.0     0.0   \n",
       "3     2.0     4.0  ...      1.0     0.0     0.0     2.0     0.0     1.0   \n",
       "4     2.0     5.0  ...      1.0     0.0     0.0     1.0     0.0     3.0   \n",
       "\n",
       "   DPQ060  DPQ070  DPQ080  DPQ090  \n",
       "0     0.0     0.0     0.0     0.0  \n",
       "1     0.0     0.0     0.0     0.0  \n",
       "2     0.0     0.0     0.0     0.0  \n",
       "3     3.0     0.0     0.0     1.0  \n",
       "4     0.0     0.0     0.0     0.0  \n",
       "\n",
       "[5 rows x 25 columns]"
      ]
     },
     "execution_count": 103,
     "metadata": {},
     "output_type": "execute_result"
    }
   ],
   "source": [
    "features1 = features.drop('DIQ010', axis=1)\n",
    "features1.head()"
   ]
  },
  {
   "cell_type": "markdown",
   "metadata": {},
   "source": [
    "## Model Building"
   ]
  },
  {
   "cell_type": "code",
   "execution_count": 104,
   "metadata": {},
   "outputs": [],
   "source": [
    "from sklearn.model_selection import train_test_split\n",
    "from sklearn.tree import DecisionTreeClassifier\n",
    "from sklearn.metrics import classification_report, confusion_matrix\n",
    "from sklearn.utils import resample\n",
    "from sklearn.tree.export import export_text"
   ]
  },
  {
   "cell_type": "code",
   "execution_count": 105,
   "metadata": {},
   "outputs": [],
   "source": [
    "# print(confusion_matrix(y_test, y_pred))\n",
    "# print(classification_report(y_test, y_pred))\n",
    "\n",
    "# tree_rules = export_text(classifier, feature_names=list(X_train))\n",
    "# print(tree_rules)"
   ]
  },
  {
   "cell_type": "markdown",
   "metadata": {},
   "source": [
    "Sklearn has a good implementation of decision trees through the CART decision tree, which is similar to the ID3 and C4.5 trees. I create 1000 train and test splits in a 80/20 split respectively. I then get the average accuracy, recall, precision, and f1-score accross 1000 runs."
   ]
  },
  {
   "cell_type": "code",
   "execution_count": 105,
   "metadata": {},
   "outputs": [],
   "source": [
    "# Method for building CART decision tree\n",
    "def cart_def(features, labels, max_depth): \n",
    "    X = features\n",
    "    y = labels\n",
    "    \n",
    "    classifier = DecisionTreeClassifier(max_depth = max_depth)\n",
    "\n",
    "    acc = []\n",
    "    recall_1 = []\n",
    "    prec_1 = []\n",
    "    f1_1 = []\n",
    "    recall_2 = []\n",
    "    prec_2 = []\n",
    "    f1_2 = []\n",
    "\n",
    "    for i in range(1000):\n",
    "        X_train, X_test, y_train, y_test = train_test_split(X, y, test_size=0.20)  \n",
    "        classifier.fit(X_train, y_train)\n",
    "        y_pred = classifier.predict(X_test)\n",
    "        rep = classification_report(y_test, y_pred, output_dict=True)\n",
    "\n",
    "        acc.append(rep['accuracy'])\n",
    "        recall_1.append(rep['1.0']['recall'])\n",
    "        prec_1.append(rep['1.0']['precision'])\n",
    "        f1_1.append(rep['1.0']['f1-score'])\n",
    "        recall_2.append(rep['2.0']['recall'])\n",
    "        prec_2.append(rep['2.0']['precision'])\n",
    "        f1_2.append(rep['2.0']['f1-score'])\n",
    "    \n",
    "    acc = round(np.mean(acc)*100, 2)\n",
    "    recall_1 = round(np.mean(recall_1)*100, 2)\n",
    "    prec_1 = round(np.mean(prec_1)*100, 2)\n",
    "    f1_1 = round(np.mean(f1_1)*100, 2)\n",
    "    recall_2 = round(np.mean(recall_2)*100, 2)\n",
    "    prec_2 = round(np.mean(prec_2)*100, 2)\n",
    "    f1_2 = round(np.mean(f1_2)*100, 2)\n",
    "    \n",
    "    return (max_depth, acc, recall_1, prec_1, f1_1, recall_2, prec_2, f1_2)"
   ]
  },
  {
   "cell_type": "code",
   "execution_count": 123,
   "metadata": {},
   "outputs": [
    {
     "name": "stdout",
     "output_type": "stream",
     "text": [
      "Accuracy:  79.04 %\n",
      "\n",
      "Diabetics\n",
      "---------\n",
      "Recall_1:  29.8 %\n",
      "Precision_1:  27.0 %\n",
      "F1-Score_1 28.21 %\n",
      "\n",
      "Non-diabetics\n",
      "-------------\n",
      "Recall_2:  86.99 %\n",
      "Precision_2:  88.47 %\n",
      "F1-Score_2 87.72 %\n"
     ]
    }
   ],
   "source": [
    "results = cart_def(features1, labels1, None)\n",
    "print('Accuracy: ', results[1], '%\\n')\n",
    "\n",
    "print('Diabetics')\n",
    "print('---------')\n",
    "print('Recall_1: ', results[2], '%')\n",
    "print('Precision_1: ', results[3], '%')\n",
    "print('F1-Score_1', results[4], '%\\n')\n",
    "\n",
    "print('Non-diabetics')\n",
    "print('-------------')\n",
    "print('Recall_2: ', results[5], '%')\n",
    "print('Precision_2: ', results[6], '%')\n",
    "print('F1-Score_2', results[7], '%')"
   ]
  },
  {
   "cell_type": "markdown",
   "metadata": {},
   "source": [
    "Although accuracy is 80%, in rare disease detection models one usually looks at metrics such as recall since one would want their model to be accurate in detecting the patients with the disease. As such, I need to look at recall of the minority class representing diabetics in order to measure model success. Unfortunately, the recall for diabetics in this model is very low at 30%. As mentioned earlier while preparing the features for model building, I noticed that there is a huge class imbalance between diabetics and non-diabetics where there were 490 diabetic instances and 3030 non-diabetic instances. That is almost a 6:1 ratio between non-diabetics to diabetics. I know that decision trees heavily prioritize splitting on information gain based on the majority class, which is non-diabetics in this case. This condition seems to hold true in this case since the recall for non-diabetics is 87%. As such, I believe that the class imbalance is causing the recall rate to be low for the class of importance, the diabetics."
   ]
  },
  {
   "cell_type": "markdown",
   "metadata": {},
   "source": [
    "## Model Tuning"
   ]
  },
  {
   "cell_type": "markdown",
   "metadata": {},
   "source": [
    "One way to fix class imbalances is to over-sample the minority class. Keep in mind this occurs after cross-validation or else the results will be influenced by having training instances in the test set. I modify my CART method to properly implement oversampling."
   ]
  },
  {
   "cell_type": "code",
   "execution_count": 106,
   "metadata": {},
   "outputs": [],
   "source": [
    "# Method for building CART decision tree\n",
    "def cart_upsample(features, labels, max_depth): \n",
    "    X = features\n",
    "    y = labels\n",
    "    \n",
    "    classifier = DecisionTreeClassifier(max_depth = max_depth)\n",
    "\n",
    "    acc = []\n",
    "    recall_1 = []\n",
    "    prec_1 = []\n",
    "    f1_1 = []\n",
    "    recall_2 = []\n",
    "    prec_2 = []\n",
    "    f1_2 = []\n",
    "\n",
    "    for i in range(1000):\n",
    "        X_train, X_test, y_train, y_test = train_test_split(X, y, test_size=0.20)  \n",
    "        \n",
    "        tmp2 = pd.merge(X_train, y_train, left_index=True, right_index=True)\n",
    "        tmp_maj = tmp2[tmp2.DIQ010==2.0]\n",
    "        tmp_min = tmp2[tmp2.DIQ010==1.0]\n",
    "        tmp_min_upsample = resample(tmp_min, replace=True, n_samples=tmp_maj.shape[0], random_state=123)\n",
    "        tmp_upsample = pd.concat([tmp_maj, tmp_min_upsample])\n",
    "        tmp_upsample = tmp_upsample.reset_index(drop=True)\n",
    "        X_train = tmp_upsample.drop(['DIQ010'], axis=1)\n",
    "        y_train = tmp_upsample[['DIQ010']]\n",
    "\n",
    "        classifier.fit(X_train, y_train)\n",
    "        y_pred = classifier.predict(X_test)\n",
    "        rep = classification_report(y_test, y_pred, output_dict=True)\n",
    "\n",
    "        acc.append(rep['accuracy'])\n",
    "        recall_1.append(rep['1.0']['recall'])\n",
    "        prec_1.append(rep['1.0']['precision'])\n",
    "        f1_1.append(rep['1.0']['f1-score'])\n",
    "        recall_2.append(rep['2.0']['recall'])\n",
    "        prec_2.append(rep['2.0']['precision'])\n",
    "        f1_2.append(rep['2.0']['f1-score'])\n",
    "\n",
    "    acc = round(np.mean(acc)*100, 2)\n",
    "    recall_1 = round(np.mean(recall_1)*100, 2)\n",
    "    prec_1 = round(np.mean(prec_1)*100, 2)\n",
    "    f1_1 = round(np.mean(f1_1)*100, 2)\n",
    "    recall_2 = round(np.mean(recall_2)*100, 2)\n",
    "    prec_2 = round(np.mean(prec_2)*100, 2)\n",
    "    f1_2 = round(np.mean(f1_2)*100, 2)\n",
    "\n",
    "    return (max_depth, acc, recall_1, prec_1, f1_1, recall_2, prec_2, f1_2)"
   ]
  },
  {
   "cell_type": "code",
   "execution_count": 109,
   "metadata": {},
   "outputs": [
    {
     "name": "stdout",
     "output_type": "stream",
     "text": [
      "Accuracy:  79.66 %\n",
      "\n",
      "Diabetics\n",
      "---------\n",
      "Recall_1:  26.6 %\n",
      "Precision_1:  26.87 %\n",
      "F1-Score_1 26.61 %\n",
      "\n",
      "Non-diabetics\n",
      "-------------\n",
      "Recall_2:  88.26 %\n",
      "Precision_2:  88.13 %\n",
      "F1-Score_2 88.18 %\n"
     ]
    }
   ],
   "source": [
    "results = cart_upsample(features1, labels1, None)\n",
    "print('Accuracy: ', results[1], '%\\n')\n",
    "\n",
    "print('Diabetics')\n",
    "print('---------')\n",
    "print('Recall_1: ', results[2], '%')\n",
    "print('Precision_1: ', results[3], '%')\n",
    "print('F1-Score_1', results[4], '%\\n')\n",
    "\n",
    "print('Non-diabetics')\n",
    "print('-------------')\n",
    "print('Recall_2: ', results[5], '%')\n",
    "print('Precision_2: ', results[6], '%')\n",
    "print('F1-Score_2', results[7], '%')"
   ]
  },
  {
   "cell_type": "markdown",
   "metadata": {},
   "source": [
    "Overall, this did not improve the model accuracy and actually decreased the recall of the diabetics class by 3%. Since oversampling didn't work, I tried to undersample the majority class to see if this would increase the recall of diabetics."
   ]
  },
  {
   "cell_type": "code",
   "execution_count": 107,
   "metadata": {},
   "outputs": [],
   "source": [
    "# Method for building CART decision tree\n",
    "def cart_downsample(features, labels, max_depth): \n",
    "    X = features\n",
    "    y = labels\n",
    "    \n",
    "    classifier = DecisionTreeClassifier(max_depth = max_depth)\n",
    "\n",
    "    acc = []\n",
    "    recall_1 = []\n",
    "    prec_1 = []\n",
    "    f1_1 = []\n",
    "    recall_2 = []\n",
    "    prec_2 = []\n",
    "    f1_2 = []\n",
    "\n",
    "    for i in range(1000):\n",
    "        X_train, X_test, y_train, y_test = train_test_split(X, y, test_size=0.20)  \n",
    "        \n",
    "        tmp2 = pd.merge(X_train, y_train, left_index=True, right_index=True)\n",
    "        tmp_maj = tmp2[tmp2.DIQ010==2.0]\n",
    "        tmp_min = tmp2[tmp2.DIQ010==1.0]\n",
    "        tmp_maj_downsample = resample(tmp_maj, replace=False, n_samples=tmp_min.shape[0], random_state=123)\n",
    "        tmp_downsample = pd.concat([tmp_maj_downsample, tmp_min])\n",
    "        tmp_downsample = tmp_downsample.reset_index(drop=True)\n",
    "        X_train = tmp_downsample.drop(['DIQ010'], axis=1)\n",
    "        y_train = tmp_downsample[['DIQ010']]\n",
    "\n",
    "        classifier.fit(X_train, y_train)\n",
    "        y_pred = classifier.predict(X_test)\n",
    "        rep = classification_report(y_test, y_pred, output_dict=True)\n",
    "\n",
    "        acc.append(rep['accuracy'])\n",
    "        recall_1.append(rep['1.0']['recall'])\n",
    "        prec_1.append(rep['1.0']['precision'])\n",
    "        f1_1.append(rep['1.0']['f1-score'])\n",
    "        recall_2.append(rep['2.0']['recall'])\n",
    "        prec_2.append(rep['2.0']['precision'])\n",
    "        f1_2.append(rep['2.0']['f1-score'])\n",
    "\n",
    "    acc = round(np.mean(acc)*100, 2)\n",
    "    recall_1 = round(np.mean(recall_1)*100, 2)\n",
    "    prec_1 = round(np.mean(prec_1)*100, 2)\n",
    "    f1_1 = round(np.mean(f1_1)*100, 2)\n",
    "    recall_2 = round(np.mean(recall_2)*100, 2)\n",
    "    prec_2 = round(np.mean(prec_2)*100, 2)\n",
    "    f1_2 = round(np.mean(f1_2)*100, 2)\n",
    "    \n",
    "    return (max_depth, acc, recall_1, prec_1, f1_1, recall_2, prec_2, f1_2)"
   ]
  },
  {
   "cell_type": "code",
   "execution_count": 111,
   "metadata": {},
   "outputs": [
    {
     "name": "stdout",
     "output_type": "stream",
     "text": [
      "Accuracy:  64.48 %\n",
      "\n",
      "Diabetics\n",
      "---------\n",
      "Recall_1:  64.01 %\n",
      "Precision_1:  22.67 %\n",
      "F1-Score_1 33.42 %\n",
      "\n",
      "Non-diabetics\n",
      "-------------\n",
      "Recall_2:  64.56 %\n",
      "Precision_2:  91.72 %\n",
      "F1-Score_2 75.75 %\n"
     ]
    }
   ],
   "source": [
    "results = cart_downsample(features1, labels1, None)\n",
    "print('Accuracy: ', results[1], '%\\n')\n",
    "\n",
    "print('Diabetics')\n",
    "print('---------')\n",
    "print('Recall_1: ', results[2], '%')\n",
    "print('Precision_1: ', results[3], '%')\n",
    "print('F1-Score_1', results[4], '%\\n')\n",
    "\n",
    "print('Non-diabetics')\n",
    "print('-------------')\n",
    "print('Recall_2: ', results[5], '%')\n",
    "print('Precision_2: ', results[6], '%')\n",
    "print('F1-Score_2', results[7], '%')"
   ]
  },
  {
   "cell_type": "markdown",
   "metadata": {},
   "source": [
    "I managed to improve the recall of diabetics by 34%! Meanwhile the accuracy of the overall model did decrease by 15%, but this is not the major metric to look at here. The F1-score is interesting to look at since the precision is really weak at 23%, as reflected in the 34% F1-score. So, I would lose out on a lot of money if non-diabetics are going through further testing since the model declares them diabetic. However, overall this is an overall improvement in terms of finding diabetic patients."
   ]
  },
  {
   "cell_type": "markdown",
   "metadata": {},
   "source": [
    "### Hyperparameters - Maximum Depth"
   ]
  },
  {
   "cell_type": "markdown",
   "metadata": {},
   "source": [
    "Next, I played around with some of the hyperparameters for the decision tree, and I noticed that adjusting the maximum depth of the tree allowed for an increase in recall for diabetics even more - which is the ultimate goal. I created a method that adjusted the maximum depth for all three decision trees I created above to see which would result in the highest recall for diabetics. I decide to use a for loop that checks for maximum depths between 1 and 20 since I already tried out various maximum depths and decided this will best show the correlation between maximum depth and recall for the three CART trees. I start off with the CART decision tree that is not adjusted for class imbalances."
   ]
  },
  {
   "cell_type": "code",
   "execution_count": 112,
   "metadata": {},
   "outputs": [],
   "source": [
    "# # Original method that finds the optimal depth that stops when recall decreases from one iteration to the next\n",
    "\n",
    "# def max_depth(features, labels, CART_type):\n",
    "#     metrics = []\n",
    "#     tmp = 0\n",
    "#     cur = [0, 0, 0, 0, 0]\n",
    "#     i = 1\n",
    "\n",
    "#     while cur[2] >= tmp:\n",
    "#         tmp = cur[2]\n",
    "#         if CART_type == 'def':\n",
    "#             cur = cart_def(features, labels, i)\n",
    "#         elif CART_type == 'oversample':\n",
    "#             cur = cart_upsample(features, labels, i)\n",
    "#         elif CART_type == 'undersample':\n",
    "#             cur = cart_downsample(features, labels, i)\n",
    "#         metrics.append(cur)\n",
    "#         i += 1\n",
    "\n",
    "#     metrics_df = pd.DataFrame(columns=['max_depth', 'accuracy', 'recall_1', 'precision_1', 'f1_1',\n",
    "#                                        'recall_2', 'precision_2', 'f1_2'], data=metrics)\n",
    "    \n",
    "#     return metrics_df"
   ]
  },
  {
   "cell_type": "code",
   "execution_count": 108,
   "metadata": {},
   "outputs": [],
   "source": [
    "# Finds the optimal depth of the CART decision tree that has the highest recall for diabetics\n",
    "def max_depth(features, labels, CART_type):\n",
    "    metrics = []\n",
    "    \n",
    "    for i in range(1, 21):\n",
    "        if CART_type == 'def':\n",
    "            metric = cart_def(features, labels, i)\n",
    "        elif CART_type == 'oversample':\n",
    "            metric = cart_upsample(features, labels, i)\n",
    "        elif CART_type == 'undersample':\n",
    "            metric = cart_downsample(features, labels, i)\n",
    "        metrics.append(metric)\n",
    "        \n",
    "    metrics_df = pd.DataFrame(columns=['max_depth', 'accuracy', 'recall_1', 'precision_1', 'f1_1',\n",
    "                                       'recall_2', 'precision_2', 'f1_2'], data=metrics)\n",
    "    \n",
    "    return metrics_df"
   ]
  },
  {
   "cell_type": "code",
   "execution_count": 125,
   "metadata": {},
   "outputs": [
    {
     "data": {
      "text/html": [
       "<div>\n",
       "<style scoped>\n",
       "    .dataframe tbody tr th:only-of-type {\n",
       "        vertical-align: middle;\n",
       "    }\n",
       "\n",
       "    .dataframe tbody tr th {\n",
       "        vertical-align: top;\n",
       "    }\n",
       "\n",
       "    .dataframe thead th {\n",
       "        text-align: right;\n",
       "    }\n",
       "</style>\n",
       "<table border=\"1\" class=\"dataframe\">\n",
       "  <thead>\n",
       "    <tr style=\"text-align: right;\">\n",
       "      <th></th>\n",
       "      <th>max_depth</th>\n",
       "      <th>accuracy</th>\n",
       "      <th>recall_1</th>\n",
       "      <th>precision_1</th>\n",
       "      <th>f1_1</th>\n",
       "      <th>recall_2</th>\n",
       "      <th>precision_2</th>\n",
       "      <th>f1_2</th>\n",
       "    </tr>\n",
       "  </thead>\n",
       "  <tbody>\n",
       "    <tr>\n",
       "      <td>0</td>\n",
       "      <td>1</td>\n",
       "      <td>86.06</td>\n",
       "      <td>0.00</td>\n",
       "      <td>0.00</td>\n",
       "      <td>0.00</td>\n",
       "      <td>100.00</td>\n",
       "      <td>86.06</td>\n",
       "      <td>92.50</td>\n",
       "    </tr>\n",
       "    <tr>\n",
       "      <td>1</td>\n",
       "      <td>2</td>\n",
       "      <td>86.16</td>\n",
       "      <td>0.00</td>\n",
       "      <td>0.00</td>\n",
       "      <td>0.00</td>\n",
       "      <td>100.00</td>\n",
       "      <td>86.16</td>\n",
       "      <td>92.56</td>\n",
       "    </tr>\n",
       "    <tr>\n",
       "      <td>2</td>\n",
       "      <td>3</td>\n",
       "      <td>85.94</td>\n",
       "      <td>0.46</td>\n",
       "      <td>1.74</td>\n",
       "      <td>0.63</td>\n",
       "      <td>99.81</td>\n",
       "      <td>86.08</td>\n",
       "      <td>92.43</td>\n",
       "    </tr>\n",
       "    <tr>\n",
       "      <td>3</td>\n",
       "      <td>4</td>\n",
       "      <td>85.28</td>\n",
       "      <td>5.80</td>\n",
       "      <td>29.53</td>\n",
       "      <td>9.06</td>\n",
       "      <td>98.05</td>\n",
       "      <td>86.64</td>\n",
       "      <td>91.98</td>\n",
       "    </tr>\n",
       "    <tr>\n",
       "      <td>4</td>\n",
       "      <td>5</td>\n",
       "      <td>84.62</td>\n",
       "      <td>8.49</td>\n",
       "      <td>29.99</td>\n",
       "      <td>12.72</td>\n",
       "      <td>96.92</td>\n",
       "      <td>86.77</td>\n",
       "      <td>91.55</td>\n",
       "    </tr>\n",
       "    <tr>\n",
       "      <td>5</td>\n",
       "      <td>6</td>\n",
       "      <td>83.82</td>\n",
       "      <td>13.33</td>\n",
       "      <td>30.20</td>\n",
       "      <td>18.02</td>\n",
       "      <td>95.18</td>\n",
       "      <td>87.21</td>\n",
       "      <td>91.01</td>\n",
       "    </tr>\n",
       "    <tr>\n",
       "      <td>6</td>\n",
       "      <td>7</td>\n",
       "      <td>83.13</td>\n",
       "      <td>17.35</td>\n",
       "      <td>30.49</td>\n",
       "      <td>21.71</td>\n",
       "      <td>93.75</td>\n",
       "      <td>87.56</td>\n",
       "      <td>90.53</td>\n",
       "    </tr>\n",
       "    <tr>\n",
       "      <td>7</td>\n",
       "      <td>8</td>\n",
       "      <td>82.39</td>\n",
       "      <td>19.67</td>\n",
       "      <td>29.80</td>\n",
       "      <td>23.39</td>\n",
       "      <td>92.57</td>\n",
       "      <td>87.67</td>\n",
       "      <td>90.04</td>\n",
       "    </tr>\n",
       "    <tr>\n",
       "      <td>8</td>\n",
       "      <td>9</td>\n",
       "      <td>81.64</td>\n",
       "      <td>21.81</td>\n",
       "      <td>28.87</td>\n",
       "      <td>24.62</td>\n",
       "      <td>91.34</td>\n",
       "      <td>87.83</td>\n",
       "      <td>89.54</td>\n",
       "    </tr>\n",
       "    <tr>\n",
       "      <td>9</td>\n",
       "      <td>10</td>\n",
       "      <td>80.98</td>\n",
       "      <td>24.24</td>\n",
       "      <td>28.42</td>\n",
       "      <td>25.97</td>\n",
       "      <td>90.17</td>\n",
       "      <td>88.03</td>\n",
       "      <td>89.07</td>\n",
       "    </tr>\n",
       "    <tr>\n",
       "      <td>10</td>\n",
       "      <td>11</td>\n",
       "      <td>80.40</td>\n",
       "      <td>26.47</td>\n",
       "      <td>27.97</td>\n",
       "      <td>27.02</td>\n",
       "      <td>89.08</td>\n",
       "      <td>88.29</td>\n",
       "      <td>88.67</td>\n",
       "    </tr>\n",
       "    <tr>\n",
       "      <td>11</td>\n",
       "      <td>12</td>\n",
       "      <td>79.80</td>\n",
       "      <td>27.29</td>\n",
       "      <td>27.57</td>\n",
       "      <td>27.27</td>\n",
       "      <td>88.35</td>\n",
       "      <td>88.20</td>\n",
       "      <td>88.26</td>\n",
       "    </tr>\n",
       "    <tr>\n",
       "      <td>12</td>\n",
       "      <td>13</td>\n",
       "      <td>79.50</td>\n",
       "      <td>28.40</td>\n",
       "      <td>27.57</td>\n",
       "      <td>27.82</td>\n",
       "      <td>87.84</td>\n",
       "      <td>88.27</td>\n",
       "      <td>88.04</td>\n",
       "    </tr>\n",
       "    <tr>\n",
       "      <td>13</td>\n",
       "      <td>14</td>\n",
       "      <td>79.35</td>\n",
       "      <td>29.05</td>\n",
       "      <td>27.22</td>\n",
       "      <td>27.98</td>\n",
       "      <td>87.47</td>\n",
       "      <td>88.43</td>\n",
       "      <td>87.94</td>\n",
       "    </tr>\n",
       "    <tr>\n",
       "      <td>14</td>\n",
       "      <td>15</td>\n",
       "      <td>79.22</td>\n",
       "      <td>29.48</td>\n",
       "      <td>27.15</td>\n",
       "      <td>28.13</td>\n",
       "      <td>87.25</td>\n",
       "      <td>88.47</td>\n",
       "      <td>87.84</td>\n",
       "    </tr>\n",
       "    <tr>\n",
       "      <td>15</td>\n",
       "      <td>16</td>\n",
       "      <td>79.06</td>\n",
       "      <td>29.28</td>\n",
       "      <td>26.80</td>\n",
       "      <td>27.86</td>\n",
       "      <td>87.11</td>\n",
       "      <td>88.41</td>\n",
       "      <td>87.74</td>\n",
       "    </tr>\n",
       "    <tr>\n",
       "      <td>16</td>\n",
       "      <td>17</td>\n",
       "      <td>79.01</td>\n",
       "      <td>29.95</td>\n",
       "      <td>27.16</td>\n",
       "      <td>28.36</td>\n",
       "      <td>86.98</td>\n",
       "      <td>88.45</td>\n",
       "      <td>87.70</td>\n",
       "    </tr>\n",
       "    <tr>\n",
       "      <td>17</td>\n",
       "      <td>18</td>\n",
       "      <td>78.99</td>\n",
       "      <td>29.92</td>\n",
       "      <td>27.08</td>\n",
       "      <td>28.30</td>\n",
       "      <td>86.95</td>\n",
       "      <td>88.45</td>\n",
       "      <td>87.68</td>\n",
       "    </tr>\n",
       "    <tr>\n",
       "      <td>18</td>\n",
       "      <td>19</td>\n",
       "      <td>78.99</td>\n",
       "      <td>29.56</td>\n",
       "      <td>26.90</td>\n",
       "      <td>28.05</td>\n",
       "      <td>86.99</td>\n",
       "      <td>88.42</td>\n",
       "      <td>87.69</td>\n",
       "    </tr>\n",
       "    <tr>\n",
       "      <td>19</td>\n",
       "      <td>20</td>\n",
       "      <td>78.92</td>\n",
       "      <td>29.77</td>\n",
       "      <td>26.77</td>\n",
       "      <td>28.07</td>\n",
       "      <td>86.86</td>\n",
       "      <td>88.47</td>\n",
       "      <td>87.64</td>\n",
       "    </tr>\n",
       "  </tbody>\n",
       "</table>\n",
       "</div>"
      ],
      "text/plain": [
       "    max_depth  accuracy  recall_1  precision_1   f1_1  recall_2  precision_2  \\\n",
       "0           1     86.06      0.00         0.00   0.00    100.00        86.06   \n",
       "1           2     86.16      0.00         0.00   0.00    100.00        86.16   \n",
       "2           3     85.94      0.46         1.74   0.63     99.81        86.08   \n",
       "3           4     85.28      5.80        29.53   9.06     98.05        86.64   \n",
       "4           5     84.62      8.49        29.99  12.72     96.92        86.77   \n",
       "5           6     83.82     13.33        30.20  18.02     95.18        87.21   \n",
       "6           7     83.13     17.35        30.49  21.71     93.75        87.56   \n",
       "7           8     82.39     19.67        29.80  23.39     92.57        87.67   \n",
       "8           9     81.64     21.81        28.87  24.62     91.34        87.83   \n",
       "9          10     80.98     24.24        28.42  25.97     90.17        88.03   \n",
       "10         11     80.40     26.47        27.97  27.02     89.08        88.29   \n",
       "11         12     79.80     27.29        27.57  27.27     88.35        88.20   \n",
       "12         13     79.50     28.40        27.57  27.82     87.84        88.27   \n",
       "13         14     79.35     29.05        27.22  27.98     87.47        88.43   \n",
       "14         15     79.22     29.48        27.15  28.13     87.25        88.47   \n",
       "15         16     79.06     29.28        26.80  27.86     87.11        88.41   \n",
       "16         17     79.01     29.95        27.16  28.36     86.98        88.45   \n",
       "17         18     78.99     29.92        27.08  28.30     86.95        88.45   \n",
       "18         19     78.99     29.56        26.90  28.05     86.99        88.42   \n",
       "19         20     78.92     29.77        26.77  28.07     86.86        88.47   \n",
       "\n",
       "     f1_2  \n",
       "0   92.50  \n",
       "1   92.56  \n",
       "2   92.43  \n",
       "3   91.98  \n",
       "4   91.55  \n",
       "5   91.01  \n",
       "6   90.53  \n",
       "7   90.04  \n",
       "8   89.54  \n",
       "9   89.07  \n",
       "10  88.67  \n",
       "11  88.26  \n",
       "12  88.04  \n",
       "13  87.94  \n",
       "14  87.84  \n",
       "15  87.74  \n",
       "16  87.70  \n",
       "17  87.68  \n",
       "18  87.69  \n",
       "19  87.64  "
      ]
     },
     "execution_count": 125,
     "metadata": {},
     "output_type": "execute_result"
    }
   ],
   "source": [
    "metrics_df = max_depth(features1, labels1, 'def')\n",
    "metrics_df"
   ]
  },
  {
   "cell_type": "code",
   "execution_count": 126,
   "metadata": {
    "scrolled": false
   },
   "outputs": [
    {
     "data": {
      "text/plain": [
       "29.95"
      ]
     },
     "execution_count": 126,
     "metadata": {},
     "output_type": "execute_result"
    }
   ],
   "source": [
    "metrics_df.recall_1.max()"
   ]
  },
  {
   "cell_type": "markdown",
   "metadata": {},
   "source": [
    "Of the CART trees with varying specified maximum depth, the tree with the highest recall is one of maximum depth of 17 with a recall of 29.95% for the diabetic class and overall accuracy of 79.01%. Since the overall accuracy isn't optimal, I look at the other trees to see if there is one with a higher accuracy without much recall loss. In this case, there really doesn't seem to be any other options that pop out.\n",
    "\n",
    "Comparing this tree to the base CART model with no specified maximum depth (recall = 29.8%, accuracy 79.04%), there is actually no difference in recall and accuracy at all. Specifying maximum depth didn't seem to find me a better tree for the base model so next I look at the CART trees that are corrected for class imbalances."
   ]
  },
  {
   "cell_type": "code",
   "execution_count": 116,
   "metadata": {},
   "outputs": [
    {
     "data": {
      "text/html": [
       "<div>\n",
       "<style scoped>\n",
       "    .dataframe tbody tr th:only-of-type {\n",
       "        vertical-align: middle;\n",
       "    }\n",
       "\n",
       "    .dataframe tbody tr th {\n",
       "        vertical-align: top;\n",
       "    }\n",
       "\n",
       "    .dataframe thead th {\n",
       "        text-align: right;\n",
       "    }\n",
       "</style>\n",
       "<table border=\"1\" class=\"dataframe\">\n",
       "  <thead>\n",
       "    <tr style=\"text-align: right;\">\n",
       "      <th></th>\n",
       "      <th>max_depth</th>\n",
       "      <th>accuracy</th>\n",
       "      <th>recall_1</th>\n",
       "      <th>precision_1</th>\n",
       "      <th>f1_1</th>\n",
       "      <th>recall_2</th>\n",
       "      <th>precision_2</th>\n",
       "      <th>f1_2</th>\n",
       "    </tr>\n",
       "  </thead>\n",
       "  <tbody>\n",
       "    <tr>\n",
       "      <td>0</td>\n",
       "      <td>1</td>\n",
       "      <td>63.46</td>\n",
       "      <td>74.55</td>\n",
       "      <td>24.68</td>\n",
       "      <td>36.65</td>\n",
       "      <td>61.67</td>\n",
       "      <td>93.97</td>\n",
       "      <td>73.72</td>\n",
       "    </tr>\n",
       "    <tr>\n",
       "      <td>1</td>\n",
       "      <td>2</td>\n",
       "      <td>67.84</td>\n",
       "      <td>71.72</td>\n",
       "      <td>26.89</td>\n",
       "      <td>38.56</td>\n",
       "      <td>67.23</td>\n",
       "      <td>93.85</td>\n",
       "      <td>77.83</td>\n",
       "    </tr>\n",
       "    <tr>\n",
       "      <td>2</td>\n",
       "      <td>3</td>\n",
       "      <td>67.50</td>\n",
       "      <td>75.14</td>\n",
       "      <td>26.74</td>\n",
       "      <td>39.24</td>\n",
       "      <td>66.26</td>\n",
       "      <td>94.33</td>\n",
       "      <td>77.69</td>\n",
       "    </tr>\n",
       "    <tr>\n",
       "      <td>3</td>\n",
       "      <td>4</td>\n",
       "      <td>70.83</td>\n",
       "      <td>71.77</td>\n",
       "      <td>28.69</td>\n",
       "      <td>40.79</td>\n",
       "      <td>70.68</td>\n",
       "      <td>93.95</td>\n",
       "      <td>80.56</td>\n",
       "    </tr>\n",
       "    <tr>\n",
       "      <td>4</td>\n",
       "      <td>5</td>\n",
       "      <td>69.93</td>\n",
       "      <td>71.44</td>\n",
       "      <td>27.73</td>\n",
       "      <td>39.83</td>\n",
       "      <td>69.68</td>\n",
       "      <td>93.80</td>\n",
       "      <td>79.89</td>\n",
       "    </tr>\n",
       "    <tr>\n",
       "      <td>5</td>\n",
       "      <td>6</td>\n",
       "      <td>70.65</td>\n",
       "      <td>68.58</td>\n",
       "      <td>27.69</td>\n",
       "      <td>39.33</td>\n",
       "      <td>70.99</td>\n",
       "      <td>93.35</td>\n",
       "      <td>80.60</td>\n",
       "    </tr>\n",
       "    <tr>\n",
       "      <td>6</td>\n",
       "      <td>7</td>\n",
       "      <td>71.31</td>\n",
       "      <td>64.92</td>\n",
       "      <td>27.70</td>\n",
       "      <td>38.72</td>\n",
       "      <td>72.36</td>\n",
       "      <td>92.71</td>\n",
       "      <td>81.24</td>\n",
       "    </tr>\n",
       "    <tr>\n",
       "      <td>7</td>\n",
       "      <td>8</td>\n",
       "      <td>72.58</td>\n",
       "      <td>60.95</td>\n",
       "      <td>27.93</td>\n",
       "      <td>38.20</td>\n",
       "      <td>74.46</td>\n",
       "      <td>92.18</td>\n",
       "      <td>82.35</td>\n",
       "    </tr>\n",
       "    <tr>\n",
       "      <td>8</td>\n",
       "      <td>9</td>\n",
       "      <td>73.61</td>\n",
       "      <td>56.59</td>\n",
       "      <td>27.94</td>\n",
       "      <td>37.30</td>\n",
       "      <td>76.37</td>\n",
       "      <td>91.60</td>\n",
       "      <td>83.27</td>\n",
       "    </tr>\n",
       "    <tr>\n",
       "      <td>9</td>\n",
       "      <td>10</td>\n",
       "      <td>74.58</td>\n",
       "      <td>51.87</td>\n",
       "      <td>27.88</td>\n",
       "      <td>36.15</td>\n",
       "      <td>78.26</td>\n",
       "      <td>90.96</td>\n",
       "      <td>84.11</td>\n",
       "    </tr>\n",
       "    <tr>\n",
       "      <td>10</td>\n",
       "      <td>11</td>\n",
       "      <td>75.73</td>\n",
       "      <td>47.79</td>\n",
       "      <td>28.22</td>\n",
       "      <td>35.37</td>\n",
       "      <td>80.27</td>\n",
       "      <td>90.46</td>\n",
       "      <td>85.04</td>\n",
       "    </tr>\n",
       "    <tr>\n",
       "      <td>11</td>\n",
       "      <td>12</td>\n",
       "      <td>76.78</td>\n",
       "      <td>43.76</td>\n",
       "      <td>28.43</td>\n",
       "      <td>34.32</td>\n",
       "      <td>82.14</td>\n",
       "      <td>90.02</td>\n",
       "      <td>85.88</td>\n",
       "    </tr>\n",
       "    <tr>\n",
       "      <td>12</td>\n",
       "      <td>13</td>\n",
       "      <td>77.41</td>\n",
       "      <td>40.56</td>\n",
       "      <td>28.51</td>\n",
       "      <td>33.34</td>\n",
       "      <td>83.42</td>\n",
       "      <td>89.60</td>\n",
       "      <td>86.38</td>\n",
       "    </tr>\n",
       "    <tr>\n",
       "      <td>13</td>\n",
       "      <td>14</td>\n",
       "      <td>77.87</td>\n",
       "      <td>37.65</td>\n",
       "      <td>28.04</td>\n",
       "      <td>32.00</td>\n",
       "      <td>84.38</td>\n",
       "      <td>89.34</td>\n",
       "      <td>86.77</td>\n",
       "    </tr>\n",
       "    <tr>\n",
       "      <td>14</td>\n",
       "      <td>15</td>\n",
       "      <td>78.43</td>\n",
       "      <td>35.07</td>\n",
       "      <td>28.08</td>\n",
       "      <td>31.04</td>\n",
       "      <td>85.47</td>\n",
       "      <td>89.04</td>\n",
       "      <td>87.20</td>\n",
       "    </tr>\n",
       "    <tr>\n",
       "      <td>15</td>\n",
       "      <td>16</td>\n",
       "      <td>78.73</td>\n",
       "      <td>33.06</td>\n",
       "      <td>27.84</td>\n",
       "      <td>30.08</td>\n",
       "      <td>86.13</td>\n",
       "      <td>88.83</td>\n",
       "      <td>87.44</td>\n",
       "    </tr>\n",
       "    <tr>\n",
       "      <td>16</td>\n",
       "      <td>17</td>\n",
       "      <td>78.99</td>\n",
       "      <td>30.97</td>\n",
       "      <td>27.55</td>\n",
       "      <td>29.02</td>\n",
       "      <td>86.79</td>\n",
       "      <td>88.57</td>\n",
       "      <td>87.66</td>\n",
       "    </tr>\n",
       "    <tr>\n",
       "      <td>17</td>\n",
       "      <td>18</td>\n",
       "      <td>79.19</td>\n",
       "      <td>29.99</td>\n",
       "      <td>27.60</td>\n",
       "      <td>28.61</td>\n",
       "      <td>87.21</td>\n",
       "      <td>88.45</td>\n",
       "      <td>87.81</td>\n",
       "    </tr>\n",
       "    <tr>\n",
       "      <td>18</td>\n",
       "      <td>19</td>\n",
       "      <td>79.32</td>\n",
       "      <td>28.72</td>\n",
       "      <td>27.04</td>\n",
       "      <td>27.74</td>\n",
       "      <td>87.50</td>\n",
       "      <td>88.37</td>\n",
       "      <td>87.92</td>\n",
       "    </tr>\n",
       "    <tr>\n",
       "      <td>19</td>\n",
       "      <td>20</td>\n",
       "      <td>79.49</td>\n",
       "      <td>28.16</td>\n",
       "      <td>27.15</td>\n",
       "      <td>27.53</td>\n",
       "      <td>87.80</td>\n",
       "      <td>88.32</td>\n",
       "      <td>88.05</td>\n",
       "    </tr>\n",
       "  </tbody>\n",
       "</table>\n",
       "</div>"
      ],
      "text/plain": [
       "    max_depth  accuracy  recall_1  precision_1   f1_1  recall_2  precision_2  \\\n",
       "0           1     63.46     74.55        24.68  36.65     61.67        93.97   \n",
       "1           2     67.84     71.72        26.89  38.56     67.23        93.85   \n",
       "2           3     67.50     75.14        26.74  39.24     66.26        94.33   \n",
       "3           4     70.83     71.77        28.69  40.79     70.68        93.95   \n",
       "4           5     69.93     71.44        27.73  39.83     69.68        93.80   \n",
       "5           6     70.65     68.58        27.69  39.33     70.99        93.35   \n",
       "6           7     71.31     64.92        27.70  38.72     72.36        92.71   \n",
       "7           8     72.58     60.95        27.93  38.20     74.46        92.18   \n",
       "8           9     73.61     56.59        27.94  37.30     76.37        91.60   \n",
       "9          10     74.58     51.87        27.88  36.15     78.26        90.96   \n",
       "10         11     75.73     47.79        28.22  35.37     80.27        90.46   \n",
       "11         12     76.78     43.76        28.43  34.32     82.14        90.02   \n",
       "12         13     77.41     40.56        28.51  33.34     83.42        89.60   \n",
       "13         14     77.87     37.65        28.04  32.00     84.38        89.34   \n",
       "14         15     78.43     35.07        28.08  31.04     85.47        89.04   \n",
       "15         16     78.73     33.06        27.84  30.08     86.13        88.83   \n",
       "16         17     78.99     30.97        27.55  29.02     86.79        88.57   \n",
       "17         18     79.19     29.99        27.60  28.61     87.21        88.45   \n",
       "18         19     79.32     28.72        27.04  27.74     87.50        88.37   \n",
       "19         20     79.49     28.16        27.15  27.53     87.80        88.32   \n",
       "\n",
       "     f1_2  \n",
       "0   73.72  \n",
       "1   77.83  \n",
       "2   77.69  \n",
       "3   80.56  \n",
       "4   79.89  \n",
       "5   80.60  \n",
       "6   81.24  \n",
       "7   82.35  \n",
       "8   83.27  \n",
       "9   84.11  \n",
       "10  85.04  \n",
       "11  85.88  \n",
       "12  86.38  \n",
       "13  86.77  \n",
       "14  87.20  \n",
       "15  87.44  \n",
       "16  87.66  \n",
       "17  87.81  \n",
       "18  87.92  \n",
       "19  88.05  "
      ]
     },
     "execution_count": 116,
     "metadata": {},
     "output_type": "execute_result"
    }
   ],
   "source": [
    "metrics_df = max_depth(features1, labels1, 'oversample')\n",
    "metrics_df"
   ]
  },
  {
   "cell_type": "code",
   "execution_count": 117,
   "metadata": {},
   "outputs": [
    {
     "data": {
      "text/plain": [
       "75.14"
      ]
     },
     "execution_count": 117,
     "metadata": {},
     "output_type": "execute_result"
    }
   ],
   "source": [
    "metrics_df.recall_1.max()"
   ]
  },
  {
   "cell_type": "markdown",
   "metadata": {},
   "source": [
    "Of the oversampled CART trees with varying specified maximum depth, the tree with the highest recall is one of maximum depth of 3 with a recall of 75.14% for the diabetic class and overall accuracy of 67.50%. Since the overall accuracy isn't optimal, I look at the other trees to see if there is one with a higher accuracy without much recall loss. The oversampled CART tree can increase it's accuracy from 67.50% to 79.49%, but at an undesirable recall rate of 28.16% for diabetics. Since any CART trees that have a 70% plus recall rate for diabetics has an accuracy similar to 67.50%, I settle on the tree with maximum depth of 3.\n",
    "\n",
    "Comparing this tree to the oversampled CART model with no specified maximum depth (recall = 26.6%, accuracy 79.66%), there is a big difference in recall and accuracy. I have managed to increase the recall rate for diabetics by almost 50% at an overall accuracy loss of 13%. This is a tradeoff that I would gladly take since I don't want my model to predict someone as non-diabetic when they are actually diabetic. Let's see if undersampling in the CART tree while specifying a maximum depth can also improve recall."
   ]
  },
  {
   "cell_type": "code",
   "execution_count": 118,
   "metadata": {},
   "outputs": [
    {
     "data": {
      "text/html": [
       "<div>\n",
       "<style scoped>\n",
       "    .dataframe tbody tr th:only-of-type {\n",
       "        vertical-align: middle;\n",
       "    }\n",
       "\n",
       "    .dataframe tbody tr th {\n",
       "        vertical-align: top;\n",
       "    }\n",
       "\n",
       "    .dataframe thead th {\n",
       "        text-align: right;\n",
       "    }\n",
       "</style>\n",
       "<table border=\"1\" class=\"dataframe\">\n",
       "  <thead>\n",
       "    <tr style=\"text-align: right;\">\n",
       "      <th></th>\n",
       "      <th>max_depth</th>\n",
       "      <th>accuracy</th>\n",
       "      <th>recall_1</th>\n",
       "      <th>precision_1</th>\n",
       "      <th>f1_1</th>\n",
       "      <th>recall_2</th>\n",
       "      <th>precision_2</th>\n",
       "      <th>f1_2</th>\n",
       "    </tr>\n",
       "  </thead>\n",
       "  <tbody>\n",
       "    <tr>\n",
       "      <td>0</td>\n",
       "      <td>1</td>\n",
       "      <td>62.37</td>\n",
       "      <td>76.05</td>\n",
       "      <td>24.30</td>\n",
       "      <td>36.39</td>\n",
       "      <td>60.17</td>\n",
       "      <td>94.22</td>\n",
       "      <td>72.66</td>\n",
       "    </tr>\n",
       "    <tr>\n",
       "      <td>1</td>\n",
       "      <td>2</td>\n",
       "      <td>67.77</td>\n",
       "      <td>71.45</td>\n",
       "      <td>26.83</td>\n",
       "      <td>38.45</td>\n",
       "      <td>67.18</td>\n",
       "      <td>93.79</td>\n",
       "      <td>77.74</td>\n",
       "    </tr>\n",
       "    <tr>\n",
       "      <td>2</td>\n",
       "      <td>3</td>\n",
       "      <td>67.21</td>\n",
       "      <td>74.98</td>\n",
       "      <td>26.65</td>\n",
       "      <td>39.08</td>\n",
       "      <td>65.95</td>\n",
       "      <td>94.27</td>\n",
       "      <td>77.40</td>\n",
       "    </tr>\n",
       "    <tr>\n",
       "      <td>3</td>\n",
       "      <td>4</td>\n",
       "      <td>67.51</td>\n",
       "      <td>74.38</td>\n",
       "      <td>26.47</td>\n",
       "      <td>38.85</td>\n",
       "      <td>66.41</td>\n",
       "      <td>94.23</td>\n",
       "      <td>77.75</td>\n",
       "    </tr>\n",
       "    <tr>\n",
       "      <td>4</td>\n",
       "      <td>5</td>\n",
       "      <td>67.16</td>\n",
       "      <td>73.28</td>\n",
       "      <td>26.05</td>\n",
       "      <td>38.30</td>\n",
       "      <td>66.17</td>\n",
       "      <td>93.92</td>\n",
       "      <td>77.54</td>\n",
       "    </tr>\n",
       "    <tr>\n",
       "      <td>5</td>\n",
       "      <td>6</td>\n",
       "      <td>66.54</td>\n",
       "      <td>72.28</td>\n",
       "      <td>25.40</td>\n",
       "      <td>37.47</td>\n",
       "      <td>65.61</td>\n",
       "      <td>93.66</td>\n",
       "      <td>77.08</td>\n",
       "    </tr>\n",
       "    <tr>\n",
       "      <td>6</td>\n",
       "      <td>7</td>\n",
       "      <td>65.54</td>\n",
       "      <td>71.08</td>\n",
       "      <td>24.59</td>\n",
       "      <td>36.45</td>\n",
       "      <td>64.64</td>\n",
       "      <td>93.27</td>\n",
       "      <td>76.29</td>\n",
       "    </tr>\n",
       "    <tr>\n",
       "      <td>7</td>\n",
       "      <td>8</td>\n",
       "      <td>65.09</td>\n",
       "      <td>69.62</td>\n",
       "      <td>24.03</td>\n",
       "      <td>35.64</td>\n",
       "      <td>64.36</td>\n",
       "      <td>92.93</td>\n",
       "      <td>75.99</td>\n",
       "    </tr>\n",
       "    <tr>\n",
       "      <td>8</td>\n",
       "      <td>9</td>\n",
       "      <td>64.70</td>\n",
       "      <td>68.17</td>\n",
       "      <td>23.49</td>\n",
       "      <td>34.87</td>\n",
       "      <td>64.14</td>\n",
       "      <td>92.60</td>\n",
       "      <td>75.74</td>\n",
       "    </tr>\n",
       "    <tr>\n",
       "      <td>9</td>\n",
       "      <td>10</td>\n",
       "      <td>64.47</td>\n",
       "      <td>66.93</td>\n",
       "      <td>23.11</td>\n",
       "      <td>34.29</td>\n",
       "      <td>64.07</td>\n",
       "      <td>92.33</td>\n",
       "      <td>75.61</td>\n",
       "    </tr>\n",
       "    <tr>\n",
       "      <td>10</td>\n",
       "      <td>11</td>\n",
       "      <td>64.43</td>\n",
       "      <td>65.91</td>\n",
       "      <td>22.96</td>\n",
       "      <td>33.99</td>\n",
       "      <td>64.19</td>\n",
       "      <td>92.10</td>\n",
       "      <td>75.62</td>\n",
       "    </tr>\n",
       "    <tr>\n",
       "      <td>11</td>\n",
       "      <td>12</td>\n",
       "      <td>64.34</td>\n",
       "      <td>65.51</td>\n",
       "      <td>22.87</td>\n",
       "      <td>33.84</td>\n",
       "      <td>64.16</td>\n",
       "      <td>91.99</td>\n",
       "      <td>75.56</td>\n",
       "    </tr>\n",
       "    <tr>\n",
       "      <td>12</td>\n",
       "      <td>13</td>\n",
       "      <td>64.35</td>\n",
       "      <td>64.86</td>\n",
       "      <td>22.63</td>\n",
       "      <td>33.49</td>\n",
       "      <td>64.26</td>\n",
       "      <td>91.92</td>\n",
       "      <td>75.61</td>\n",
       "    </tr>\n",
       "    <tr>\n",
       "      <td>13</td>\n",
       "      <td>14</td>\n",
       "      <td>64.46</td>\n",
       "      <td>64.29</td>\n",
       "      <td>22.67</td>\n",
       "      <td>33.46</td>\n",
       "      <td>64.48</td>\n",
       "      <td>91.79</td>\n",
       "      <td>75.72</td>\n",
       "    </tr>\n",
       "    <tr>\n",
       "      <td>14</td>\n",
       "      <td>15</td>\n",
       "      <td>64.33</td>\n",
       "      <td>64.03</td>\n",
       "      <td>22.52</td>\n",
       "      <td>33.26</td>\n",
       "      <td>64.38</td>\n",
       "      <td>91.72</td>\n",
       "      <td>75.63</td>\n",
       "    </tr>\n",
       "    <tr>\n",
       "      <td>15</td>\n",
       "      <td>16</td>\n",
       "      <td>64.38</td>\n",
       "      <td>64.17</td>\n",
       "      <td>22.65</td>\n",
       "      <td>33.42</td>\n",
       "      <td>64.41</td>\n",
       "      <td>91.73</td>\n",
       "      <td>75.65</td>\n",
       "    </tr>\n",
       "    <tr>\n",
       "      <td>16</td>\n",
       "      <td>17</td>\n",
       "      <td>64.52</td>\n",
       "      <td>64.23</td>\n",
       "      <td>22.76</td>\n",
       "      <td>33.55</td>\n",
       "      <td>64.56</td>\n",
       "      <td>91.75</td>\n",
       "      <td>75.76</td>\n",
       "    </tr>\n",
       "    <tr>\n",
       "      <td>17</td>\n",
       "      <td>18</td>\n",
       "      <td>64.34</td>\n",
       "      <td>63.94</td>\n",
       "      <td>22.54</td>\n",
       "      <td>33.27</td>\n",
       "      <td>64.41</td>\n",
       "      <td>91.69</td>\n",
       "      <td>75.64</td>\n",
       "    </tr>\n",
       "    <tr>\n",
       "      <td>18</td>\n",
       "      <td>19</td>\n",
       "      <td>64.44</td>\n",
       "      <td>63.93</td>\n",
       "      <td>22.61</td>\n",
       "      <td>33.35</td>\n",
       "      <td>64.52</td>\n",
       "      <td>91.70</td>\n",
       "      <td>75.72</td>\n",
       "    </tr>\n",
       "    <tr>\n",
       "      <td>19</td>\n",
       "      <td>20</td>\n",
       "      <td>64.37</td>\n",
       "      <td>64.08</td>\n",
       "      <td>22.57</td>\n",
       "      <td>33.32</td>\n",
       "      <td>64.42</td>\n",
       "      <td>91.73</td>\n",
       "      <td>75.65</td>\n",
       "    </tr>\n",
       "  </tbody>\n",
       "</table>\n",
       "</div>"
      ],
      "text/plain": [
       "    max_depth  accuracy  recall_1  precision_1   f1_1  recall_2  precision_2  \\\n",
       "0           1     62.37     76.05        24.30  36.39     60.17        94.22   \n",
       "1           2     67.77     71.45        26.83  38.45     67.18        93.79   \n",
       "2           3     67.21     74.98        26.65  39.08     65.95        94.27   \n",
       "3           4     67.51     74.38        26.47  38.85     66.41        94.23   \n",
       "4           5     67.16     73.28        26.05  38.30     66.17        93.92   \n",
       "5           6     66.54     72.28        25.40  37.47     65.61        93.66   \n",
       "6           7     65.54     71.08        24.59  36.45     64.64        93.27   \n",
       "7           8     65.09     69.62        24.03  35.64     64.36        92.93   \n",
       "8           9     64.70     68.17        23.49  34.87     64.14        92.60   \n",
       "9          10     64.47     66.93        23.11  34.29     64.07        92.33   \n",
       "10         11     64.43     65.91        22.96  33.99     64.19        92.10   \n",
       "11         12     64.34     65.51        22.87  33.84     64.16        91.99   \n",
       "12         13     64.35     64.86        22.63  33.49     64.26        91.92   \n",
       "13         14     64.46     64.29        22.67  33.46     64.48        91.79   \n",
       "14         15     64.33     64.03        22.52  33.26     64.38        91.72   \n",
       "15         16     64.38     64.17        22.65  33.42     64.41        91.73   \n",
       "16         17     64.52     64.23        22.76  33.55     64.56        91.75   \n",
       "17         18     64.34     63.94        22.54  33.27     64.41        91.69   \n",
       "18         19     64.44     63.93        22.61  33.35     64.52        91.70   \n",
       "19         20     64.37     64.08        22.57  33.32     64.42        91.73   \n",
       "\n",
       "     f1_2  \n",
       "0   72.66  \n",
       "1   77.74  \n",
       "2   77.40  \n",
       "3   77.75  \n",
       "4   77.54  \n",
       "5   77.08  \n",
       "6   76.29  \n",
       "7   75.99  \n",
       "8   75.74  \n",
       "9   75.61  \n",
       "10  75.62  \n",
       "11  75.56  \n",
       "12  75.61  \n",
       "13  75.72  \n",
       "14  75.63  \n",
       "15  75.65  \n",
       "16  75.76  \n",
       "17  75.64  \n",
       "18  75.72  \n",
       "19  75.65  "
      ]
     },
     "execution_count": 118,
     "metadata": {},
     "output_type": "execute_result"
    }
   ],
   "source": [
    "metrics_df = max_depth(features1, labels1, 'undersample')\n",
    "metrics_df"
   ]
  },
  {
   "cell_type": "code",
   "execution_count": 119,
   "metadata": {},
   "outputs": [
    {
     "data": {
      "text/plain": [
       "76.05"
      ]
     },
     "execution_count": 119,
     "metadata": {},
     "output_type": "execute_result"
    }
   ],
   "source": [
    "metrics_df.recall_1.max()"
   ]
  },
  {
   "cell_type": "markdown",
   "metadata": {},
   "source": [
    "Of the undersampled CART trees with varying specified maximum depth, the tree with the highest recall is one of maximum depth of 1 with a recall of 76.05% for the diabetic class and overall accuracy of 62.37%. Since the overall accuracy isn't optimal, I look at the other trees to see if there is one with a higher accuracy without much recall loss. The undersampled CART tree can increase it's accuracy from 62.37% to 67.51% while only decreasing recall of diabetics class from 76.05% to 74.38% by specifying a maximum depth of 3.\n",
    "\n",
    "Comparing this tree to the undersampled CART model with no specified maximum depth (recall = 64.01%, accuracy 64.48%), there is a moderate difference in recall and accuracy. I have managed to increase the recall rate for diabetics by 10% and also increase overall accuracy by 3%. After looking at all three CART trees while tuning the maximum depth hyperparameter, let's once again look at the three CART trees we found to be best per model type."
   ]
  },
  {
   "cell_type": "markdown",
   "metadata": {},
   "source": [
    "## Final Non-Invasive Model Analysis"
   ]
  },
  {
   "cell_type": "markdown",
   "metadata": {},
   "source": [
    "### Precision and F1 Score"
   ]
  },
  {
   "cell_type": "code",
   "execution_count": 163,
   "metadata": {},
   "outputs": [
    {
     "data": {
      "text/html": [
       "<div>\n",
       "<style scoped>\n",
       "    .dataframe tbody tr th:only-of-type {\n",
       "        vertical-align: middle;\n",
       "    }\n",
       "\n",
       "    .dataframe tbody tr th {\n",
       "        vertical-align: top;\n",
       "    }\n",
       "\n",
       "    .dataframe thead th {\n",
       "        text-align: right;\n",
       "    }\n",
       "</style>\n",
       "<table border=\"1\" class=\"dataframe\">\n",
       "  <thead>\n",
       "    <tr style=\"text-align: right;\">\n",
       "      <th></th>\n",
       "      <th>CART-type</th>\n",
       "      <th>max_depth</th>\n",
       "      <th>accuracy</th>\n",
       "      <th>recall_1</th>\n",
       "      <th>precision_1</th>\n",
       "      <th>f1_1</th>\n",
       "      <th>recall_2</th>\n",
       "      <th>precision_2</th>\n",
       "      <th>f1_2</th>\n",
       "    </tr>\n",
       "  </thead>\n",
       "  <tbody>\n",
       "    <tr>\n",
       "      <td>0</td>\n",
       "      <td>default</td>\n",
       "      <td>17</td>\n",
       "      <td>79.01</td>\n",
       "      <td>29.95</td>\n",
       "      <td>27.16</td>\n",
       "      <td>28.36</td>\n",
       "      <td>86.98</td>\n",
       "      <td>88.45</td>\n",
       "      <td>87.70</td>\n",
       "    </tr>\n",
       "    <tr>\n",
       "      <td>1</td>\n",
       "      <td>oversample</td>\n",
       "      <td>3</td>\n",
       "      <td>67.50</td>\n",
       "      <td>75.14</td>\n",
       "      <td>26.74</td>\n",
       "      <td>39.24</td>\n",
       "      <td>66.26</td>\n",
       "      <td>94.33</td>\n",
       "      <td>77.69</td>\n",
       "    </tr>\n",
       "    <tr>\n",
       "      <td>2</td>\n",
       "      <td>undersample</td>\n",
       "      <td>3</td>\n",
       "      <td>67.21</td>\n",
       "      <td>74.98</td>\n",
       "      <td>26.65</td>\n",
       "      <td>39.08</td>\n",
       "      <td>65.95</td>\n",
       "      <td>94.27</td>\n",
       "      <td>77.40</td>\n",
       "    </tr>\n",
       "  </tbody>\n",
       "</table>\n",
       "</div>"
      ],
      "text/plain": [
       "     CART-type  max_depth  accuracy  recall_1  precision_1   f1_1  recall_2  \\\n",
       "0      default         17     79.01     29.95        27.16  28.36     86.98   \n",
       "1   oversample          3     67.50     75.14        26.74  39.24     66.26   \n",
       "2  undersample          3     67.21     74.98        26.65  39.08     65.95   \n",
       "\n",
       "   precision_2   f1_2  \n",
       "0        88.45  87.70  \n",
       "1        94.33  77.69  \n",
       "2        94.27  77.40  "
      ]
     },
     "execution_count": 163,
     "metadata": {},
     "output_type": "execute_result"
    }
   ],
   "source": [
    "a = ['default',17,79.01,29.95,27.16,28.36,86.98,88.45,87.70]\n",
    "b = ['oversample',3,67.50,75.14,26.74,39.24,66.26,94.33,77.69]\n",
    "c = ['undersample',3,67.21,74.98,26.65,39.08,65.95,94.27,77.40]\n",
    "pd.DataFrame([a, b, c], columns=['CART-type','max_depth', 'accuracy', 'recall_1', 'precision_1', 'f1_1',\n",
    "                                       'recall_2', 'precision_2', 'f1_2'])"
   ]
  },
  {
   "cell_type": "markdown",
   "metadata": {},
   "source": [
    "These are the three best models between the three types of CART trees that I created earlier. I already discussed the recall and accuracy tradeoffs between all three models where the recall of the diabetic class has been my main priority while model tuning. Now I want to briefly talk about precision and the F1 score as well for these three models.\n",
    "\n",
    "Precision for the diabetic class is how often the model predicts a non-diabetic as diabetic. Essentially, the lower the precision the more likely the model will incorrectly categorize a non-diabetic as diabetic. As such, these non-diabetics who now think they are diabetic will need to go through further testing and increase the expenses of using this model. As a result, if further testing is expensive, model builders must consider the precision of the diabetic class as well.\n",
    "\n",
    "The F1 score is a combination of recall and precision and as a result if one of the two are low, the overall F1 score will be low as well. Since the data has very skewed class imbalances, the minority class has a high chance of having a low recall or precision since the model prioritizes the majority class. This is reflected in the F1 score of the default CART tree with a score of 28%. Using the oversample and undersample strategies, I manage to improve the F1 score by 10%, which is still an improvement.\n",
    "\n",
    "Overall, the improvement in recall found in these models is satisfactory for our model tuning process. Next, we can take a look at the feature distribution among the three models."
   ]
  },
  {
   "cell_type": "markdown",
   "metadata": {},
   "source": [
    "### Feature Importance - Novel Depression Features"
   ]
  },
  {
   "cell_type": "markdown",
   "metadata": {},
   "source": [
    "The best CART trees for the default, oversampled, and undersampled versions have a maximum depth of 17, 3, and 3 respectively. Let's take a look at the individual trees to see which features were most important and selected by our CART tree. I use modified CART methods that return the average feature importance across all 1000 CART trees."
   ]
  },
  {
   "cell_type": "code",
   "execution_count": 148,
   "metadata": {},
   "outputs": [],
   "source": [
    "# Method for building CART decision tree\n",
    "def cart_def2(features, labels, max_depth): \n",
    "    X = features\n",
    "    y = labels\n",
    "    \n",
    "    classifier = DecisionTreeClassifier(max_depth = max_depth)\n",
    "\n",
    "    acc = []\n",
    "    recall_1 = []\n",
    "    prec_1 = []\n",
    "    f1_1 = []\n",
    "    recall_2 = []\n",
    "    prec_2 = []\n",
    "    f1_2 = []\n",
    "    \n",
    "    feature_importance = [0 for i in range(features.shape[1])]\n",
    "    \n",
    "    for i in range(1000):\n",
    "        X_train, X_test, y_train, y_test = train_test_split(X, y, test_size=0.20)  \n",
    "        classifier.fit(X_train, y_train)\n",
    "        y_pred = classifier.predict(X_test)\n",
    "        rep = classification_report(y_test, y_pred, output_dict=True)\n",
    "        \n",
    "        feature_importance += classifier.feature_importances_\n",
    "        \n",
    "        acc.append(rep['accuracy'])\n",
    "        recall_1.append(rep['1.0']['recall'])\n",
    "        prec_1.append(rep['1.0']['precision'])\n",
    "        f1_1.append(rep['1.0']['f1-score'])\n",
    "        recall_2.append(rep['2.0']['recall'])\n",
    "        prec_2.append(rep['2.0']['precision'])\n",
    "        f1_2.append(rep['2.0']['f1-score'])\n",
    "        \n",
    "    acc = round(np.mean(acc)*100, 2)\n",
    "    recall_1 = round(np.mean(recall_1)*100, 2)\n",
    "    prec_1 = round(np.mean(prec_1)*100, 2)\n",
    "    f1_1 = round(np.mean(f1_1)*100, 2)\n",
    "    recall_2 = round(np.mean(recall_2)*100, 2)\n",
    "    prec_2 = round(np.mean(prec_2)*100, 2)\n",
    "    f1_2 = round(np.mean(f1_2)*100, 2)\n",
    "    \n",
    "    feature_importance = feature_importance/1000\n",
    "    \n",
    "    return (feature_importance, max_depth, acc, recall_1, prec_1, f1_1, recall_2, prec_2, f1_2)\n",
    "\n",
    "# Method for building CART decision tree\n",
    "def cart_upsample2(features, labels, max_depth): \n",
    "    X = features\n",
    "    y = labels\n",
    "    \n",
    "    classifier = DecisionTreeClassifier(max_depth = max_depth)\n",
    "\n",
    "    acc = []\n",
    "    recall_1 = []\n",
    "    prec_1 = []\n",
    "    f1_1 = []\n",
    "    recall_2 = []\n",
    "    prec_2 = []\n",
    "    f1_2 = []\n",
    "\n",
    "    feature_importance = [0 for i in range(features.shape[1])]\n",
    "    \n",
    "    for i in range(1000):\n",
    "        X_train, X_test, y_train, y_test = train_test_split(X, y, test_size=0.20)  \n",
    "        \n",
    "        tmp2 = pd.merge(X_train, y_train, left_index=True, right_index=True)\n",
    "        tmp_maj = tmp2[tmp2.DIQ010==2.0]\n",
    "        tmp_min = tmp2[tmp2.DIQ010==1.0]\n",
    "        tmp_min_upsample = resample(tmp_min, replace=True, n_samples=tmp_maj.shape[0], random_state=123)\n",
    "        tmp_upsample = pd.concat([tmp_maj, tmp_min_upsample])\n",
    "        tmp_upsample = tmp_upsample.reset_index(drop=True)\n",
    "        X_train = tmp_upsample.drop(['DIQ010'], axis=1)\n",
    "        y_train = tmp_upsample[['DIQ010']]\n",
    "        \n",
    "        classifier.fit(X_train, y_train)\n",
    "        y_pred = classifier.predict(X_test)\n",
    "        rep = classification_report(y_test, y_pred, output_dict=True)\n",
    "        \n",
    "        feature_importance += classifier.feature_importances_\n",
    "        \n",
    "        acc.append(rep['accuracy'])\n",
    "        recall_1.append(rep['1.0']['recall'])\n",
    "        prec_1.append(rep['1.0']['precision'])\n",
    "        f1_1.append(rep['1.0']['f1-score'])\n",
    "        recall_2.append(rep['2.0']['recall'])\n",
    "        prec_2.append(rep['2.0']['precision'])\n",
    "        f1_2.append(rep['2.0']['f1-score'])\n",
    "\n",
    "    acc = round(np.mean(acc)*100, 2)\n",
    "    recall_1 = round(np.mean(recall_1)*100, 2)\n",
    "    prec_1 = round(np.mean(prec_1)*100, 2)\n",
    "    f1_1 = round(np.mean(f1_1)*100, 2)\n",
    "    recall_2 = round(np.mean(recall_2)*100, 2)\n",
    "    prec_2 = round(np.mean(prec_2)*100, 2)\n",
    "    f1_2 = round(np.mean(f1_2)*100, 2)\n",
    "    \n",
    "    feature_importance = feature_importance/1000\n",
    "    \n",
    "    return (feature_importance, max_depth, acc, recall_1, prec_1, f1_1, recall_2, prec_2, f1_2)\n",
    "\n",
    "# Method for building CART decision tree\n",
    "def cart_downsample2(features, labels, max_depth): \n",
    "    X = features\n",
    "    y = labels\n",
    "    \n",
    "    classifier = DecisionTreeClassifier(max_depth = max_depth)\n",
    "\n",
    "    acc = []\n",
    "    recall_1 = []\n",
    "    prec_1 = []\n",
    "    f1_1 = []\n",
    "    recall_2 = []\n",
    "    prec_2 = []\n",
    "    f1_2 = []\n",
    "    \n",
    "    feature_importance = [0 for i in range(features.shape[1])]\n",
    "    \n",
    "    for i in range(1000):\n",
    "        X_train, X_test, y_train, y_test = train_test_split(X, y, test_size=0.20)  \n",
    "        \n",
    "        tmp2 = pd.merge(X_train, y_train, left_index=True, right_index=True)\n",
    "        tmp_maj = tmp2[tmp2.DIQ010==2.0]\n",
    "        tmp_min = tmp2[tmp2.DIQ010==1.0]\n",
    "        tmp_maj_downsample = resample(tmp_maj, replace=False, n_samples=tmp_min.shape[0], random_state=123)\n",
    "        tmp_downsample = pd.concat([tmp_maj_downsample, tmp_min])\n",
    "        tmp_downsample = tmp_downsample.reset_index(drop=True)\n",
    "        X_train = tmp_downsample.drop(['DIQ010'], axis=1)\n",
    "        y_train = tmp_downsample[['DIQ010']]\n",
    "\n",
    "        classifier.fit(X_train, y_train)\n",
    "        y_pred = classifier.predict(X_test)\n",
    "        rep = classification_report(y_test, y_pred, output_dict=True)\n",
    "        \n",
    "        feature_importance += classifier.feature_importances_\n",
    "        \n",
    "        acc.append(rep['accuracy'])\n",
    "        recall_1.append(rep['1.0']['recall'])\n",
    "        prec_1.append(rep['1.0']['precision'])\n",
    "        f1_1.append(rep['1.0']['f1-score'])\n",
    "        recall_2.append(rep['2.0']['recall'])\n",
    "        prec_2.append(rep['2.0']['precision'])\n",
    "        f1_2.append(rep['2.0']['f1-score'])\n",
    "\n",
    "    acc = round(np.mean(acc)*100, 2)\n",
    "    recall_1 = round(np.mean(recall_1)*100, 2)\n",
    "    prec_1 = round(np.mean(prec_1)*100, 2)\n",
    "    f1_1 = round(np.mean(f1_1)*100, 2)\n",
    "    recall_2 = round(np.mean(recall_2)*100, 2)\n",
    "    prec_2 = round(np.mean(prec_2)*100, 2)\n",
    "    f1_2 = round(np.mean(f1_2)*100, 2)\n",
    "    \n",
    "    feature_importance = feature_importance/1000\n",
    "    \n",
    "    return (feature_importance, max_depth, acc, recall_1, prec_1, f1_1, recall_2, prec_2, f1_2)"
   ]
  },
  {
   "cell_type": "markdown",
   "metadata": {},
   "source": [
    "Let's first take a look at the feature importance distribution for the default CART tree with maximum depth of 17."
   ]
  },
  {
   "cell_type": "code",
   "execution_count": 158,
   "metadata": {},
   "outputs": [
    {
     "data": {
      "text/html": [
       "<div>\n",
       "<style scoped>\n",
       "    .dataframe tbody tr th:only-of-type {\n",
       "        vertical-align: middle;\n",
       "    }\n",
       "\n",
       "    .dataframe tbody tr th {\n",
       "        vertical-align: top;\n",
       "    }\n",
       "\n",
       "    .dataframe thead th {\n",
       "        text-align: right;\n",
       "    }\n",
       "</style>\n",
       "<table border=\"1\" class=\"dataframe\">\n",
       "  <thead>\n",
       "    <tr style=\"text-align: right;\">\n",
       "      <th></th>\n",
       "      <th>feature</th>\n",
       "      <th>importance</th>\n",
       "    </tr>\n",
       "  </thead>\n",
       "  <tbody>\n",
       "    <tr>\n",
       "      <td>0</td>\n",
       "      <td>BMXWAIST</td>\n",
       "      <td>0.179046</td>\n",
       "    </tr>\n",
       "    <tr>\n",
       "      <td>1</td>\n",
       "      <td>RIDAGEYR</td>\n",
       "      <td>0.137470</td>\n",
       "    </tr>\n",
       "    <tr>\n",
       "      <td>2</td>\n",
       "      <td>BMXBMI</td>\n",
       "      <td>0.123301</td>\n",
       "    </tr>\n",
       "    <tr>\n",
       "      <td>3</td>\n",
       "      <td>INDFMPIR</td>\n",
       "      <td>0.118483</td>\n",
       "    </tr>\n",
       "    <tr>\n",
       "      <td>4</td>\n",
       "      <td>BPQ020</td>\n",
       "      <td>0.084597</td>\n",
       "    </tr>\n",
       "    <tr>\n",
       "      <td>5</td>\n",
       "      <td>RIDRETH3</td>\n",
       "      <td>0.053710</td>\n",
       "    </tr>\n",
       "    <tr>\n",
       "      <td>6</td>\n",
       "      <td>DBQ700</td>\n",
       "      <td>0.046384</td>\n",
       "    </tr>\n",
       "    <tr>\n",
       "      <td>7</td>\n",
       "      <td>DMDHREDU</td>\n",
       "      <td>0.043115</td>\n",
       "    </tr>\n",
       "    <tr>\n",
       "      <td>8</td>\n",
       "      <td>DPQ050</td>\n",
       "      <td>0.023871</td>\n",
       "    </tr>\n",
       "    <tr>\n",
       "      <td>9</td>\n",
       "      <td>DPQ030</td>\n",
       "      <td>0.023556</td>\n",
       "    </tr>\n",
       "    <tr>\n",
       "      <td>10</td>\n",
       "      <td>RIAGENDR</td>\n",
       "      <td>0.018219</td>\n",
       "    </tr>\n",
       "    <tr>\n",
       "      <td>11</td>\n",
       "      <td>PAQ665</td>\n",
       "      <td>0.018214</td>\n",
       "    </tr>\n",
       "    <tr>\n",
       "      <td>12</td>\n",
       "      <td>SMQ020</td>\n",
       "      <td>0.016722</td>\n",
       "    </tr>\n",
       "    <tr>\n",
       "      <td>13</td>\n",
       "      <td>PAQ620</td>\n",
       "      <td>0.016674</td>\n",
       "    </tr>\n",
       "    <tr>\n",
       "      <td>14</td>\n",
       "      <td>ALQ120Q</td>\n",
       "      <td>0.016087</td>\n",
       "    </tr>\n",
       "    <tr>\n",
       "      <td>15</td>\n",
       "      <td>DPQ080</td>\n",
       "      <td>0.015352</td>\n",
       "    </tr>\n",
       "    <tr>\n",
       "      <td>16</td>\n",
       "      <td>ALQ101</td>\n",
       "      <td>0.014016</td>\n",
       "    </tr>\n",
       "    <tr>\n",
       "      <td>17</td>\n",
       "      <td>PAQ605</td>\n",
       "      <td>0.011528</td>\n",
       "    </tr>\n",
       "    <tr>\n",
       "      <td>18</td>\n",
       "      <td>PAQ650</td>\n",
       "      <td>0.010228</td>\n",
       "    </tr>\n",
       "    <tr>\n",
       "      <td>19</td>\n",
       "      <td>DPQ040</td>\n",
       "      <td>0.008357</td>\n",
       "    </tr>\n",
       "    <tr>\n",
       "      <td>20</td>\n",
       "      <td>DPQ090</td>\n",
       "      <td>0.007611</td>\n",
       "    </tr>\n",
       "    <tr>\n",
       "      <td>21</td>\n",
       "      <td>DPQ010</td>\n",
       "      <td>0.005331</td>\n",
       "    </tr>\n",
       "    <tr>\n",
       "      <td>22</td>\n",
       "      <td>DPQ020</td>\n",
       "      <td>0.002815</td>\n",
       "    </tr>\n",
       "    <tr>\n",
       "      <td>23</td>\n",
       "      <td>DPQ070</td>\n",
       "      <td>0.002815</td>\n",
       "    </tr>\n",
       "    <tr>\n",
       "      <td>24</td>\n",
       "      <td>DPQ060</td>\n",
       "      <td>0.002500</td>\n",
       "    </tr>\n",
       "  </tbody>\n",
       "</table>\n",
       "</div>"
      ],
      "text/plain": [
       "     feature  importance\n",
       "0   BMXWAIST    0.179046\n",
       "1   RIDAGEYR    0.137470\n",
       "2     BMXBMI    0.123301\n",
       "3   INDFMPIR    0.118483\n",
       "4     BPQ020    0.084597\n",
       "5   RIDRETH3    0.053710\n",
       "6     DBQ700    0.046384\n",
       "7   DMDHREDU    0.043115\n",
       "8     DPQ050    0.023871\n",
       "9     DPQ030    0.023556\n",
       "10  RIAGENDR    0.018219\n",
       "11    PAQ665    0.018214\n",
       "12    SMQ020    0.016722\n",
       "13    PAQ620    0.016674\n",
       "14   ALQ120Q    0.016087\n",
       "15    DPQ080    0.015352\n",
       "16    ALQ101    0.014016\n",
       "17    PAQ605    0.011528\n",
       "18    PAQ650    0.010228\n",
       "19    DPQ040    0.008357\n",
       "20    DPQ090    0.007611\n",
       "21    DPQ010    0.005331\n",
       "22    DPQ020    0.002815\n",
       "23    DPQ070    0.002815\n",
       "24    DPQ060    0.002500"
      ]
     },
     "execution_count": 158,
     "metadata": {},
     "output_type": "execute_result"
    }
   ],
   "source": [
    "metrics = cart_def2(features1, labels1, 17)\n",
    "tmp = pd.DataFrame(features1.columns, columns=['feature'])\n",
    "tmp2 = pd.DataFrame(metrics[0], columns=['importance'])\n",
    "feature_importance = pd.concat([tmp, tmp2], axis=1)\n",
    "feature_importance = feature_importance.sort_values(by=['importance'], ascending=False)\n",
    "feature_importance.reset_index(drop=True)"
   ]
  },
  {
   "cell_type": "markdown",
   "metadata": {},
   "source": [
    "Although all the features are used, I see that the five most important features are waist circumference, age, BMI, ratio of income to poverty, and hypertension respectively. This comes as no surprise since there have been research and studies that indicate that those features have correlations to diabetes - I am glad that the NHANES data and my model backs it up.\n",
    "\n",
    "Looking at the novel depression features, most of the features are dead last in terms of contribution. However, there are two depression features (DPQ050 and DPQ030) that are the 7th and 8th most important feature in the model. The two depression features, DPQ050 and DPQ030, are whether people have poor appetite or have trouble sleeping respectively."
   ]
  },
  {
   "cell_type": "markdown",
   "metadata": {},
   "source": [
    "Next, let's take a look at the feature importance distribution for the oversampled CART tree with maximum depth of 3."
   ]
  },
  {
   "cell_type": "code",
   "execution_count": 152,
   "metadata": {},
   "outputs": [
    {
     "data": {
      "text/html": [
       "<div>\n",
       "<style scoped>\n",
       "    .dataframe tbody tr th:only-of-type {\n",
       "        vertical-align: middle;\n",
       "    }\n",
       "\n",
       "    .dataframe tbody tr th {\n",
       "        vertical-align: top;\n",
       "    }\n",
       "\n",
       "    .dataframe thead th {\n",
       "        text-align: right;\n",
       "    }\n",
       "</style>\n",
       "<table border=\"1\" class=\"dataframe\">\n",
       "  <thead>\n",
       "    <tr style=\"text-align: right;\">\n",
       "      <th></th>\n",
       "      <th>feature</th>\n",
       "      <th>importance</th>\n",
       "    </tr>\n",
       "  </thead>\n",
       "  <tbody>\n",
       "    <tr>\n",
       "      <td>0</td>\n",
       "      <td>BPQ020</td>\n",
       "      <td>0.398791</td>\n",
       "    </tr>\n",
       "    <tr>\n",
       "      <td>1</td>\n",
       "      <td>RIDAGEYR</td>\n",
       "      <td>0.369732</td>\n",
       "    </tr>\n",
       "    <tr>\n",
       "      <td>2</td>\n",
       "      <td>BMXWAIST</td>\n",
       "      <td>0.202779</td>\n",
       "    </tr>\n",
       "    <tr>\n",
       "      <td>3</td>\n",
       "      <td>INDFMPIR</td>\n",
       "      <td>0.006117</td>\n",
       "    </tr>\n",
       "    <tr>\n",
       "      <td>4</td>\n",
       "      <td>PAQ665</td>\n",
       "      <td>0.004822</td>\n",
       "    </tr>\n",
       "    <tr>\n",
       "      <td>5</td>\n",
       "      <td>DMDHREDU</td>\n",
       "      <td>0.004252</td>\n",
       "    </tr>\n",
       "    <tr>\n",
       "      <td>6</td>\n",
       "      <td>DBQ700</td>\n",
       "      <td>0.003610</td>\n",
       "    </tr>\n",
       "    <tr>\n",
       "      <td>7</td>\n",
       "      <td>BMXBMI</td>\n",
       "      <td>0.003610</td>\n",
       "    </tr>\n",
       "    <tr>\n",
       "      <td>8</td>\n",
       "      <td>RIAGENDR</td>\n",
       "      <td>0.002267</td>\n",
       "    </tr>\n",
       "    <tr>\n",
       "      <td>9</td>\n",
       "      <td>RIDRETH3</td>\n",
       "      <td>0.001653</td>\n",
       "    </tr>\n",
       "    <tr>\n",
       "      <td>10</td>\n",
       "      <td>DPQ060</td>\n",
       "      <td>0.000968</td>\n",
       "    </tr>\n",
       "    <tr>\n",
       "      <td>11</td>\n",
       "      <td>PAQ650</td>\n",
       "      <td>0.000405</td>\n",
       "    </tr>\n",
       "    <tr>\n",
       "      <td>12</td>\n",
       "      <td>DPQ050</td>\n",
       "      <td>0.000324</td>\n",
       "    </tr>\n",
       "    <tr>\n",
       "      <td>13</td>\n",
       "      <td>DPQ040</td>\n",
       "      <td>0.000245</td>\n",
       "    </tr>\n",
       "    <tr>\n",
       "      <td>14</td>\n",
       "      <td>PAQ605</td>\n",
       "      <td>0.000147</td>\n",
       "    </tr>\n",
       "    <tr>\n",
       "      <td>15</td>\n",
       "      <td>DPQ080</td>\n",
       "      <td>0.000104</td>\n",
       "    </tr>\n",
       "    <tr>\n",
       "      <td>16</td>\n",
       "      <td>ALQ120Q</td>\n",
       "      <td>0.000092</td>\n",
       "    </tr>\n",
       "    <tr>\n",
       "      <td>17</td>\n",
       "      <td>DPQ030</td>\n",
       "      <td>0.000028</td>\n",
       "    </tr>\n",
       "    <tr>\n",
       "      <td>18</td>\n",
       "      <td>DPQ010</td>\n",
       "      <td>0.000022</td>\n",
       "    </tr>\n",
       "    <tr>\n",
       "      <td>19</td>\n",
       "      <td>DPQ020</td>\n",
       "      <td>0.000019</td>\n",
       "    </tr>\n",
       "    <tr>\n",
       "      <td>20</td>\n",
       "      <td>SMQ020</td>\n",
       "      <td>0.000007</td>\n",
       "    </tr>\n",
       "    <tr>\n",
       "      <td>21</td>\n",
       "      <td>PAQ620</td>\n",
       "      <td>0.000007</td>\n",
       "    </tr>\n",
       "    <tr>\n",
       "      <td>22</td>\n",
       "      <td>ALQ101</td>\n",
       "      <td>0.000000</td>\n",
       "    </tr>\n",
       "    <tr>\n",
       "      <td>23</td>\n",
       "      <td>DPQ070</td>\n",
       "      <td>0.000000</td>\n",
       "    </tr>\n",
       "    <tr>\n",
       "      <td>24</td>\n",
       "      <td>DPQ090</td>\n",
       "      <td>0.000000</td>\n",
       "    </tr>\n",
       "  </tbody>\n",
       "</table>\n",
       "</div>"
      ],
      "text/plain": [
       "     feature  importance\n",
       "0     BPQ020    0.398791\n",
       "1   RIDAGEYR    0.369732\n",
       "2   BMXWAIST    0.202779\n",
       "3   INDFMPIR    0.006117\n",
       "4     PAQ665    0.004822\n",
       "5   DMDHREDU    0.004252\n",
       "6     DBQ700    0.003610\n",
       "7     BMXBMI    0.003610\n",
       "8   RIAGENDR    0.002267\n",
       "9   RIDRETH3    0.001653\n",
       "10    DPQ060    0.000968\n",
       "11    PAQ650    0.000405\n",
       "12    DPQ050    0.000324\n",
       "13    DPQ040    0.000245\n",
       "14    PAQ605    0.000147\n",
       "15    DPQ080    0.000104\n",
       "16   ALQ120Q    0.000092\n",
       "17    DPQ030    0.000028\n",
       "18    DPQ010    0.000022\n",
       "19    DPQ020    0.000019\n",
       "20    SMQ020    0.000007\n",
       "21    PAQ620    0.000007\n",
       "22    ALQ101    0.000000\n",
       "23    DPQ070    0.000000\n",
       "24    DPQ090    0.000000"
      ]
     },
     "execution_count": 152,
     "metadata": {},
     "output_type": "execute_result"
    }
   ],
   "source": [
    "metrics = cart_upsample2(features1, labels1, 3)\n",
    "tmp = pd.DataFrame(features1.columns, columns=['feature'])\n",
    "tmp2 = pd.DataFrame(metrics[0], columns=['importance'])\n",
    "feature_importance = pd.concat([tmp, tmp2], axis=1)\n",
    "feature_importance = feature_importance.sort_values(by=['importance'], ascending=False)\n",
    "feature_importance.reset_index(drop=True)"
   ]
  },
  {
   "cell_type": "markdown",
   "metadata": {},
   "source": [
    "For the oversampled CART tree, only 22 of the 25 features are used. Since the maximum depth is three for the oversampled tree, the feature importance seems to be top heavy where the top three features, hypertension, age, and waist circumference, cover about 97% of importance. Looking at the novel depression features, there are four features that are 10-15th most important out of all the features used in the decision tree. Due to the top heavy distribution, the combination of these features don't even make up of 1% of importance in the model."
   ]
  },
  {
   "cell_type": "markdown",
   "metadata": {},
   "source": [
    "Finally, let's take a look at the feature importance distribution for the undersampled CART tree with maximum depth of 3."
   ]
  },
  {
   "cell_type": "code",
   "execution_count": 154,
   "metadata": {},
   "outputs": [
    {
     "data": {
      "text/html": [
       "<div>\n",
       "<style scoped>\n",
       "    .dataframe tbody tr th:only-of-type {\n",
       "        vertical-align: middle;\n",
       "    }\n",
       "\n",
       "    .dataframe tbody tr th {\n",
       "        vertical-align: top;\n",
       "    }\n",
       "\n",
       "    .dataframe thead th {\n",
       "        text-align: right;\n",
       "    }\n",
       "</style>\n",
       "<table border=\"1\" class=\"dataframe\">\n",
       "  <thead>\n",
       "    <tr style=\"text-align: right;\">\n",
       "      <th></th>\n",
       "      <th>feature</th>\n",
       "      <th>importance</th>\n",
       "    </tr>\n",
       "  </thead>\n",
       "  <tbody>\n",
       "    <tr>\n",
       "      <td>0</td>\n",
       "      <td>RIDAGEYR</td>\n",
       "      <td>0.400089</td>\n",
       "    </tr>\n",
       "    <tr>\n",
       "      <td>1</td>\n",
       "      <td>BPQ020</td>\n",
       "      <td>0.325356</td>\n",
       "    </tr>\n",
       "    <tr>\n",
       "      <td>2</td>\n",
       "      <td>BMXWAIST</td>\n",
       "      <td>0.214962</td>\n",
       "    </tr>\n",
       "    <tr>\n",
       "      <td>3</td>\n",
       "      <td>INDFMPIR</td>\n",
       "      <td>0.012470</td>\n",
       "    </tr>\n",
       "    <tr>\n",
       "      <td>4</td>\n",
       "      <td>BMXBMI</td>\n",
       "      <td>0.011664</td>\n",
       "    </tr>\n",
       "    <tr>\n",
       "      <td>5</td>\n",
       "      <td>DMDHREDU</td>\n",
       "      <td>0.007308</td>\n",
       "    </tr>\n",
       "    <tr>\n",
       "      <td>6</td>\n",
       "      <td>DBQ700</td>\n",
       "      <td>0.006095</td>\n",
       "    </tr>\n",
       "    <tr>\n",
       "      <td>7</td>\n",
       "      <td>PAQ665</td>\n",
       "      <td>0.005445</td>\n",
       "    </tr>\n",
       "    <tr>\n",
       "      <td>8</td>\n",
       "      <td>RIDRETH3</td>\n",
       "      <td>0.005099</td>\n",
       "    </tr>\n",
       "    <tr>\n",
       "      <td>9</td>\n",
       "      <td>RIAGENDR</td>\n",
       "      <td>0.003485</td>\n",
       "    </tr>\n",
       "    <tr>\n",
       "      <td>10</td>\n",
       "      <td>PAQ650</td>\n",
       "      <td>0.001803</td>\n",
       "    </tr>\n",
       "    <tr>\n",
       "      <td>11</td>\n",
       "      <td>DPQ050</td>\n",
       "      <td>0.001271</td>\n",
       "    </tr>\n",
       "    <tr>\n",
       "      <td>12</td>\n",
       "      <td>DPQ060</td>\n",
       "      <td>0.000970</td>\n",
       "    </tr>\n",
       "    <tr>\n",
       "      <td>13</td>\n",
       "      <td>PAQ620</td>\n",
       "      <td>0.000734</td>\n",
       "    </tr>\n",
       "    <tr>\n",
       "      <td>14</td>\n",
       "      <td>DPQ040</td>\n",
       "      <td>0.000658</td>\n",
       "    </tr>\n",
       "    <tr>\n",
       "      <td>15</td>\n",
       "      <td>DPQ080</td>\n",
       "      <td>0.000523</td>\n",
       "    </tr>\n",
       "    <tr>\n",
       "      <td>16</td>\n",
       "      <td>DPQ020</td>\n",
       "      <td>0.000465</td>\n",
       "    </tr>\n",
       "    <tr>\n",
       "      <td>17</td>\n",
       "      <td>DPQ030</td>\n",
       "      <td>0.000402</td>\n",
       "    </tr>\n",
       "    <tr>\n",
       "      <td>18</td>\n",
       "      <td>DPQ070</td>\n",
       "      <td>0.000355</td>\n",
       "    </tr>\n",
       "    <tr>\n",
       "      <td>19</td>\n",
       "      <td>ALQ120Q</td>\n",
       "      <td>0.000350</td>\n",
       "    </tr>\n",
       "    <tr>\n",
       "      <td>20</td>\n",
       "      <td>PAQ605</td>\n",
       "      <td>0.000202</td>\n",
       "    </tr>\n",
       "    <tr>\n",
       "      <td>21</td>\n",
       "      <td>ALQ101</td>\n",
       "      <td>0.000109</td>\n",
       "    </tr>\n",
       "    <tr>\n",
       "      <td>22</td>\n",
       "      <td>SMQ020</td>\n",
       "      <td>0.000100</td>\n",
       "    </tr>\n",
       "    <tr>\n",
       "      <td>23</td>\n",
       "      <td>DPQ010</td>\n",
       "      <td>0.000058</td>\n",
       "    </tr>\n",
       "    <tr>\n",
       "      <td>24</td>\n",
       "      <td>DPQ090</td>\n",
       "      <td>0.000027</td>\n",
       "    </tr>\n",
       "  </tbody>\n",
       "</table>\n",
       "</div>"
      ],
      "text/plain": [
       "     feature  importance\n",
       "0   RIDAGEYR    0.400089\n",
       "1     BPQ020    0.325356\n",
       "2   BMXWAIST    0.214962\n",
       "3   INDFMPIR    0.012470\n",
       "4     BMXBMI    0.011664\n",
       "5   DMDHREDU    0.007308\n",
       "6     DBQ700    0.006095\n",
       "7     PAQ665    0.005445\n",
       "8   RIDRETH3    0.005099\n",
       "9   RIAGENDR    0.003485\n",
       "10    PAQ650    0.001803\n",
       "11    DPQ050    0.001271\n",
       "12    DPQ060    0.000970\n",
       "13    PAQ620    0.000734\n",
       "14    DPQ040    0.000658\n",
       "15    DPQ080    0.000523\n",
       "16    DPQ020    0.000465\n",
       "17    DPQ030    0.000402\n",
       "18    DPQ070    0.000355\n",
       "19   ALQ120Q    0.000350\n",
       "20    PAQ605    0.000202\n",
       "21    ALQ101    0.000109\n",
       "22    SMQ020    0.000100\n",
       "23    DPQ010    0.000058\n",
       "24    DPQ090    0.000027"
      ]
     },
     "execution_count": 154,
     "metadata": {},
     "output_type": "execute_result"
    }
   ],
   "source": [
    "metrics = cart_downsample2(features1, labels1, 3)\n",
    "tmp = pd.DataFrame(features1.columns, columns=['feature'])\n",
    "tmp2 = pd.DataFrame(metrics[0], columns=['importance'])\n",
    "feature_importance = pd.concat([tmp, tmp2], axis=1)\n",
    "feature_importance = feature_importance.sort_values(by=['importance'], ascending=False)\n",
    "feature_importance.reset_index(drop=True)"
   ]
  },
  {
   "cell_type": "markdown",
   "metadata": {},
   "source": [
    "For the undersampled CART tree, all 25 features are once again used. Since the maximum depth is three for the undersampled tree, we once again see that the feature importance are top heavy. The top three features, age, hypertension, and waist circumference, cover about 93% of importance. Looking at the novel depression features, they are once again middle of the pack and outside of the top ten most important features. Unfortunately due to the top heavy distribution, the combination of these features don't even make up of 1% of importance in the model.\n",
    "\n",
    "Overall, it seems that the novel depression features are not as important as the proven features such as hypertension, age, waist circumference, BMI, etc. However, as seen in the default model, there are two depression features that were 7th and 8th most importance in the model proving that the features can be important. Unfortunately, for the oversample and undersample CART trees, the maximum depth of 3 really forces the feature distribution to be very top heavy. Keep in mind that this does not mean that the other features are not important when it comes to predicting diabetes but that the model is limited by a maximum depth. Interestingly enough, note that in the oversampled and undersampled trees, some of the depression features are more important than some of the physical activity, alcohol and smoking variables."
   ]
  },
  {
   "cell_type": "markdown",
   "metadata": {},
   "source": [
    "**Final Thoughts:** Without using any invasive features that measure one's blood glucose or glycohemoglobin levels, building and tuning a CART tree (undersampled) with a recall of 75% and accuracy of 67% isn't too bad. Next, let's try to include variables discovered from invasive procedures to see if we can find a more accurate model."
   ]
  },
  {
   "cell_type": "markdown",
   "metadata": {},
   "source": [
    "# Invasive Model"
   ]
  },
  {
   "cell_type": "markdown",
   "metadata": {},
   "source": [
    "Since my original goal is to develop a non-invasive model, the bulk of the project resides in that part of the project. Since I did literature research for some of the invasive features, I will build an invasive model and see if there are any improvements."
   ]
  },
  {
   "cell_type": "markdown",
   "metadata": {},
   "source": [
    "## Extract Features"
   ]
  },
  {
   "cell_type": "markdown",
   "metadata": {},
   "source": [
    "### A1C1 Levels - LBXGH"
   ]
  },
  {
   "cell_type": "code",
   "execution_count": 166,
   "metadata": {},
   "outputs": [],
   "source": [
    "glycohemoglobin_raw = pd.read_sas('Data/Laboratory/GHB_I.XPT')"
   ]
  },
  {
   "cell_type": "code",
   "execution_count": 167,
   "metadata": {
    "scrolled": true
   },
   "outputs": [
    {
     "data": {
      "text/html": [
       "<div>\n",
       "<style scoped>\n",
       "    .dataframe tbody tr th:only-of-type {\n",
       "        vertical-align: middle;\n",
       "    }\n",
       "\n",
       "    .dataframe tbody tr th {\n",
       "        vertical-align: top;\n",
       "    }\n",
       "\n",
       "    .dataframe thead th {\n",
       "        text-align: right;\n",
       "    }\n",
       "</style>\n",
       "<table border=\"1\" class=\"dataframe\">\n",
       "  <thead>\n",
       "    <tr style=\"text-align: right;\">\n",
       "      <th></th>\n",
       "      <th>SEQN</th>\n",
       "      <th>LBXGH</th>\n",
       "    </tr>\n",
       "  </thead>\n",
       "  <tbody>\n",
       "    <tr>\n",
       "      <td>0</td>\n",
       "      <td>83732.0</td>\n",
       "      <td>7.0</td>\n",
       "    </tr>\n",
       "    <tr>\n",
       "      <td>1</td>\n",
       "      <td>83733.0</td>\n",
       "      <td>5.5</td>\n",
       "    </tr>\n",
       "    <tr>\n",
       "      <td>2</td>\n",
       "      <td>83734.0</td>\n",
       "      <td>5.8</td>\n",
       "    </tr>\n",
       "    <tr>\n",
       "      <td>3</td>\n",
       "      <td>83735.0</td>\n",
       "      <td>5.6</td>\n",
       "    </tr>\n",
       "    <tr>\n",
       "      <td>4</td>\n",
       "      <td>83736.0</td>\n",
       "      <td>5.6</td>\n",
       "    </tr>\n",
       "  </tbody>\n",
       "</table>\n",
       "</div>"
      ],
      "text/plain": [
       "      SEQN  LBXGH\n",
       "0  83732.0    7.0\n",
       "1  83733.0    5.5\n",
       "2  83734.0    5.8\n",
       "3  83735.0    5.6\n",
       "4  83736.0    5.6"
      ]
     },
     "execution_count": 167,
     "metadata": {},
     "output_type": "execute_result"
    }
   ],
   "source": [
    "glycohemoglobin_raw.head()"
   ]
  },
  {
   "cell_type": "markdown",
   "metadata": {},
   "source": [
    "### Blood Pressure - bloodp_sys\t& bloodp_dia"
   ]
  },
  {
   "cell_type": "code",
   "execution_count": 168,
   "metadata": {},
   "outputs": [],
   "source": [
    "blood_pressure_raw = pd.read_sas('Data/Examination/BPX_I.XPT')"
   ]
  },
  {
   "cell_type": "code",
   "execution_count": 169,
   "metadata": {},
   "outputs": [
    {
     "data": {
      "text/html": [
       "<div>\n",
       "<style scoped>\n",
       "    .dataframe tbody tr th:only-of-type {\n",
       "        vertical-align: middle;\n",
       "    }\n",
       "\n",
       "    .dataframe tbody tr th {\n",
       "        vertical-align: top;\n",
       "    }\n",
       "\n",
       "    .dataframe thead th {\n",
       "        text-align: right;\n",
       "    }\n",
       "</style>\n",
       "<table border=\"1\" class=\"dataframe\">\n",
       "  <thead>\n",
       "    <tr style=\"text-align: right;\">\n",
       "      <th></th>\n",
       "      <th>SEQN</th>\n",
       "      <th>BPXSY1</th>\n",
       "      <th>BPXSY2</th>\n",
       "      <th>BPXSY3</th>\n",
       "      <th>BPXSY4</th>\n",
       "      <th>bloodp_sys</th>\n",
       "    </tr>\n",
       "  </thead>\n",
       "  <tbody>\n",
       "    <tr>\n",
       "      <td>0</td>\n",
       "      <td>83732.0</td>\n",
       "      <td>128.0</td>\n",
       "      <td>124.0</td>\n",
       "      <td>116.0</td>\n",
       "      <td>0.0</td>\n",
       "      <td>122.666667</td>\n",
       "    </tr>\n",
       "    <tr>\n",
       "      <td>1</td>\n",
       "      <td>83733.0</td>\n",
       "      <td>146.0</td>\n",
       "      <td>140.0</td>\n",
       "      <td>134.0</td>\n",
       "      <td>0.0</td>\n",
       "      <td>140.000000</td>\n",
       "    </tr>\n",
       "    <tr>\n",
       "      <td>2</td>\n",
       "      <td>83734.0</td>\n",
       "      <td>138.0</td>\n",
       "      <td>132.0</td>\n",
       "      <td>136.0</td>\n",
       "      <td>0.0</td>\n",
       "      <td>135.333333</td>\n",
       "    </tr>\n",
       "    <tr>\n",
       "      <td>3</td>\n",
       "      <td>83735.0</td>\n",
       "      <td>132.0</td>\n",
       "      <td>134.0</td>\n",
       "      <td>136.0</td>\n",
       "      <td>0.0</td>\n",
       "      <td>134.000000</td>\n",
       "    </tr>\n",
       "    <tr>\n",
       "      <td>4</td>\n",
       "      <td>83736.0</td>\n",
       "      <td>100.0</td>\n",
       "      <td>114.0</td>\n",
       "      <td>98.0</td>\n",
       "      <td>0.0</td>\n",
       "      <td>104.000000</td>\n",
       "    </tr>\n",
       "  </tbody>\n",
       "</table>\n",
       "</div>"
      ],
      "text/plain": [
       "      SEQN  BPXSY1  BPXSY2  BPXSY3  BPXSY4  bloodp_sys\n",
       "0  83732.0   128.0   124.0   116.0     0.0  122.666667\n",
       "1  83733.0   146.0   140.0   134.0     0.0  140.000000\n",
       "2  83734.0   138.0   132.0   136.0     0.0  135.333333\n",
       "3  83735.0   132.0   134.0   136.0     0.0  134.000000\n",
       "4  83736.0   100.0   114.0    98.0     0.0  104.000000"
      ]
     },
     "execution_count": 169,
     "metadata": {},
     "output_type": "execute_result"
    }
   ],
   "source": [
    "# Systolic blood pressure\n",
    "bp_sys = blood_pressure_raw[['SEQN', 'BPXSY1', 'BPXSY2', 'BPXSY3', 'BPXSY4']]\n",
    "bp_sys = bp_sys.fillna(0)\n",
    "bp_sys = bp_sys.assign(bloodp_sys = lambda df: (df.BPXSY1 + df.BPXSY2 + df.BPXSY3 + df.BPXSY4) / 3)\n",
    "bp_sys = bp_sys[bp_sys.bloodp_sys != 0]\n",
    "bp_sys.head()"
   ]
  },
  {
   "cell_type": "code",
   "execution_count": 170,
   "metadata": {
    "scrolled": true
   },
   "outputs": [
    {
     "data": {
      "text/html": [
       "<div>\n",
       "<style scoped>\n",
       "    .dataframe tbody tr th:only-of-type {\n",
       "        vertical-align: middle;\n",
       "    }\n",
       "\n",
       "    .dataframe tbody tr th {\n",
       "        vertical-align: top;\n",
       "    }\n",
       "\n",
       "    .dataframe thead th {\n",
       "        text-align: right;\n",
       "    }\n",
       "</style>\n",
       "<table border=\"1\" class=\"dataframe\">\n",
       "  <thead>\n",
       "    <tr style=\"text-align: right;\">\n",
       "      <th></th>\n",
       "      <th>SEQN</th>\n",
       "      <th>BPXDI1</th>\n",
       "      <th>BPXDI2</th>\n",
       "      <th>BPXDI3</th>\n",
       "      <th>BPXDI4</th>\n",
       "      <th>bloodp_dia</th>\n",
       "    </tr>\n",
       "  </thead>\n",
       "  <tbody>\n",
       "    <tr>\n",
       "      <td>0</td>\n",
       "      <td>83732.0</td>\n",
       "      <td>70.0</td>\n",
       "      <td>64.0</td>\n",
       "      <td>62.0</td>\n",
       "      <td>0.0</td>\n",
       "      <td>65.333333</td>\n",
       "    </tr>\n",
       "    <tr>\n",
       "      <td>1</td>\n",
       "      <td>83733.0</td>\n",
       "      <td>88.0</td>\n",
       "      <td>88.0</td>\n",
       "      <td>82.0</td>\n",
       "      <td>0.0</td>\n",
       "      <td>86.000000</td>\n",
       "    </tr>\n",
       "    <tr>\n",
       "      <td>2</td>\n",
       "      <td>83734.0</td>\n",
       "      <td>46.0</td>\n",
       "      <td>44.0</td>\n",
       "      <td>46.0</td>\n",
       "      <td>0.0</td>\n",
       "      <td>45.333333</td>\n",
       "    </tr>\n",
       "    <tr>\n",
       "      <td>3</td>\n",
       "      <td>83735.0</td>\n",
       "      <td>72.0</td>\n",
       "      <td>68.0</td>\n",
       "      <td>70.0</td>\n",
       "      <td>0.0</td>\n",
       "      <td>70.000000</td>\n",
       "    </tr>\n",
       "    <tr>\n",
       "      <td>4</td>\n",
       "      <td>83736.0</td>\n",
       "      <td>70.0</td>\n",
       "      <td>54.0</td>\n",
       "      <td>56.0</td>\n",
       "      <td>0.0</td>\n",
       "      <td>60.000000</td>\n",
       "    </tr>\n",
       "  </tbody>\n",
       "</table>\n",
       "</div>"
      ],
      "text/plain": [
       "      SEQN  BPXDI1  BPXDI2  BPXDI3  BPXDI4  bloodp_dia\n",
       "0  83732.0    70.0    64.0    62.0     0.0   65.333333\n",
       "1  83733.0    88.0    88.0    82.0     0.0   86.000000\n",
       "2  83734.0    46.0    44.0    46.0     0.0   45.333333\n",
       "3  83735.0    72.0    68.0    70.0     0.0   70.000000\n",
       "4  83736.0    70.0    54.0    56.0     0.0   60.000000"
      ]
     },
     "execution_count": 170,
     "metadata": {},
     "output_type": "execute_result"
    }
   ],
   "source": [
    "# Diastolic blood pressure\n",
    "bp_dia = blood_pressure_raw[['SEQN', 'BPXDI1', 'BPXDI2', 'BPXDI3', 'BPXDI4']]\n",
    "bp_dia = bp_dia.fillna(0)\n",
    "bp_dia = bp_dia.assign(bloodp_dia = lambda df: (df.BPXDI1 + df.BPXDI2 + df.BPXDI3 + df.BPXDI4) / 3)\n",
    "bp_dia = bp_dia[bp_dia.bloodp_dia != 0]\n",
    "bp_dia.head()"
   ]
  },
  {
   "cell_type": "code",
   "execution_count": 171,
   "metadata": {},
   "outputs": [
    {
     "data": {
      "text/html": [
       "<div>\n",
       "<style scoped>\n",
       "    .dataframe tbody tr th:only-of-type {\n",
       "        vertical-align: middle;\n",
       "    }\n",
       "\n",
       "    .dataframe tbody tr th {\n",
       "        vertical-align: top;\n",
       "    }\n",
       "\n",
       "    .dataframe thead th {\n",
       "        text-align: right;\n",
       "    }\n",
       "</style>\n",
       "<table border=\"1\" class=\"dataframe\">\n",
       "  <thead>\n",
       "    <tr style=\"text-align: right;\">\n",
       "      <th></th>\n",
       "      <th>SEQN</th>\n",
       "      <th>bloodp_sys</th>\n",
       "      <th>bloodp_dia</th>\n",
       "    </tr>\n",
       "  </thead>\n",
       "  <tbody>\n",
       "    <tr>\n",
       "      <td>0</td>\n",
       "      <td>83732.0</td>\n",
       "      <td>122.666667</td>\n",
       "      <td>65.333333</td>\n",
       "    </tr>\n",
       "    <tr>\n",
       "      <td>1</td>\n",
       "      <td>83733.0</td>\n",
       "      <td>140.000000</td>\n",
       "      <td>86.000000</td>\n",
       "    </tr>\n",
       "    <tr>\n",
       "      <td>2</td>\n",
       "      <td>83734.0</td>\n",
       "      <td>135.333333</td>\n",
       "      <td>45.333333</td>\n",
       "    </tr>\n",
       "    <tr>\n",
       "      <td>3</td>\n",
       "      <td>83735.0</td>\n",
       "      <td>134.000000</td>\n",
       "      <td>70.000000</td>\n",
       "    </tr>\n",
       "    <tr>\n",
       "      <td>4</td>\n",
       "      <td>83736.0</td>\n",
       "      <td>104.000000</td>\n",
       "      <td>60.000000</td>\n",
       "    </tr>\n",
       "  </tbody>\n",
       "</table>\n",
       "</div>"
      ],
      "text/plain": [
       "      SEQN  bloodp_sys  bloodp_dia\n",
       "0  83732.0  122.666667   65.333333\n",
       "1  83733.0  140.000000   86.000000\n",
       "2  83734.0  135.333333   45.333333\n",
       "3  83735.0  134.000000   70.000000\n",
       "4  83736.0  104.000000   60.000000"
      ]
     },
     "execution_count": 171,
     "metadata": {},
     "output_type": "execute_result"
    }
   ],
   "source": [
    "blood_pressure = pd.merge(bp_sys, bp_dia, how='inner', on='SEQN')\n",
    "blood_pressure = blood_pressure[['SEQN', 'bloodp_sys', 'bloodp_dia']]\n",
    "blood_pressure.head()"
   ]
  },
  {
   "cell_type": "markdown",
   "metadata": {},
   "source": [
    "### Fasting Glucose - LBXGLU"
   ]
  },
  {
   "cell_type": "code",
   "execution_count": 172,
   "metadata": {},
   "outputs": [],
   "source": [
    "gluc_raw = pd.read_sas('Data/Laboratory/GLU_I.XPT')"
   ]
  },
  {
   "cell_type": "code",
   "execution_count": 173,
   "metadata": {},
   "outputs": [
    {
     "data": {
      "text/html": [
       "<div>\n",
       "<style scoped>\n",
       "    .dataframe tbody tr th:only-of-type {\n",
       "        vertical-align: middle;\n",
       "    }\n",
       "\n",
       "    .dataframe tbody tr th {\n",
       "        vertical-align: top;\n",
       "    }\n",
       "\n",
       "    .dataframe thead th {\n",
       "        text-align: right;\n",
       "    }\n",
       "</style>\n",
       "<table border=\"1\" class=\"dataframe\">\n",
       "  <thead>\n",
       "    <tr style=\"text-align: right;\">\n",
       "      <th></th>\n",
       "      <th>SEQN</th>\n",
       "      <th>LBXGLU</th>\n",
       "    </tr>\n",
       "  </thead>\n",
       "  <tbody>\n",
       "    <tr>\n",
       "      <td>0</td>\n",
       "      <td>83733.0</td>\n",
       "      <td>101.0</td>\n",
       "    </tr>\n",
       "    <tr>\n",
       "      <td>1</td>\n",
       "      <td>83734.0</td>\n",
       "      <td>84.0</td>\n",
       "    </tr>\n",
       "    <tr>\n",
       "      <td>2</td>\n",
       "      <td>83736.0</td>\n",
       "      <td>84.0</td>\n",
       "    </tr>\n",
       "    <tr>\n",
       "      <td>3</td>\n",
       "      <td>83737.0</td>\n",
       "      <td>107.0</td>\n",
       "    </tr>\n",
       "    <tr>\n",
       "      <td>4</td>\n",
       "      <td>83741.0</td>\n",
       "      <td>95.0</td>\n",
       "    </tr>\n",
       "  </tbody>\n",
       "</table>\n",
       "</div>"
      ],
      "text/plain": [
       "      SEQN  LBXGLU\n",
       "0  83733.0   101.0\n",
       "1  83734.0    84.0\n",
       "2  83736.0    84.0\n",
       "3  83737.0   107.0\n",
       "4  83741.0    95.0"
      ]
     },
     "execution_count": 173,
     "metadata": {},
     "output_type": "execute_result"
    }
   ],
   "source": [
    "gluc = gluc_raw[['SEQN', 'LBXGLU']]\n",
    "gluc.head()"
   ]
  },
  {
   "cell_type": "markdown",
   "metadata": {},
   "source": [
    "### Creatinine - URXUCR"
   ]
  },
  {
   "cell_type": "code",
   "execution_count": 174,
   "metadata": {},
   "outputs": [],
   "source": [
    "creatinine_raw = pd.read_sas('Data/Laboratory/ALB_CR_I.XPT')"
   ]
  },
  {
   "cell_type": "code",
   "execution_count": 175,
   "metadata": {},
   "outputs": [
    {
     "data": {
      "text/html": [
       "<div>\n",
       "<style scoped>\n",
       "    .dataframe tbody tr th:only-of-type {\n",
       "        vertical-align: middle;\n",
       "    }\n",
       "\n",
       "    .dataframe tbody tr th {\n",
       "        vertical-align: top;\n",
       "    }\n",
       "\n",
       "    .dataframe thead th {\n",
       "        text-align: right;\n",
       "    }\n",
       "</style>\n",
       "<table border=\"1\" class=\"dataframe\">\n",
       "  <thead>\n",
       "    <tr style=\"text-align: right;\">\n",
       "      <th></th>\n",
       "      <th>SEQN</th>\n",
       "      <th>URXUCR</th>\n",
       "    </tr>\n",
       "  </thead>\n",
       "  <tbody>\n",
       "    <tr>\n",
       "      <td>0</td>\n",
       "      <td>83732.0</td>\n",
       "      <td>41.0</td>\n",
       "    </tr>\n",
       "    <tr>\n",
       "      <td>1</td>\n",
       "      <td>83733.0</td>\n",
       "      <td>181.0</td>\n",
       "    </tr>\n",
       "    <tr>\n",
       "      <td>2</td>\n",
       "      <td>83734.0</td>\n",
       "      <td>70.0</td>\n",
       "    </tr>\n",
       "    <tr>\n",
       "      <td>3</td>\n",
       "      <td>83735.0</td>\n",
       "      <td>102.0</td>\n",
       "    </tr>\n",
       "    <tr>\n",
       "      <td>4</td>\n",
       "      <td>83736.0</td>\n",
       "      <td>315.0</td>\n",
       "    </tr>\n",
       "  </tbody>\n",
       "</table>\n",
       "</div>"
      ],
      "text/plain": [
       "      SEQN  URXUCR\n",
       "0  83732.0    41.0\n",
       "1  83733.0   181.0\n",
       "2  83734.0    70.0\n",
       "3  83735.0   102.0\n",
       "4  83736.0   315.0"
      ]
     },
     "execution_count": 175,
     "metadata": {},
     "output_type": "execute_result"
    }
   ],
   "source": [
    "creatinine = creatinine_raw[['SEQN', 'URXUCR']]\n",
    "creatinine.head()"
   ]
  },
  {
   "cell_type": "markdown",
   "metadata": {},
   "source": [
    "### HDL - LBHDD"
   ]
  },
  {
   "cell_type": "code",
   "execution_count": 176,
   "metadata": {},
   "outputs": [],
   "source": [
    "hdl_raw = pd.read_sas('Data/Laboratory/HDL_I.XPT')"
   ]
  },
  {
   "cell_type": "code",
   "execution_count": 177,
   "metadata": {},
   "outputs": [
    {
     "data": {
      "text/html": [
       "<div>\n",
       "<style scoped>\n",
       "    .dataframe tbody tr th:only-of-type {\n",
       "        vertical-align: middle;\n",
       "    }\n",
       "\n",
       "    .dataframe tbody tr th {\n",
       "        vertical-align: top;\n",
       "    }\n",
       "\n",
       "    .dataframe thead th {\n",
       "        text-align: right;\n",
       "    }\n",
       "</style>\n",
       "<table border=\"1\" class=\"dataframe\">\n",
       "  <thead>\n",
       "    <tr style=\"text-align: right;\">\n",
       "      <th></th>\n",
       "      <th>SEQN</th>\n",
       "      <th>LBDHDD</th>\n",
       "    </tr>\n",
       "  </thead>\n",
       "  <tbody>\n",
       "    <tr>\n",
       "      <td>0</td>\n",
       "      <td>83732.0</td>\n",
       "      <td>46.0</td>\n",
       "    </tr>\n",
       "    <tr>\n",
       "      <td>1</td>\n",
       "      <td>83733.0</td>\n",
       "      <td>63.0</td>\n",
       "    </tr>\n",
       "    <tr>\n",
       "      <td>2</td>\n",
       "      <td>83734.0</td>\n",
       "      <td>30.0</td>\n",
       "    </tr>\n",
       "    <tr>\n",
       "      <td>3</td>\n",
       "      <td>83735.0</td>\n",
       "      <td>61.0</td>\n",
       "    </tr>\n",
       "    <tr>\n",
       "      <td>4</td>\n",
       "      <td>83736.0</td>\n",
       "      <td>53.0</td>\n",
       "    </tr>\n",
       "  </tbody>\n",
       "</table>\n",
       "</div>"
      ],
      "text/plain": [
       "      SEQN  LBDHDD\n",
       "0  83732.0    46.0\n",
       "1  83733.0    63.0\n",
       "2  83734.0    30.0\n",
       "3  83735.0    61.0\n",
       "4  83736.0    53.0"
      ]
     },
     "execution_count": 177,
     "metadata": {},
     "output_type": "execute_result"
    }
   ],
   "source": [
    "hdl = hdl_raw[['SEQN', 'LBDHDD']]\n",
    "hdl.head()"
   ]
  },
  {
   "cell_type": "markdown",
   "metadata": {},
   "source": [
    "### Triglycerides - LBXTR"
   ]
  },
  {
   "cell_type": "code",
   "execution_count": 178,
   "metadata": {},
   "outputs": [],
   "source": [
    "trigly_raw = pd.read_sas('Data/Laboratory/TRIGLY_I.XPT')"
   ]
  },
  {
   "cell_type": "code",
   "execution_count": 179,
   "metadata": {},
   "outputs": [
    {
     "data": {
      "text/html": [
       "<div>\n",
       "<style scoped>\n",
       "    .dataframe tbody tr th:only-of-type {\n",
       "        vertical-align: middle;\n",
       "    }\n",
       "\n",
       "    .dataframe tbody tr th {\n",
       "        vertical-align: top;\n",
       "    }\n",
       "\n",
       "    .dataframe thead th {\n",
       "        text-align: right;\n",
       "    }\n",
       "</style>\n",
       "<table border=\"1\" class=\"dataframe\">\n",
       "  <thead>\n",
       "    <tr style=\"text-align: right;\">\n",
       "      <th></th>\n",
       "      <th>SEQN</th>\n",
       "      <th>LBXTR</th>\n",
       "    </tr>\n",
       "  </thead>\n",
       "  <tbody>\n",
       "    <tr>\n",
       "      <td>0</td>\n",
       "      <td>83733.0</td>\n",
       "      <td>147.0</td>\n",
       "    </tr>\n",
       "    <tr>\n",
       "      <td>1</td>\n",
       "      <td>83734.0</td>\n",
       "      <td>269.0</td>\n",
       "    </tr>\n",
       "    <tr>\n",
       "      <td>2</td>\n",
       "      <td>83736.0</td>\n",
       "      <td>47.0</td>\n",
       "    </tr>\n",
       "    <tr>\n",
       "      <td>3</td>\n",
       "      <td>83737.0</td>\n",
       "      <td>46.0</td>\n",
       "    </tr>\n",
       "    <tr>\n",
       "      <td>4</td>\n",
       "      <td>83741.0</td>\n",
       "      <td>68.0</td>\n",
       "    </tr>\n",
       "  </tbody>\n",
       "</table>\n",
       "</div>"
      ],
      "text/plain": [
       "      SEQN  LBXTR\n",
       "0  83733.0  147.0\n",
       "1  83734.0  269.0\n",
       "2  83736.0   47.0\n",
       "3  83737.0   46.0\n",
       "4  83741.0   68.0"
      ]
     },
     "execution_count": 179,
     "metadata": {},
     "output_type": "execute_result"
    }
   ],
   "source": [
    "trigly = trigly_raw[['SEQN', 'LBXTR']]\n",
    "trigly.head()"
   ]
  },
  {
   "cell_type": "markdown",
   "metadata": {},
   "source": [
    "### Serum Selenium - LBDSSESI"
   ]
  },
  {
   "cell_type": "code",
   "execution_count": 180,
   "metadata": {},
   "outputs": [],
   "source": [
    "selenium_raw = pd.read_sas('Data/Laboratory/CUSEZN_I.XPT')"
   ]
  },
  {
   "cell_type": "code",
   "execution_count": 181,
   "metadata": {},
   "outputs": [
    {
     "data": {
      "text/html": [
       "<div>\n",
       "<style scoped>\n",
       "    .dataframe tbody tr th:only-of-type {\n",
       "        vertical-align: middle;\n",
       "    }\n",
       "\n",
       "    .dataframe tbody tr th {\n",
       "        vertical-align: top;\n",
       "    }\n",
       "\n",
       "    .dataframe thead th {\n",
       "        text-align: right;\n",
       "    }\n",
       "</style>\n",
       "<table border=\"1\" class=\"dataframe\">\n",
       "  <thead>\n",
       "    <tr style=\"text-align: right;\">\n",
       "      <th></th>\n",
       "      <th>SEQN</th>\n",
       "      <th>LBDSSESI</th>\n",
       "    </tr>\n",
       "  </thead>\n",
       "  <tbody>\n",
       "    <tr>\n",
       "      <td>0</td>\n",
       "      <td>83732.0</td>\n",
       "      <td>1.79</td>\n",
       "    </tr>\n",
       "    <tr>\n",
       "      <td>1</td>\n",
       "      <td>83733.0</td>\n",
       "      <td>1.66</td>\n",
       "    </tr>\n",
       "    <tr>\n",
       "      <td>2</td>\n",
       "      <td>83734.0</td>\n",
       "      <td>1.61</td>\n",
       "    </tr>\n",
       "    <tr>\n",
       "      <td>3</td>\n",
       "      <td>83738.0</td>\n",
       "      <td>1.40</td>\n",
       "    </tr>\n",
       "    <tr>\n",
       "      <td>4</td>\n",
       "      <td>83741.0</td>\n",
       "      <td>1.52</td>\n",
       "    </tr>\n",
       "  </tbody>\n",
       "</table>\n",
       "</div>"
      ],
      "text/plain": [
       "      SEQN  LBDSSESI\n",
       "0  83732.0      1.79\n",
       "1  83733.0      1.66\n",
       "2  83734.0      1.61\n",
       "3  83738.0      1.40\n",
       "4  83741.0      1.52"
      ]
     },
     "execution_count": 181,
     "metadata": {},
     "output_type": "execute_result"
    }
   ],
   "source": [
    "selenium = selenium_raw[['SEQN', 'LBDSSESI']]\n",
    "selenium.head()"
   ]
  },
  {
   "cell_type": "markdown",
   "metadata": {},
   "source": [
    "### Urinary Cadmium - URXUCD"
   ]
  },
  {
   "cell_type": "code",
   "execution_count": 182,
   "metadata": {},
   "outputs": [],
   "source": [
    "cadmium_raw = pd.read_sas('Data/Laboratory/UM_I.XPT')"
   ]
  },
  {
   "cell_type": "code",
   "execution_count": 183,
   "metadata": {},
   "outputs": [
    {
     "data": {
      "text/html": [
       "<div>\n",
       "<style scoped>\n",
       "    .dataframe tbody tr th:only-of-type {\n",
       "        vertical-align: middle;\n",
       "    }\n",
       "\n",
       "    .dataframe tbody tr th {\n",
       "        vertical-align: top;\n",
       "    }\n",
       "\n",
       "    .dataframe thead th {\n",
       "        text-align: right;\n",
       "    }\n",
       "</style>\n",
       "<table border=\"1\" class=\"dataframe\">\n",
       "  <thead>\n",
       "    <tr style=\"text-align: right;\">\n",
       "      <th></th>\n",
       "      <th>SEQN</th>\n",
       "      <th>URXUCD</th>\n",
       "    </tr>\n",
       "  </thead>\n",
       "  <tbody>\n",
       "    <tr>\n",
       "      <td>0</td>\n",
       "      <td>83732.0</td>\n",
       "      <td>0.087</td>\n",
       "    </tr>\n",
       "    <tr>\n",
       "      <td>1</td>\n",
       "      <td>83733.0</td>\n",
       "      <td>1.315</td>\n",
       "    </tr>\n",
       "    <tr>\n",
       "      <td>2</td>\n",
       "      <td>83734.0</td>\n",
       "      <td>0.476</td>\n",
       "    </tr>\n",
       "    <tr>\n",
       "      <td>3</td>\n",
       "      <td>83738.0</td>\n",
       "      <td>0.025</td>\n",
       "    </tr>\n",
       "    <tr>\n",
       "      <td>4</td>\n",
       "      <td>83739.0</td>\n",
       "      <td>0.025</td>\n",
       "    </tr>\n",
       "  </tbody>\n",
       "</table>\n",
       "</div>"
      ],
      "text/plain": [
       "      SEQN  URXUCD\n",
       "0  83732.0   0.087\n",
       "1  83733.0   1.315\n",
       "2  83734.0   0.476\n",
       "3  83738.0   0.025\n",
       "4  83739.0   0.025"
      ]
     },
     "execution_count": 183,
     "metadata": {},
     "output_type": "execute_result"
    }
   ],
   "source": [
    "cadmium = cadmium_raw[['SEQN', 'URXUCD']]\n",
    "cadmium.head()"
   ]
  },
  {
   "cell_type": "markdown",
   "metadata": {},
   "source": [
    "## Merge Features"
   ]
  },
  {
   "cell_type": "markdown",
   "metadata": {},
   "source": [
    "We combine both the new invasive features with the non-invasive features from before to have a complete set of features for the invasive model."
   ]
  },
  {
   "cell_type": "code",
   "execution_count": 230,
   "metadata": {},
   "outputs": [
    {
     "data": {
      "text/html": [
       "<div>\n",
       "<style scoped>\n",
       "    .dataframe tbody tr th:only-of-type {\n",
       "        vertical-align: middle;\n",
       "    }\n",
       "\n",
       "    .dataframe tbody tr th {\n",
       "        vertical-align: top;\n",
       "    }\n",
       "\n",
       "    .dataframe thead th {\n",
       "        text-align: right;\n",
       "    }\n",
       "</style>\n",
       "<table border=\"1\" class=\"dataframe\">\n",
       "  <thead>\n",
       "    <tr style=\"text-align: right;\">\n",
       "      <th></th>\n",
       "      <th>DIQ010</th>\n",
       "      <th>RIDAGEYR</th>\n",
       "      <th>RIDRETH3</th>\n",
       "      <th>RIAGENDR</th>\n",
       "      <th>INDFMPIR</th>\n",
       "      <th>DMDHREDU</th>\n",
       "      <th>PAQ605</th>\n",
       "      <th>PAQ620</th>\n",
       "      <th>PAQ650</th>\n",
       "      <th>PAQ665</th>\n",
       "      <th>...</th>\n",
       "      <th>DPQ090</th>\n",
       "      <th>LBXGH</th>\n",
       "      <th>bloodp_sys</th>\n",
       "      <th>bloodp_dia</th>\n",
       "      <th>LBXGLU</th>\n",
       "      <th>URXUCR</th>\n",
       "      <th>LBDHDD</th>\n",
       "      <th>LBXTR</th>\n",
       "      <th>LBDSSESI</th>\n",
       "      <th>URXUCD</th>\n",
       "    </tr>\n",
       "  </thead>\n",
       "  <tbody>\n",
       "    <tr>\n",
       "      <td>0</td>\n",
       "      <td>1.0</td>\n",
       "      <td>62.0</td>\n",
       "      <td>3.0</td>\n",
       "      <td>1.0</td>\n",
       "      <td>4.39</td>\n",
       "      <td>5.0</td>\n",
       "      <td>2.0</td>\n",
       "      <td>1.0</td>\n",
       "      <td>2.0</td>\n",
       "      <td>1.0</td>\n",
       "      <td>...</td>\n",
       "      <td>0.0</td>\n",
       "      <td>7.0</td>\n",
       "      <td>122.666667</td>\n",
       "      <td>65.333333</td>\n",
       "      <td>NaN</td>\n",
       "      <td>41.0</td>\n",
       "      <td>46.0</td>\n",
       "      <td>NaN</td>\n",
       "      <td>1.79</td>\n",
       "      <td>0.087</td>\n",
       "    </tr>\n",
       "    <tr>\n",
       "      <td>1</td>\n",
       "      <td>2.0</td>\n",
       "      <td>53.0</td>\n",
       "      <td>3.0</td>\n",
       "      <td>1.0</td>\n",
       "      <td>1.32</td>\n",
       "      <td>3.0</td>\n",
       "      <td>2.0</td>\n",
       "      <td>2.0</td>\n",
       "      <td>2.0</td>\n",
       "      <td>2.0</td>\n",
       "      <td>...</td>\n",
       "      <td>0.0</td>\n",
       "      <td>5.5</td>\n",
       "      <td>140.000000</td>\n",
       "      <td>86.000000</td>\n",
       "      <td>101.0</td>\n",
       "      <td>181.0</td>\n",
       "      <td>63.0</td>\n",
       "      <td>147.0</td>\n",
       "      <td>1.66</td>\n",
       "      <td>1.315</td>\n",
       "    </tr>\n",
       "    <tr>\n",
       "      <td>2</td>\n",
       "      <td>1.0</td>\n",
       "      <td>78.0</td>\n",
       "      <td>3.0</td>\n",
       "      <td>1.0</td>\n",
       "      <td>1.51</td>\n",
       "      <td>3.0</td>\n",
       "      <td>2.0</td>\n",
       "      <td>1.0</td>\n",
       "      <td>2.0</td>\n",
       "      <td>2.0</td>\n",
       "      <td>...</td>\n",
       "      <td>0.0</td>\n",
       "      <td>5.8</td>\n",
       "      <td>135.333333</td>\n",
       "      <td>45.333333</td>\n",
       "      <td>84.0</td>\n",
       "      <td>70.0</td>\n",
       "      <td>30.0</td>\n",
       "      <td>269.0</td>\n",
       "      <td>1.61</td>\n",
       "      <td>0.476</td>\n",
       "    </tr>\n",
       "    <tr>\n",
       "      <td>3</td>\n",
       "      <td>2.0</td>\n",
       "      <td>56.0</td>\n",
       "      <td>3.0</td>\n",
       "      <td>2.0</td>\n",
       "      <td>5.00</td>\n",
       "      <td>5.0</td>\n",
       "      <td>2.0</td>\n",
       "      <td>1.0</td>\n",
       "      <td>2.0</td>\n",
       "      <td>2.0</td>\n",
       "      <td>...</td>\n",
       "      <td>1.0</td>\n",
       "      <td>5.6</td>\n",
       "      <td>134.000000</td>\n",
       "      <td>70.000000</td>\n",
       "      <td>NaN</td>\n",
       "      <td>102.0</td>\n",
       "      <td>61.0</td>\n",
       "      <td>NaN</td>\n",
       "      <td>NaN</td>\n",
       "      <td>NaN</td>\n",
       "    </tr>\n",
       "    <tr>\n",
       "      <td>4</td>\n",
       "      <td>2.0</td>\n",
       "      <td>42.0</td>\n",
       "      <td>4.0</td>\n",
       "      <td>2.0</td>\n",
       "      <td>1.23</td>\n",
       "      <td>4.0</td>\n",
       "      <td>2.0</td>\n",
       "      <td>1.0</td>\n",
       "      <td>2.0</td>\n",
       "      <td>2.0</td>\n",
       "      <td>...</td>\n",
       "      <td>0.0</td>\n",
       "      <td>5.6</td>\n",
       "      <td>104.000000</td>\n",
       "      <td>60.000000</td>\n",
       "      <td>84.0</td>\n",
       "      <td>315.0</td>\n",
       "      <td>53.0</td>\n",
       "      <td>47.0</td>\n",
       "      <td>NaN</td>\n",
       "      <td>NaN</td>\n",
       "    </tr>\n",
       "  </tbody>\n",
       "</table>\n",
       "<p>5 rows × 35 columns</p>\n",
       "</div>"
      ],
      "text/plain": [
       "   DIQ010  RIDAGEYR  RIDRETH3  RIAGENDR  INDFMPIR  DMDHREDU  PAQ605  PAQ620  \\\n",
       "0     1.0      62.0       3.0       1.0      4.39       5.0     2.0     1.0   \n",
       "1     2.0      53.0       3.0       1.0      1.32       3.0     2.0     2.0   \n",
       "2     1.0      78.0       3.0       1.0      1.51       3.0     2.0     1.0   \n",
       "3     2.0      56.0       3.0       2.0      5.00       5.0     2.0     1.0   \n",
       "4     2.0      42.0       4.0       2.0      1.23       4.0     2.0     1.0   \n",
       "\n",
       "   PAQ650  PAQ665  ...  DPQ090  LBXGH  bloodp_sys  bloodp_dia  LBXGLU  URXUCR  \\\n",
       "0     2.0     1.0  ...     0.0    7.0  122.666667   65.333333     NaN    41.0   \n",
       "1     2.0     2.0  ...     0.0    5.5  140.000000   86.000000   101.0   181.0   \n",
       "2     2.0     2.0  ...     0.0    5.8  135.333333   45.333333    84.0    70.0   \n",
       "3     2.0     2.0  ...     1.0    5.6  134.000000   70.000000     NaN   102.0   \n",
       "4     2.0     2.0  ...     0.0    5.6  104.000000   60.000000    84.0   315.0   \n",
       "\n",
       "   LBDHDD  LBXTR  LBDSSESI  URXUCD  \n",
       "0    46.0    NaN      1.79   0.087  \n",
       "1    63.0  147.0      1.66   1.315  \n",
       "2    30.0  269.0      1.61   0.476  \n",
       "3    61.0    NaN       NaN     NaN  \n",
       "4    53.0   47.0       NaN     NaN  \n",
       "\n",
       "[5 rows x 35 columns]"
      ]
     },
     "execution_count": 230,
     "metadata": {},
     "output_type": "execute_result"
    }
   ],
   "source": [
    "features_arr = [age, race, gender, income, educ, phys_activity, diet, bmi, waist,\n",
    "                hypertension, smoke, alc1, alc2, depression, glycohemoglobin_raw,\n",
    "                blood_pressure, gluc, creatinine, hdl, trigly, selenium, cadmium]\n",
    "\n",
    "# features_arr = [age, race, gender, income, educ, diet, bmi, waist,\n",
    "#                 hypertension, depression, glycohemoglobin_raw,\n",
    "#                 blood_pressure, hdl, creatinine]\n",
    "\n",
    "# Need to include labels in order to merge every new variable on the people who are labeled\n",
    "features = labels\n",
    "\n",
    "for feature in features_arr:\n",
    "    features = pd.merge(features, feature, how='left', on='SEQN')\n",
    "features = features.drop(['SEQN'], axis=1)\n",
    "features.head()"
   ]
  },
  {
   "cell_type": "code",
   "execution_count": 231,
   "metadata": {},
   "outputs": [
    {
     "data": {
      "text/plain": [
       "DIQ010           0\n",
       "RIDRETH3         0\n",
       "RIAGENDR         0\n",
       "DMDHREDU       412\n",
       "BMXBMI         819\n",
       "INDFMPIR      1022\n",
       "BMXWAIST      1262\n",
       "URXUCR        1295\n",
       "bloodp_sys    2212\n",
       "bloodp_dia    2212\n",
       "LBDHDD        2319\n",
       "PAQ605        2612\n",
       "PAQ650        2617\n",
       "PAQ620        2618\n",
       "PAQ665        2619\n",
       "DBQ700        3249\n",
       "LBXGH         3249\n",
       "BPQ020        3254\n",
       "RIDAGEYR      3583\n",
       "SMQ020        3594\n",
       "ALQ101        4370\n",
       "DPQ090        4441\n",
       "DPQ080        4441\n",
       "DPQ010        4441\n",
       "DPQ060        4441\n",
       "DPQ050        4441\n",
       "DPQ040        4441\n",
       "DPQ030        4441\n",
       "DPQ020        4441\n",
       "DPQ070        4441\n",
       "ALQ120Q       5395\n",
       "URXUCD        6511\n",
       "LBXGLU        6601\n",
       "LBXTR         6850\n",
       "LBDSSESI      7136\n",
       "dtype: int64"
      ]
     },
     "execution_count": 231,
     "metadata": {},
     "output_type": "execute_result"
    }
   ],
   "source": [
    "# Check for number of null values\n",
    "features.isnull().sum().sort_values()"
   ]
  },
  {
   "cell_type": "code",
   "execution_count": 232,
   "metadata": {},
   "outputs": [],
   "source": [
    "# Drop null values\n",
    "features = features.dropna(axis=0)"
   ]
  },
  {
   "cell_type": "code",
   "execution_count": 233,
   "metadata": {},
   "outputs": [
    {
     "data": {
      "text/plain": [
       "2.0    416\n",
       "1.0     69\n",
       "Name: DIQ010, dtype: int64"
      ]
     },
     "execution_count": 233,
     "metadata": {},
     "output_type": "execute_result"
    }
   ],
   "source": [
    "# How many non-diabetics vs diabetics\n",
    "features.DIQ010.value_counts()"
   ]
  },
  {
   "cell_type": "markdown",
   "metadata": {},
   "source": [
    "I split the labels and features in preparation for model building."
   ]
  },
  {
   "cell_type": "code",
   "execution_count": 234,
   "metadata": {},
   "outputs": [
    {
     "data": {
      "text/html": [
       "<div>\n",
       "<style scoped>\n",
       "    .dataframe tbody tr th:only-of-type {\n",
       "        vertical-align: middle;\n",
       "    }\n",
       "\n",
       "    .dataframe tbody tr th {\n",
       "        vertical-align: top;\n",
       "    }\n",
       "\n",
       "    .dataframe thead th {\n",
       "        text-align: right;\n",
       "    }\n",
       "</style>\n",
       "<table border=\"1\" class=\"dataframe\">\n",
       "  <thead>\n",
       "    <tr style=\"text-align: right;\">\n",
       "      <th></th>\n",
       "      <th>DIQ010</th>\n",
       "    </tr>\n",
       "  </thead>\n",
       "  <tbody>\n",
       "    <tr>\n",
       "      <td>1</td>\n",
       "      <td>2.0</td>\n",
       "    </tr>\n",
       "    <tr>\n",
       "      <td>2</td>\n",
       "      <td>1.0</td>\n",
       "    </tr>\n",
       "    <tr>\n",
       "      <td>9</td>\n",
       "      <td>2.0</td>\n",
       "    </tr>\n",
       "    <tr>\n",
       "      <td>25</td>\n",
       "      <td>1.0</td>\n",
       "    </tr>\n",
       "    <tr>\n",
       "      <td>29</td>\n",
       "      <td>2.0</td>\n",
       "    </tr>\n",
       "  </tbody>\n",
       "</table>\n",
       "</div>"
      ],
      "text/plain": [
       "    DIQ010\n",
       "1      2.0\n",
       "2      1.0\n",
       "9      2.0\n",
       "25     1.0\n",
       "29     2.0"
      ]
     },
     "execution_count": 234,
     "metadata": {},
     "output_type": "execute_result"
    }
   ],
   "source": [
    "labels1 = features[['DIQ010']]\n",
    "labels1.head()"
   ]
  },
  {
   "cell_type": "code",
   "execution_count": 235,
   "metadata": {},
   "outputs": [
    {
     "data": {
      "text/html": [
       "<div>\n",
       "<style scoped>\n",
       "    .dataframe tbody tr th:only-of-type {\n",
       "        vertical-align: middle;\n",
       "    }\n",
       "\n",
       "    .dataframe tbody tr th {\n",
       "        vertical-align: top;\n",
       "    }\n",
       "\n",
       "    .dataframe thead th {\n",
       "        text-align: right;\n",
       "    }\n",
       "</style>\n",
       "<table border=\"1\" class=\"dataframe\">\n",
       "  <thead>\n",
       "    <tr style=\"text-align: right;\">\n",
       "      <th></th>\n",
       "      <th>RIDAGEYR</th>\n",
       "      <th>RIDRETH3</th>\n",
       "      <th>RIAGENDR</th>\n",
       "      <th>INDFMPIR</th>\n",
       "      <th>DMDHREDU</th>\n",
       "      <th>PAQ605</th>\n",
       "      <th>PAQ620</th>\n",
       "      <th>PAQ650</th>\n",
       "      <th>PAQ665</th>\n",
       "      <th>DBQ700</th>\n",
       "      <th>...</th>\n",
       "      <th>DPQ090</th>\n",
       "      <th>LBXGH</th>\n",
       "      <th>bloodp_sys</th>\n",
       "      <th>bloodp_dia</th>\n",
       "      <th>LBXGLU</th>\n",
       "      <th>URXUCR</th>\n",
       "      <th>LBDHDD</th>\n",
       "      <th>LBXTR</th>\n",
       "      <th>LBDSSESI</th>\n",
       "      <th>URXUCD</th>\n",
       "    </tr>\n",
       "  </thead>\n",
       "  <tbody>\n",
       "    <tr>\n",
       "      <td>1</td>\n",
       "      <td>53.0</td>\n",
       "      <td>3.0</td>\n",
       "      <td>1.0</td>\n",
       "      <td>1.320000e+00</td>\n",
       "      <td>3.0</td>\n",
       "      <td>2.0</td>\n",
       "      <td>2.0</td>\n",
       "      <td>2.0</td>\n",
       "      <td>2.0</td>\n",
       "      <td>1.0</td>\n",
       "      <td>...</td>\n",
       "      <td>0.0</td>\n",
       "      <td>5.5</td>\n",
       "      <td>140.000000</td>\n",
       "      <td>86.000000</td>\n",
       "      <td>101.0</td>\n",
       "      <td>181.0</td>\n",
       "      <td>63.0</td>\n",
       "      <td>147.0</td>\n",
       "      <td>1.66</td>\n",
       "      <td>1.315</td>\n",
       "    </tr>\n",
       "    <tr>\n",
       "      <td>2</td>\n",
       "      <td>78.0</td>\n",
       "      <td>3.0</td>\n",
       "      <td>1.0</td>\n",
       "      <td>1.510000e+00</td>\n",
       "      <td>3.0</td>\n",
       "      <td>2.0</td>\n",
       "      <td>1.0</td>\n",
       "      <td>2.0</td>\n",
       "      <td>2.0</td>\n",
       "      <td>4.0</td>\n",
       "      <td>...</td>\n",
       "      <td>0.0</td>\n",
       "      <td>5.8</td>\n",
       "      <td>135.333333</td>\n",
       "      <td>45.333333</td>\n",
       "      <td>84.0</td>\n",
       "      <td>70.0</td>\n",
       "      <td>30.0</td>\n",
       "      <td>269.0</td>\n",
       "      <td>1.61</td>\n",
       "      <td>0.476</td>\n",
       "    </tr>\n",
       "    <tr>\n",
       "      <td>9</td>\n",
       "      <td>22.0</td>\n",
       "      <td>4.0</td>\n",
       "      <td>1.0</td>\n",
       "      <td>2.080000e+00</td>\n",
       "      <td>4.0</td>\n",
       "      <td>2.0</td>\n",
       "      <td>2.0</td>\n",
       "      <td>1.0</td>\n",
       "      <td>2.0</td>\n",
       "      <td>3.0</td>\n",
       "      <td>...</td>\n",
       "      <td>0.0</td>\n",
       "      <td>5.6</td>\n",
       "      <td>111.333333</td>\n",
       "      <td>72.666667</td>\n",
       "      <td>95.0</td>\n",
       "      <td>75.0</td>\n",
       "      <td>48.0</td>\n",
       "      <td>68.0</td>\n",
       "      <td>1.52</td>\n",
       "      <td>0.079</td>\n",
       "    </tr>\n",
       "    <tr>\n",
       "      <td>25</td>\n",
       "      <td>57.0</td>\n",
       "      <td>2.0</td>\n",
       "      <td>2.0</td>\n",
       "      <td>7.700000e-01</td>\n",
       "      <td>1.0</td>\n",
       "      <td>1.0</td>\n",
       "      <td>1.0</td>\n",
       "      <td>2.0</td>\n",
       "      <td>1.0</td>\n",
       "      <td>5.0</td>\n",
       "      <td>...</td>\n",
       "      <td>0.0</td>\n",
       "      <td>13.0</td>\n",
       "      <td>142.666667</td>\n",
       "      <td>62.666667</td>\n",
       "      <td>398.0</td>\n",
       "      <td>50.0</td>\n",
       "      <td>43.0</td>\n",
       "      <td>137.0</td>\n",
       "      <td>2.33</td>\n",
       "      <td>0.108</td>\n",
       "    </tr>\n",
       "    <tr>\n",
       "      <td>29</td>\n",
       "      <td>24.0</td>\n",
       "      <td>6.0</td>\n",
       "      <td>2.0</td>\n",
       "      <td>5.397605e-79</td>\n",
       "      <td>5.0</td>\n",
       "      <td>2.0</td>\n",
       "      <td>2.0</td>\n",
       "      <td>2.0</td>\n",
       "      <td>2.0</td>\n",
       "      <td>3.0</td>\n",
       "      <td>...</td>\n",
       "      <td>0.0</td>\n",
       "      <td>5.7</td>\n",
       "      <td>107.333333</td>\n",
       "      <td>61.333333</td>\n",
       "      <td>95.0</td>\n",
       "      <td>45.0</td>\n",
       "      <td>41.0</td>\n",
       "      <td>201.0</td>\n",
       "      <td>1.74</td>\n",
       "      <td>0.364</td>\n",
       "    </tr>\n",
       "  </tbody>\n",
       "</table>\n",
       "<p>5 rows × 34 columns</p>\n",
       "</div>"
      ],
      "text/plain": [
       "    RIDAGEYR  RIDRETH3  RIAGENDR      INDFMPIR  DMDHREDU  PAQ605  PAQ620  \\\n",
       "1       53.0       3.0       1.0  1.320000e+00       3.0     2.0     2.0   \n",
       "2       78.0       3.0       1.0  1.510000e+00       3.0     2.0     1.0   \n",
       "9       22.0       4.0       1.0  2.080000e+00       4.0     2.0     2.0   \n",
       "25      57.0       2.0       2.0  7.700000e-01       1.0     1.0     1.0   \n",
       "29      24.0       6.0       2.0  5.397605e-79       5.0     2.0     2.0   \n",
       "\n",
       "    PAQ650  PAQ665  DBQ700  ...  DPQ090  LBXGH  bloodp_sys  bloodp_dia  \\\n",
       "1      2.0     2.0     1.0  ...     0.0    5.5  140.000000   86.000000   \n",
       "2      2.0     2.0     4.0  ...     0.0    5.8  135.333333   45.333333   \n",
       "9      1.0     2.0     3.0  ...     0.0    5.6  111.333333   72.666667   \n",
       "25     2.0     1.0     5.0  ...     0.0   13.0  142.666667   62.666667   \n",
       "29     2.0     2.0     3.0  ...     0.0    5.7  107.333333   61.333333   \n",
       "\n",
       "    LBXGLU  URXUCR  LBDHDD  LBXTR  LBDSSESI  URXUCD  \n",
       "1    101.0   181.0    63.0  147.0      1.66   1.315  \n",
       "2     84.0    70.0    30.0  269.0      1.61   0.476  \n",
       "9     95.0    75.0    48.0   68.0      1.52   0.079  \n",
       "25   398.0    50.0    43.0  137.0      2.33   0.108  \n",
       "29    95.0    45.0    41.0  201.0      1.74   0.364  \n",
       "\n",
       "[5 rows x 34 columns]"
      ]
     },
     "execution_count": 235,
     "metadata": {},
     "output_type": "execute_result"
    }
   ],
   "source": [
    "features1 = features.drop('DIQ010', axis=1)\n",
    "features1.head()"
   ]
  },
  {
   "cell_type": "markdown",
   "metadata": {},
   "source": [
    "## Model Building"
   ]
  },
  {
   "cell_type": "markdown",
   "metadata": {},
   "source": [
    "After preparing the features, I now run the CART tree algorithms again to see whether any CART tree has improved recall and accuracy. I first look at the deafult CART tree that contains class imbalances."
   ]
  },
  {
   "cell_type": "code",
   "execution_count": 237,
   "metadata": {},
   "outputs": [
    {
     "name": "stdout",
     "output_type": "stream",
     "text": [
      "Accuracy:  84.89 %\n",
      "\n",
      "Diabetics\n",
      "---------\n",
      "Recall_1:  50.03 %\n",
      "Precision_1:  47.36 %\n",
      "F1-Score_1 47.51 %\n",
      "\n",
      "Non-diabetics\n",
      "-------------\n",
      "Recall_2:  90.7 %\n",
      "Precision_2:  91.66 %\n",
      "F1-Score_2 91.11 %\n"
     ]
    }
   ],
   "source": [
    "results = cart_def(features1, labels1, None)\n",
    "print('Accuracy: ', results[1], '%\\n')\n",
    "\n",
    "print('Diabetics')\n",
    "print('---------')\n",
    "print('Recall_1: ', results[2], '%')\n",
    "print('Precision_1: ', results[3], '%')\n",
    "print('F1-Score_1', results[4], '%\\n')\n",
    "\n",
    "print('Non-diabetics')\n",
    "print('-------------')\n",
    "print('Recall_2: ', results[5], '%')\n",
    "print('Precision_2: ', results[6], '%')\n",
    "print('F1-Score_2', results[7], '%')"
   ]
  },
  {
   "cell_type": "markdown",
   "metadata": {},
   "source": [
    "Compared to the non-invasive model, this invasive model has improved the recall from 29.8% to 50.03% for the diabetics class while accuracy improved from 79.04% to 84.89%. Next, let's look at the CART tree that oversamples the minority diabetic class."
   ]
  },
  {
   "cell_type": "code",
   "execution_count": 238,
   "metadata": {},
   "outputs": [
    {
     "name": "stdout",
     "output_type": "stream",
     "text": [
      "Accuracy:  85.44 %\n",
      "\n",
      "Diabetics\n",
      "---------\n",
      "Recall_1:  48.84 %\n",
      "Precision_1:  49.81 %\n",
      "F1-Score_1 48.07 %\n",
      "\n",
      "Non-diabetics\n",
      "-------------\n",
      "Recall_2:  91.62 %\n",
      "Precision_2:  91.45 %\n",
      "F1-Score_2 91.47 %\n"
     ]
    }
   ],
   "source": [
    "results = cart_upsample(features1, labels1, None)\n",
    "print('Accuracy: ', results[1], '%\\n')\n",
    "\n",
    "print('Diabetics')\n",
    "print('---------')\n",
    "print('Recall_1: ', results[2], '%')\n",
    "print('Precision_1: ', results[3], '%')\n",
    "print('F1-Score_1', results[4], '%\\n')\n",
    "\n",
    "print('Non-diabetics')\n",
    "print('-------------')\n",
    "print('Recall_2: ', results[5], '%')\n",
    "print('Precision_2: ', results[6], '%')\n",
    "print('F1-Score_2', results[7], '%')"
   ]
  },
  {
   "cell_type": "markdown",
   "metadata": {},
   "source": [
    "Compared to the non-invasive model, this invasive model has improved the recall from 26.6% to 48.84% for the diabetics class while accuracy improved from 79.66% to 85.44%. This is similar improvement compared to the default invasive CART tree model above. Finally, let's look at the invasive CART tree that undersamples the minority diabetic class."
   ]
  },
  {
   "cell_type": "code",
   "execution_count": 239,
   "metadata": {},
   "outputs": [
    {
     "name": "stdout",
     "output_type": "stream",
     "text": [
      "Accuracy:  75.05 %\n",
      "\n",
      "Diabetics\n",
      "---------\n",
      "Recall_1:  73.89 %\n",
      "Precision_1:  33.16 %\n",
      "F1-Score_1 45.06 %\n",
      "\n",
      "Non-diabetics\n",
      "-------------\n",
      "Recall_2:  75.25 %\n",
      "Precision_2:  94.65 %\n",
      "F1-Score_2 83.68 %\n"
     ]
    }
   ],
   "source": [
    "results = cart_downsample(features1, labels1, None)\n",
    "print('Accuracy: ', results[1], '%\\n')\n",
    "\n",
    "print('Diabetics')\n",
    "print('---------')\n",
    "print('Recall_1: ', results[2], '%')\n",
    "print('Precision_1: ', results[3], '%')\n",
    "print('F1-Score_1', results[4], '%\\n')\n",
    "\n",
    "print('Non-diabetics')\n",
    "print('-------------')\n",
    "print('Recall_2: ', results[5], '%')\n",
    "print('Precision_2: ', results[6], '%')\n",
    "print('F1-Score_2', results[7], '%')"
   ]
  },
  {
   "cell_type": "markdown",
   "metadata": {},
   "source": [
    "Compared to the non-invasive model, this invasive model has improved the recall from 64.01% to 73.89% for the diabetics class while accuracy improved from 64.48% to 75.05%.\n",
    "\n",
    "Overall it seems that for all three models, the inclusion of invasive features has improved overall recall rate for the diabetics class as well as overall model accuracy. This makes sense since the invasive features include that of fasting glucose and glycohemoglobin, which are the most important measurements taken when diagnosing diabetics."
   ]
  },
  {
   "cell_type": "code",
   "execution_count": 1,
   "metadata": {},
   "outputs": [],
   "source": [
    "import pandas as pd"
   ]
  },
  {
   "cell_type": "code",
   "execution_count": null,
   "metadata": {},
   "outputs": [],
   "source": [
    "a = ['default',17,79.01,29.95,27.16,28.36,86.98,88.45,87.70]\n",
    "b = ['oversample',3,67.50,75.14,26.74,39.24,66.26,94.33,77.69]\n",
    "c = ['undersample',3,67.21,74.98,26.65,39.08,65.95,94.27,77.40]\n",
    "pd.DataFrame([a, b, c], columns=['CART-type','max_depth', 'accuracy', 'recall_1', 'precision_1', 'f1_1',\n",
    "                                       'recall_2', 'precision_2', 'f1_2'])"
   ]
  },
  {
   "cell_type": "code",
   "execution_count": null,
   "metadata": {},
   "outputs": [],
   "source": []
  }
 ],
 "metadata": {
  "kernelspec": {
   "display_name": "Python 3",
   "language": "python",
   "name": "python3"
  },
  "language_info": {
   "codemirror_mode": {
    "name": "ipython",
    "version": 3
   },
   "file_extension": ".py",
   "mimetype": "text/x-python",
   "name": "python",
   "nbconvert_exporter": "python",
   "pygments_lexer": "ipython3",
   "version": "3.7.4"
  }
 },
 "nbformat": 4,
 "nbformat_minor": 2
}
